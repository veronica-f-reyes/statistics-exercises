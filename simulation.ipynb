{
 "cells": [
  {
   "cell_type": "markdown",
   "id": "cddf598d",
   "metadata": {},
   "source": [
    "# Simulation Exercises"
   ]
  },
  {
   "cell_type": "code",
   "execution_count": 11,
   "id": "922a1bcf",
   "metadata": {},
   "outputs": [],
   "source": [
    "import numpy as np\n",
    "import pandas as pd"
   ]
  },
  {
   "cell_type": "markdown",
   "id": "b0435e38",
   "metadata": {},
   "source": [
    "### 1. How likely is it that you roll doubles when rolling two dice?"
   ]
  },
  {
   "cell_type": "code",
   "execution_count": 28,
   "id": "4e541f74",
   "metadata": {},
   "outputs": [
    {
     "data": {
      "text/plain": [
       "0.1599"
      ]
     },
     "execution_count": 28,
     "metadata": {},
     "output_type": "execute_result"
    }
   ],
   "source": [
    "\n",
    "# What's the probability of rolling doubles on 2 dice\n",
    "outcomes = [1, 2, 3, 4, 5, 6]\n",
    "n_simulations = 10_000\n",
    "\n",
    "die1 = np.random.choice(outcomes, size=n_simulations)\n",
    "die2 = np.random.choice(outcomes, size=n_simulations)\n",
    "\n",
    "\n",
    "# subset of two dice matching\n",
    "d1_rolled_d2 = die1 == die2\n",
    "d2_rolled_d1 = die2 == die1\n",
    "# combined \n",
    "rolled_doubles = d1_rolled_d2 & d2_rolled_d1\n",
    "rolled_doubles.mean()"
   ]
  },
  {
   "cell_type": "markdown",
   "id": "3bd8c21e",
   "metadata": {},
   "source": [
    "### 2.  If you flip 8 coins, what is the probability of getting exactly 3 heads? What is the probability of getting more than 3 heads?"
   ]
  },
  {
   "cell_type": "code",
   "execution_count": 32,
   "id": "bf470703",
   "metadata": {},
   "outputs": [
    {
     "data": {
      "text/plain": [
       "array([[0, 1, 0, 1, 1, 0, 1, 1],\n",
       "       [0, 0, 0, 0, 1, 1, 1, 1],\n",
       "       [1, 0, 0, 1, 1, 1, 1, 1],\n",
       "       [1, 0, 0, 1, 0, 0, 1, 0],\n",
       "       [0, 0, 1, 0, 0, 1, 0, 1]])"
      ]
     },
     "execution_count": 32,
     "metadata": {},
     "output_type": "execute_result"
    }
   ],
   "source": [
    "# let's say Heads is 1 and Tails is 0\n",
    "outcomes = [1, 0]\n",
    "\n",
    "# Step 2: Create a matrix of random data where rows=simulations, columns=trial\n",
    "\n",
    "# Simulation = the number of times we run the experiment\n",
    "# Trials = the number of things in each experiment\n",
    "n_simulations = 1_000_000\n",
    "n_trials = 8 # b/c we're flipping 8 coins with each experiment\n",
    "\n",
    "# size argument can set our simulation and trial size\n",
    "flips = np.random.choice(outcomes, size=(n_simulations, n_trials))\n",
    "flips [0:5]"
   ]
  },
  {
   "cell_type": "code",
   "execution_count": 33,
   "id": "04265238",
   "metadata": {},
   "outputs": [
    {
     "data": {
      "text/plain": [
       "array([5, 4, 6, ..., 3, 3, 3])"
      ]
     },
     "execution_count": 33,
     "metadata": {},
     "output_type": "execute_result"
    }
   ],
   "source": [
    "# count the number of heads that came up per each 8 coin flip\n",
    "num_of_heads = flips.sum(axis=1)\n",
    "num_of_heads"
   ]
  },
  {
   "cell_type": "code",
   "execution_count": 34,
   "id": "8b8e5ab8",
   "metadata": {},
   "outputs": [
    {
     "data": {
      "text/plain": [
       "0.21849"
      ]
     },
     "execution_count": 34,
     "metadata": {},
     "output_type": "execute_result"
    }
   ],
   "source": [
    "#get the probabibility of getting exactly 3 heads\n",
    "(num_of_heads == 3).mean()"
   ]
  },
  {
   "cell_type": "code",
   "execution_count": 35,
   "id": "02109890",
   "metadata": {},
   "outputs": [
    {
     "data": {
      "text/plain": [
       "0.636707"
      ]
     },
     "execution_count": 35,
     "metadata": {},
     "output_type": "execute_result"
    }
   ],
   "source": [
    "# get the probability of getting more than 3 heads\n",
    "(num_of_heads > 3).mean()"
   ]
  },
  {
   "cell_type": "markdown",
   "id": "70afbe9d",
   "metadata": {},
   "source": [
    "### 3. There are approximitely 3 web development cohorts for every 1 data science cohort at Codeup. Assuming that Codeup randomly selects an alumni to put on a billboard, what are the odds that the two billboards I drive past both have data science students on them?"
   ]
  },
  {
   "cell_type": "code",
   "execution_count": 37,
   "id": "92760807",
   "metadata": {},
   "outputs": [
    {
     "data": {
      "text/plain": [
       "0.062732"
      ]
     },
     "execution_count": 37,
     "metadata": {},
     "output_type": "execute_result"
    }
   ],
   "source": [
    "# What are the odds that the two billboards I drive past both have data science students on them?\n",
    "\n",
    "# Step 1, represent our data's outcomes\n",
    "# Let's say Web Development is 1 and Data Science is 0\n",
    "\n",
    "outcomes = [1, 0]\n",
    "\n",
    "# Step 2, create the data\n",
    "n_simulations = 1_000_000\n",
    "\n",
    "picks = np.random.choice(outcomes, size=(n_simulations, 2), p=[0.75, 0.25])\n",
    "\n",
    "# What are the chances we drive by two data science students on billboards?\n",
    "num_of_data_science_students = picks.sum(axis=1)\n",
    "(num_of_data_science_students == 0).mean()\n",
    "\n"
   ]
  },
  {
   "cell_type": "markdown",
   "id": "96e03d3b",
   "metadata": {},
   "source": [
    "### 4. Codeup students buy, on average, 3 poptart packages (+- 1.5) a day from the snack vending machine. If on monday the machine is restocked with 17 poptart packages, how likely is it that I will be able to buy some poptarts on Friday afternoon?"
   ]
  },
  {
   "cell_type": "code",
   "execution_count": 44,
   "id": "2ab51cdd",
   "metadata": {},
   "outputs": [
    {
     "data": {
      "text/plain": [
       "0.274979"
      ]
     },
     "execution_count": 44,
     "metadata": {},
     "output_type": "execute_result"
    }
   ],
   "source": [
    "# How likely is it that I will be able to buy some poptarts on Friday afternoon?\n",
    "\n",
    "n_simulations = 1_000_000\n",
    "n_trials = 5 \n",
    "pt = np.random.normal(3, 1.5, size = (n_simulations, n_trials))\n",
    "\n",
    "# What are the chances we are able to buy PopTarts on a Friday afternoon?\n",
    "num = pt.sum(axis=1)\n",
    "(num > 17).mean()\n"
   ]
  },
  {
   "cell_type": "markdown",
   "id": "0b7ad638",
   "metadata": {},
   "source": [
    "### 5. Compare Heights\n",
    "\n",
    "    Men have an average height of 178 cm and standard deviation of 8cm.\n",
    "    Women have a mean of 170, sd = 6cm.\n",
    "    Since you have means and standard deviations, you can use np.random.normal to generate observations.\n",
    "    If a man and woman are chosen at random, P(woman taller than man)?"
   ]
  },
  {
   "cell_type": "code",
   "execution_count": 107,
   "id": "898a9d01",
   "metadata": {},
   "outputs": [
    {
     "data": {
      "text/plain": [
       "0.21166"
      ]
     },
     "execution_count": 107,
     "metadata": {},
     "output_type": "execute_result"
    }
   ],
   "source": [
    "#If a man and woman are chosen at random, P(woman taller than man)?\n",
    "\n",
    "n_simulations = 1_000_000\n",
    "\n",
    "male_height = np.random.normal(178, 8, size=(n_simulations, 1))\n",
    "women_height = np.random.normal(170, 6, size=(n_simulations, 1))\n",
    "\n",
    "(women_height > male_height).mean()\n"
   ]
  },
  {
   "cell_type": "markdown",
   "id": "acb90919",
   "metadata": {},
   "source": [
    "### 6. When installing anaconda on a student's computer, there's a 1 in 250 chance that the download is corrupted and the installation fails. \n",
    "    What are the odds that after having 50 students download anaconda, no one has an installation issue? \n",
    "    100 students?\n",
    "\n",
    "    What is the probability that we observe an installation issue within the first 150 students that download anaconda?\n",
    "\n",
    "    How likely is it that 450 students all download anaconda without an issue?\n",
    "    \n",
    "    "
   ]
  },
  {
   "cell_type": "code",
   "execution_count": 108,
   "id": "184071c7",
   "metadata": {},
   "outputs": [
    {
     "data": {
      "text/plain": [
       "0.818148"
      ]
     },
     "execution_count": 108,
     "metadata": {},
     "output_type": "execute_result"
    }
   ],
   "source": [
    "# What are the odds that after having 50 students download anaconda, no one has an installation issue? \n",
    "\n",
    "# Let's say a successful download is 1, and a failure is 0 \n",
    "outcomes = [1,0]\n",
    "\n",
    "p_fail = 0.004\n",
    "n_students = 50\n",
    "n_simulations = 1_000_000\n",
    "\n",
    "downloads = np.random.choice(outcomes, size=(n_simulations, n_students), p =[0.996, 0.004])\n",
    "\n",
    "# What are the odds that after having 50 students download anaconda, no one has an installation issue? \n",
    "num_success = downloads.sum(axis=1)\n",
    "(num_success == 50).mean()\n"
   ]
  },
  {
   "cell_type": "code",
   "execution_count": 109,
   "id": "132ee127",
   "metadata": {},
   "outputs": [
    {
     "data": {
      "text/plain": [
       "0.669911"
      ]
     },
     "execution_count": 109,
     "metadata": {},
     "output_type": "execute_result"
    }
   ],
   "source": [
    "# What are the odds that after having 100 students download anaconda, no one has an installation issue? \n",
    "n_students = 100\n",
    "n_simulations = 1_000_000\n",
    "\n",
    "downloads = np.random.choice(outcomes, size=(n_simulations, n_students), p =[0.996, 0.004])\n",
    "\n",
    "# What are the odds that after having 100 students download anaconda, no one has an installation issue? \n",
    "num_success = downloads.sum(axis=1)\n",
    "(num_success == 100).mean()"
   ]
  },
  {
   "cell_type": "code",
   "execution_count": 110,
   "id": "d65dc146",
   "metadata": {},
   "outputs": [
    {
     "data": {
      "text/plain": [
       "0.548372"
      ]
     },
     "execution_count": 110,
     "metadata": {},
     "output_type": "execute_result"
    }
   ],
   "source": [
    "# What is the probability that we observe an installation issue within the first 150 students that download anaconda?\n",
    "n_students = 150\n",
    "n_simulations = 1_000_000\n",
    "\n",
    "downloads = np.random.choice(outcomes, size=(n_simulations, n_students), p =[0.996, 0.004])\n",
    "\n",
    "# What are the odds that after having 100 students download anaconda, no one has an installation issue? \n",
    "num_success = downloads.sum(axis=1)\n",
    "(num_success >= 150).mean()"
   ]
  },
  {
   "cell_type": "code",
   "execution_count": 83,
   "id": "e253590c",
   "metadata": {},
   "outputs": [
    {
     "data": {
      "text/plain": [
       "0.164173"
      ]
     },
     "execution_count": 83,
     "metadata": {},
     "output_type": "execute_result"
    }
   ],
   "source": [
    "#How likely is it that 450 students all download anaconda without an issue?\n",
    "n_students = 450\n",
    "n_simulations = 1_000_000\n",
    "\n",
    "downloads = np.random.choice(outcomes, size=(n_simulations, n_students), p =[0.996, 0.004])\n",
    "\n",
    "# What are the odds that after having 100 students download anaconda, no one has an installation issue? \n",
    "num_success = downloads.sum(axis=1)\n",
    "(num_success == 450).mean()\n"
   ]
  },
  {
   "cell_type": "markdown",
   "id": "8dcd0f28",
   "metadata": {},
   "source": [
    "### There's a 70% chance on any given day that there will be at least one food truck at Travis Park. However, you haven't seen a food truck there in 3 days. How unlikely is this?\n",
    "\n",
    "How likely is it that a food truck will show up sometime this week?"
   ]
  },
  {
   "cell_type": "code",
   "execution_count": 105,
   "id": "1cbffd56",
   "metadata": {},
   "outputs": [
    {
     "data": {
      "text/plain": [
       "0.096904"
      ]
     },
     "execution_count": 105,
     "metadata": {},
     "output_type": "execute_result"
    }
   ],
   "source": [
    "p_truck = .7\n",
    "ndays = 7\n",
    "n_simulations = 1_000_000\n",
    "\n",
    "data = np.random.random((n_simulations, ndays))\n",
    "\n",
    "food_truck_day = data < p_truck\n",
    "\n",
    "# How unlikely is this?\n",
    "(food_truck_day.sum(axis=1) == 3).mean()"
   ]
  },
  {
   "cell_type": "code",
   "execution_count": 106,
   "id": "17f35b3e",
   "metadata": {},
   "outputs": [
    {
     "data": {
      "text/plain": [
       "0.874313"
      ]
     },
     "execution_count": 106,
     "metadata": {},
     "output_type": "execute_result"
    }
   ],
   "source": [
    "#How likely is it that a food truck will show up sometime this week?\n",
    "(food_truck_day.sum(axis=1) > 3).mean()"
   ]
  },
  {
   "cell_type": "code",
   "execution_count": 102,
   "id": "cd112865",
   "metadata": {},
   "outputs": [
    {
     "data": {
      "text/plain": [
       "0.026"
      ]
     },
     "execution_count": 102,
     "metadata": {},
     "output_type": "execute_result"
    }
   ],
   "source": [
    "#Another approach\n",
    "outcomes = [0,1]\n",
    "n_days = 3\n",
    "#0 is no truck, 1 is a truck(s)\n",
    "truck_in_park = np.random.choice(outcomes, size = (10_000, n_days), p = (.3, .7))\n",
    "\n",
    "truck_sighting = truck_in_park.sum(axis=1)\n",
    "(truck_sighting == 0).mean()"
   ]
  },
  {
   "cell_type": "code",
   "execution_count": null,
   "id": "b6852433",
   "metadata": {},
   "outputs": [],
   "source": []
  },
  {
   "cell_type": "markdown",
   "id": "7ee9768f",
   "metadata": {},
   "source": [
    "### If 23 people are in the same room, what are the odds that two of them share a birthday? What if it's 20 people? 40?"
   ]
  },
  {
   "cell_type": "code",
   "execution_count": 94,
   "id": "44abb779",
   "metadata": {},
   "outputs": [],
   "source": [
    "# If 23 people are in the same room, what are the odds that two of them share a birthday?\n",
    "n_simulations = 1_000_000\n",
    "n_trials = 23\n",
    "same_birthday = np.random.randint(low = 1,high = 366 , size=(n_simulations,n_trials),dtype = int)"
   ]
  },
  {
   "cell_type": "code",
   "execution_count": 95,
   "id": "c0ca2e12",
   "metadata": {},
   "outputs": [],
   "source": [
    "same_bday = pd.DataFrame(same_birthday)"
   ]
  },
  {
   "cell_type": "code",
   "execution_count": 96,
   "id": "eba7529f",
   "metadata": {},
   "outputs": [
    {
     "data": {
      "text/html": [
       "<div>\n",
       "<style scoped>\n",
       "    .dataframe tbody tr th:only-of-type {\n",
       "        vertical-align: middle;\n",
       "    }\n",
       "\n",
       "    .dataframe tbody tr th {\n",
       "        vertical-align: top;\n",
       "    }\n",
       "\n",
       "    .dataframe thead th {\n",
       "        text-align: right;\n",
       "    }\n",
       "</style>\n",
       "<table border=\"1\" class=\"dataframe\">\n",
       "  <thead>\n",
       "    <tr style=\"text-align: right;\">\n",
       "      <th></th>\n",
       "      <th>0</th>\n",
       "      <th>1</th>\n",
       "      <th>2</th>\n",
       "      <th>3</th>\n",
       "      <th>4</th>\n",
       "      <th>5</th>\n",
       "      <th>6</th>\n",
       "      <th>7</th>\n",
       "      <th>8</th>\n",
       "      <th>9</th>\n",
       "      <th>...</th>\n",
       "      <th>13</th>\n",
       "      <th>14</th>\n",
       "      <th>15</th>\n",
       "      <th>16</th>\n",
       "      <th>17</th>\n",
       "      <th>18</th>\n",
       "      <th>19</th>\n",
       "      <th>20</th>\n",
       "      <th>21</th>\n",
       "      <th>22</th>\n",
       "    </tr>\n",
       "  </thead>\n",
       "  <tbody>\n",
       "    <tr>\n",
       "      <th>0</th>\n",
       "      <td>22</td>\n",
       "      <td>47</td>\n",
       "      <td>178</td>\n",
       "      <td>267</td>\n",
       "      <td>201</td>\n",
       "      <td>166</td>\n",
       "      <td>337</td>\n",
       "      <td>253</td>\n",
       "      <td>140</td>\n",
       "      <td>81</td>\n",
       "      <td>...</td>\n",
       "      <td>79</td>\n",
       "      <td>92</td>\n",
       "      <td>140</td>\n",
       "      <td>348</td>\n",
       "      <td>204</td>\n",
       "      <td>313</td>\n",
       "      <td>198</td>\n",
       "      <td>297</td>\n",
       "      <td>195</td>\n",
       "      <td>191</td>\n",
       "    </tr>\n",
       "    <tr>\n",
       "      <th>1</th>\n",
       "      <td>300</td>\n",
       "      <td>19</td>\n",
       "      <td>96</td>\n",
       "      <td>296</td>\n",
       "      <td>83</td>\n",
       "      <td>306</td>\n",
       "      <td>169</td>\n",
       "      <td>98</td>\n",
       "      <td>58</td>\n",
       "      <td>308</td>\n",
       "      <td>...</td>\n",
       "      <td>96</td>\n",
       "      <td>302</td>\n",
       "      <td>217</td>\n",
       "      <td>87</td>\n",
       "      <td>229</td>\n",
       "      <td>150</td>\n",
       "      <td>115</td>\n",
       "      <td>193</td>\n",
       "      <td>251</td>\n",
       "      <td>236</td>\n",
       "    </tr>\n",
       "    <tr>\n",
       "      <th>2</th>\n",
       "      <td>236</td>\n",
       "      <td>316</td>\n",
       "      <td>171</td>\n",
       "      <td>357</td>\n",
       "      <td>50</td>\n",
       "      <td>348</td>\n",
       "      <td>180</td>\n",
       "      <td>118</td>\n",
       "      <td>351</td>\n",
       "      <td>131</td>\n",
       "      <td>...</td>\n",
       "      <td>320</td>\n",
       "      <td>269</td>\n",
       "      <td>50</td>\n",
       "      <td>175</td>\n",
       "      <td>342</td>\n",
       "      <td>283</td>\n",
       "      <td>9</td>\n",
       "      <td>107</td>\n",
       "      <td>226</td>\n",
       "      <td>10</td>\n",
       "    </tr>\n",
       "    <tr>\n",
       "      <th>3</th>\n",
       "      <td>37</td>\n",
       "      <td>321</td>\n",
       "      <td>176</td>\n",
       "      <td>9</td>\n",
       "      <td>174</td>\n",
       "      <td>327</td>\n",
       "      <td>353</td>\n",
       "      <td>201</td>\n",
       "      <td>123</td>\n",
       "      <td>198</td>\n",
       "      <td>...</td>\n",
       "      <td>254</td>\n",
       "      <td>25</td>\n",
       "      <td>54</td>\n",
       "      <td>79</td>\n",
       "      <td>125</td>\n",
       "      <td>108</td>\n",
       "      <td>296</td>\n",
       "      <td>138</td>\n",
       "      <td>267</td>\n",
       "      <td>98</td>\n",
       "    </tr>\n",
       "    <tr>\n",
       "      <th>4</th>\n",
       "      <td>49</td>\n",
       "      <td>19</td>\n",
       "      <td>1</td>\n",
       "      <td>133</td>\n",
       "      <td>358</td>\n",
       "      <td>231</td>\n",
       "      <td>8</td>\n",
       "      <td>230</td>\n",
       "      <td>326</td>\n",
       "      <td>289</td>\n",
       "      <td>...</td>\n",
       "      <td>22</td>\n",
       "      <td>243</td>\n",
       "      <td>14</td>\n",
       "      <td>162</td>\n",
       "      <td>122</td>\n",
       "      <td>252</td>\n",
       "      <td>225</td>\n",
       "      <td>30</td>\n",
       "      <td>186</td>\n",
       "      <td>286</td>\n",
       "    </tr>\n",
       "    <tr>\n",
       "      <th>...</th>\n",
       "      <td>...</td>\n",
       "      <td>...</td>\n",
       "      <td>...</td>\n",
       "      <td>...</td>\n",
       "      <td>...</td>\n",
       "      <td>...</td>\n",
       "      <td>...</td>\n",
       "      <td>...</td>\n",
       "      <td>...</td>\n",
       "      <td>...</td>\n",
       "      <td>...</td>\n",
       "      <td>...</td>\n",
       "      <td>...</td>\n",
       "      <td>...</td>\n",
       "      <td>...</td>\n",
       "      <td>...</td>\n",
       "      <td>...</td>\n",
       "      <td>...</td>\n",
       "      <td>...</td>\n",
       "      <td>...</td>\n",
       "      <td>...</td>\n",
       "    </tr>\n",
       "    <tr>\n",
       "      <th>999995</th>\n",
       "      <td>251</td>\n",
       "      <td>271</td>\n",
       "      <td>339</td>\n",
       "      <td>279</td>\n",
       "      <td>170</td>\n",
       "      <td>142</td>\n",
       "      <td>313</td>\n",
       "      <td>316</td>\n",
       "      <td>201</td>\n",
       "      <td>210</td>\n",
       "      <td>...</td>\n",
       "      <td>330</td>\n",
       "      <td>253</td>\n",
       "      <td>157</td>\n",
       "      <td>333</td>\n",
       "      <td>88</td>\n",
       "      <td>16</td>\n",
       "      <td>291</td>\n",
       "      <td>191</td>\n",
       "      <td>152</td>\n",
       "      <td>166</td>\n",
       "    </tr>\n",
       "    <tr>\n",
       "      <th>999996</th>\n",
       "      <td>24</td>\n",
       "      <td>143</td>\n",
       "      <td>205</td>\n",
       "      <td>332</td>\n",
       "      <td>44</td>\n",
       "      <td>181</td>\n",
       "      <td>130</td>\n",
       "      <td>41</td>\n",
       "      <td>296</td>\n",
       "      <td>56</td>\n",
       "      <td>...</td>\n",
       "      <td>51</td>\n",
       "      <td>227</td>\n",
       "      <td>69</td>\n",
       "      <td>340</td>\n",
       "      <td>327</td>\n",
       "      <td>70</td>\n",
       "      <td>161</td>\n",
       "      <td>286</td>\n",
       "      <td>165</td>\n",
       "      <td>75</td>\n",
       "    </tr>\n",
       "    <tr>\n",
       "      <th>999997</th>\n",
       "      <td>176</td>\n",
       "      <td>206</td>\n",
       "      <td>331</td>\n",
       "      <td>231</td>\n",
       "      <td>32</td>\n",
       "      <td>274</td>\n",
       "      <td>172</td>\n",
       "      <td>128</td>\n",
       "      <td>57</td>\n",
       "      <td>337</td>\n",
       "      <td>...</td>\n",
       "      <td>34</td>\n",
       "      <td>337</td>\n",
       "      <td>79</td>\n",
       "      <td>127</td>\n",
       "      <td>108</td>\n",
       "      <td>325</td>\n",
       "      <td>237</td>\n",
       "      <td>54</td>\n",
       "      <td>312</td>\n",
       "      <td>182</td>\n",
       "    </tr>\n",
       "    <tr>\n",
       "      <th>999998</th>\n",
       "      <td>202</td>\n",
       "      <td>94</td>\n",
       "      <td>118</td>\n",
       "      <td>29</td>\n",
       "      <td>126</td>\n",
       "      <td>174</td>\n",
       "      <td>284</td>\n",
       "      <td>181</td>\n",
       "      <td>332</td>\n",
       "      <td>249</td>\n",
       "      <td>...</td>\n",
       "      <td>288</td>\n",
       "      <td>253</td>\n",
       "      <td>73</td>\n",
       "      <td>157</td>\n",
       "      <td>202</td>\n",
       "      <td>269</td>\n",
       "      <td>160</td>\n",
       "      <td>268</td>\n",
       "      <td>156</td>\n",
       "      <td>85</td>\n",
       "    </tr>\n",
       "    <tr>\n",
       "      <th>999999</th>\n",
       "      <td>339</td>\n",
       "      <td>294</td>\n",
       "      <td>225</td>\n",
       "      <td>238</td>\n",
       "      <td>335</td>\n",
       "      <td>82</td>\n",
       "      <td>334</td>\n",
       "      <td>265</td>\n",
       "      <td>147</td>\n",
       "      <td>152</td>\n",
       "      <td>...</td>\n",
       "      <td>127</td>\n",
       "      <td>91</td>\n",
       "      <td>167</td>\n",
       "      <td>265</td>\n",
       "      <td>110</td>\n",
       "      <td>243</td>\n",
       "      <td>197</td>\n",
       "      <td>253</td>\n",
       "      <td>38</td>\n",
       "      <td>38</td>\n",
       "    </tr>\n",
       "  </tbody>\n",
       "</table>\n",
       "<p>1000000 rows × 23 columns</p>\n",
       "</div>"
      ],
      "text/plain": [
       "         0    1    2    3    4    5    6    7    8    9   ...   13   14   15  \\\n",
       "0        22   47  178  267  201  166  337  253  140   81  ...   79   92  140   \n",
       "1       300   19   96  296   83  306  169   98   58  308  ...   96  302  217   \n",
       "2       236  316  171  357   50  348  180  118  351  131  ...  320  269   50   \n",
       "3        37  321  176    9  174  327  353  201  123  198  ...  254   25   54   \n",
       "4        49   19    1  133  358  231    8  230  326  289  ...   22  243   14   \n",
       "...     ...  ...  ...  ...  ...  ...  ...  ...  ...  ...  ...  ...  ...  ...   \n",
       "999995  251  271  339  279  170  142  313  316  201  210  ...  330  253  157   \n",
       "999996   24  143  205  332   44  181  130   41  296   56  ...   51  227   69   \n",
       "999997  176  206  331  231   32  274  172  128   57  337  ...   34  337   79   \n",
       "999998  202   94  118   29  126  174  284  181  332  249  ...  288  253   73   \n",
       "999999  339  294  225  238  335   82  334  265  147  152  ...  127   91  167   \n",
       "\n",
       "         16   17   18   19   20   21   22  \n",
       "0       348  204  313  198  297  195  191  \n",
       "1        87  229  150  115  193  251  236  \n",
       "2       175  342  283    9  107  226   10  \n",
       "3        79  125  108  296  138  267   98  \n",
       "4       162  122  252  225   30  186  286  \n",
       "...     ...  ...  ...  ...  ...  ...  ...  \n",
       "999995  333   88   16  291  191  152  166  \n",
       "999996  340  327   70  161  286  165   75  \n",
       "999997  127  108  325  237   54  312  182  \n",
       "999998  157  202  269  160  268  156   85  \n",
       "999999  265  110  243  197  253   38   38  \n",
       "\n",
       "[1000000 rows x 23 columns]"
      ]
     },
     "execution_count": 96,
     "metadata": {},
     "output_type": "execute_result"
    }
   ],
   "source": [
    "same_bday"
   ]
  },
  {
   "cell_type": "code",
   "execution_count": 97,
   "id": "dde97147",
   "metadata": {},
   "outputs": [],
   "source": [
    "same_bday['shared'] = same_bday.apply(lambda row: len(row)!= row.nunique(), axis=1)\n"
   ]
  },
  {
   "cell_type": "code",
   "execution_count": 98,
   "id": "953782cc",
   "metadata": {},
   "outputs": [
    {
     "data": {
      "text/plain": [
       "0.507891"
      ]
     },
     "execution_count": 98,
     "metadata": {},
     "output_type": "execute_result"
    }
   ],
   "source": [
    "same_bday.shared.mean()"
   ]
  },
  {
   "cell_type": "code",
   "execution_count": 99,
   "id": "d4ee74ca",
   "metadata": {},
   "outputs": [
    {
     "data": {
      "text/html": [
       "<div>\n",
       "<style scoped>\n",
       "    .dataframe tbody tr th:only-of-type {\n",
       "        vertical-align: middle;\n",
       "    }\n",
       "\n",
       "    .dataframe tbody tr th {\n",
       "        vertical-align: top;\n",
       "    }\n",
       "\n",
       "    .dataframe thead th {\n",
       "        text-align: right;\n",
       "    }\n",
       "</style>\n",
       "<table border=\"1\" class=\"dataframe\">\n",
       "  <thead>\n",
       "    <tr style=\"text-align: right;\">\n",
       "      <th></th>\n",
       "      <th>0</th>\n",
       "      <th>1</th>\n",
       "      <th>2</th>\n",
       "      <th>3</th>\n",
       "      <th>4</th>\n",
       "      <th>5</th>\n",
       "      <th>6</th>\n",
       "      <th>7</th>\n",
       "      <th>8</th>\n",
       "      <th>9</th>\n",
       "      <th>...</th>\n",
       "      <th>14</th>\n",
       "      <th>15</th>\n",
       "      <th>16</th>\n",
       "      <th>17</th>\n",
       "      <th>18</th>\n",
       "      <th>19</th>\n",
       "      <th>20</th>\n",
       "      <th>21</th>\n",
       "      <th>22</th>\n",
       "      <th>shared</th>\n",
       "    </tr>\n",
       "  </thead>\n",
       "  <tbody>\n",
       "    <tr>\n",
       "      <th>0</th>\n",
       "      <td>22</td>\n",
       "      <td>47</td>\n",
       "      <td>178</td>\n",
       "      <td>267</td>\n",
       "      <td>201</td>\n",
       "      <td>166</td>\n",
       "      <td>337</td>\n",
       "      <td>253</td>\n",
       "      <td>140</td>\n",
       "      <td>81</td>\n",
       "      <td>...</td>\n",
       "      <td>92</td>\n",
       "      <td>140</td>\n",
       "      <td>348</td>\n",
       "      <td>204</td>\n",
       "      <td>313</td>\n",
       "      <td>198</td>\n",
       "      <td>297</td>\n",
       "      <td>195</td>\n",
       "      <td>191</td>\n",
       "      <td>True</td>\n",
       "    </tr>\n",
       "    <tr>\n",
       "      <th>1</th>\n",
       "      <td>300</td>\n",
       "      <td>19</td>\n",
       "      <td>96</td>\n",
       "      <td>296</td>\n",
       "      <td>83</td>\n",
       "      <td>306</td>\n",
       "      <td>169</td>\n",
       "      <td>98</td>\n",
       "      <td>58</td>\n",
       "      <td>308</td>\n",
       "      <td>...</td>\n",
       "      <td>302</td>\n",
       "      <td>217</td>\n",
       "      <td>87</td>\n",
       "      <td>229</td>\n",
       "      <td>150</td>\n",
       "      <td>115</td>\n",
       "      <td>193</td>\n",
       "      <td>251</td>\n",
       "      <td>236</td>\n",
       "      <td>True</td>\n",
       "    </tr>\n",
       "    <tr>\n",
       "      <th>2</th>\n",
       "      <td>236</td>\n",
       "      <td>316</td>\n",
       "      <td>171</td>\n",
       "      <td>357</td>\n",
       "      <td>50</td>\n",
       "      <td>348</td>\n",
       "      <td>180</td>\n",
       "      <td>118</td>\n",
       "      <td>351</td>\n",
       "      <td>131</td>\n",
       "      <td>...</td>\n",
       "      <td>269</td>\n",
       "      <td>50</td>\n",
       "      <td>175</td>\n",
       "      <td>342</td>\n",
       "      <td>283</td>\n",
       "      <td>9</td>\n",
       "      <td>107</td>\n",
       "      <td>226</td>\n",
       "      <td>10</td>\n",
       "      <td>True</td>\n",
       "    </tr>\n",
       "    <tr>\n",
       "      <th>3</th>\n",
       "      <td>37</td>\n",
       "      <td>321</td>\n",
       "      <td>176</td>\n",
       "      <td>9</td>\n",
       "      <td>174</td>\n",
       "      <td>327</td>\n",
       "      <td>353</td>\n",
       "      <td>201</td>\n",
       "      <td>123</td>\n",
       "      <td>198</td>\n",
       "      <td>...</td>\n",
       "      <td>25</td>\n",
       "      <td>54</td>\n",
       "      <td>79</td>\n",
       "      <td>125</td>\n",
       "      <td>108</td>\n",
       "      <td>296</td>\n",
       "      <td>138</td>\n",
       "      <td>267</td>\n",
       "      <td>98</td>\n",
       "      <td>True</td>\n",
       "    </tr>\n",
       "    <tr>\n",
       "      <th>4</th>\n",
       "      <td>49</td>\n",
       "      <td>19</td>\n",
       "      <td>1</td>\n",
       "      <td>133</td>\n",
       "      <td>358</td>\n",
       "      <td>231</td>\n",
       "      <td>8</td>\n",
       "      <td>230</td>\n",
       "      <td>326</td>\n",
       "      <td>289</td>\n",
       "      <td>...</td>\n",
       "      <td>243</td>\n",
       "      <td>14</td>\n",
       "      <td>162</td>\n",
       "      <td>122</td>\n",
       "      <td>252</td>\n",
       "      <td>225</td>\n",
       "      <td>30</td>\n",
       "      <td>186</td>\n",
       "      <td>286</td>\n",
       "      <td>False</td>\n",
       "    </tr>\n",
       "  </tbody>\n",
       "</table>\n",
       "<p>5 rows × 24 columns</p>\n",
       "</div>"
      ],
      "text/plain": [
       "     0    1    2    3    4    5    6    7    8    9  ...   14   15   16   17  \\\n",
       "0   22   47  178  267  201  166  337  253  140   81  ...   92  140  348  204   \n",
       "1  300   19   96  296   83  306  169   98   58  308  ...  302  217   87  229   \n",
       "2  236  316  171  357   50  348  180  118  351  131  ...  269   50  175  342   \n",
       "3   37  321  176    9  174  327  353  201  123  198  ...   25   54   79  125   \n",
       "4   49   19    1  133  358  231    8  230  326  289  ...  243   14  162  122   \n",
       "\n",
       "    18   19   20   21   22  shared  \n",
       "0  313  198  297  195  191    True  \n",
       "1  150  115  193  251  236    True  \n",
       "2  283    9  107  226   10    True  \n",
       "3  108  296  138  267   98    True  \n",
       "4  252  225   30  186  286   False  \n",
       "\n",
       "[5 rows x 24 columns]"
      ]
     },
     "execution_count": 99,
     "metadata": {},
     "output_type": "execute_result"
    }
   ],
   "source": [
    "same_bday.head()"
   ]
  },
  {
   "cell_type": "code",
   "execution_count": 100,
   "id": "fca3090d",
   "metadata": {},
   "outputs": [
    {
     "data": {
      "text/plain": [
       "0.411082"
      ]
     },
     "execution_count": 100,
     "metadata": {},
     "output_type": "execute_result"
    }
   ],
   "source": [
    "#What if it's 20 people? \n",
    "n_simulations = 1_000_000\n",
    "n_trials = 20\n",
    "same_birthday = np.random.randint(low = 1,high = 366 , size=(n_simulations,n_trials),dtype = int)\n",
    "\n",
    "same_bday = pd.DataFrame(same_birthday)\n",
    "\n",
    "same_bday['shared'] = same_bday.apply(lambda row: len(row)!= row.nunique(), axis=1)\n",
    "\n",
    "same_bday.shared.mean()"
   ]
  },
  {
   "cell_type": "code",
   "execution_count": 101,
   "id": "db27fcab",
   "metadata": {},
   "outputs": [
    {
     "data": {
      "text/plain": [
       "0.891006"
      ]
     },
     "execution_count": 101,
     "metadata": {},
     "output_type": "execute_result"
    }
   ],
   "source": [
    "#What if it's 40 people? \n",
    "n_simulations = 1_000_000\n",
    "n_trials = 40\n",
    "same_birthday = np.random.randint(low = 1,high = 366 , size=(n_simulations,n_trials),dtype = int)\n",
    "\n",
    "same_bday = pd.DataFrame(same_birthday)\n",
    "\n",
    "same_bday['shared'] = same_bday.apply(lambda row: len(row)!= row.nunique(), axis=1)\n",
    "\n",
    "same_bday.shared.mean()"
   ]
  },
  {
   "cell_type": "code",
   "execution_count": null,
   "id": "a74f8dac",
   "metadata": {},
   "outputs": [],
   "source": []
  }
 ],
 "metadata": {
  "kernelspec": {
   "display_name": "Python 3",
   "language": "python",
   "name": "python3"
  },
  "language_info": {
   "codemirror_mode": {
    "name": "ipython",
    "version": 3
   },
   "file_extension": ".py",
   "mimetype": "text/x-python",
   "name": "python",
   "nbconvert_exporter": "python",
   "pygments_lexer": "ipython3",
   "version": "3.8.8"
  }
 },
 "nbformat": 4,
 "nbformat_minor": 5
}
