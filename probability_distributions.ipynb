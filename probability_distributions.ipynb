{
 "cells": [
  {
   "cell_type": "markdown",
   "id": "516842b0",
   "metadata": {},
   "source": [
    "### Probability Distribution Exercises\n",
    "\n",
    "1. A bank found that the average number of cars waiting during the noon hour at a drive-up window follows a Poisson distribution with a mean of 2 cars. Make a chart of this distribution and answer these questions concerning the probability of cars waiting at the drive-up window.\n",
    "\n",
    "What is probability that no cars drive up in the noon hour?\n",
    "What is the probability that 3 or more cars come through the drive through?\n",
    "How likely is it that the drive through gets at least 1 car?"
   ]
  },
  {
   "cell_type": "code",
   "execution_count": 49,
   "id": "25e19795",
   "metadata": {},
   "outputs": [],
   "source": [
    "import matplotlib.pyplot as plt\n",
    "import numpy as np\n",
    "from scipy import stats\n",
    "\n",
    "# import seaborn\n",
    "import seaborn as sns\n",
    "# settings for seaborn plotting style\n",
    "sns.set(color_codes=True)\n",
    "# settings for seaborn plot sizes\n",
    "sns.set(rc={'figure.figsize':(5,5)})"
   ]
  },
  {
   "cell_type": "code",
   "execution_count": 12,
   "id": "54b4e718",
   "metadata": {},
   "outputs": [],
   "source": [
    "from scipy.stats import poisson\n",
    "data_poisson = poisson.rvs(mu=2, size=10000)"
   ]
  },
  {
   "cell_type": "code",
   "execution_count": 17,
   "id": "2519de0e",
   "metadata": {},
   "outputs": [
    {
     "data": {
      "text/plain": [
       "[Text(0.5, 0, 'Poisson Distribution'), Text(0, 0.5, 'Frequency')]"
      ]
     },
     "execution_count": 17,
     "metadata": {},
     "output_type": "execute_result"
    },
    {
     "data": {
      "image/png": "[encoded data removed]",
      "text/plain": [
       "<Figure size 360x360 with 1 Axes>"
      ]
     },
     "metadata": {},
     "output_type": "display_data"
    }
   ],
   "source": [
    "ax = sns.histplot(data_poisson,\n",
    "                  bins=30,\n",
    "                  kde=False,\n",
    "                  color='skyblue')\n",
    "ax.set(xlabel='Poisson Distribution', ylabel='Frequency')"
   ]
  },
  {
   "cell_type": "code",
   "execution_count": 18,
   "id": "61f2863b",
   "metadata": {},
   "outputs": [
    {
     "data": {
      "text/plain": [
       "0.1353352832366127"
      ]
     },
     "execution_count": 18,
     "metadata": {},
     "output_type": "execute_result"
    }
   ],
   "source": [
    "# What is probability that no cars drive up in the noon hour?\n",
    "\n",
    "stats.poisson(2).pmf(0)"
   ]
  },
  {
   "cell_type": "code",
   "execution_count": 210,
   "id": "97e13090",
   "metadata": {},
   "outputs": [
    {
     "data": {
      "text/plain": [
       "0.1346"
      ]
     },
     "execution_count": 210,
     "metadata": {},
     "output_type": "execute_result"
    }
   ],
   "source": [
    "#Simulation Comparison\n",
    "\n",
    "data_poisson = poisson.rvs(mu=2, size=100000)\n",
    "data_poisson\n",
    "\n",
    "df = pd.DataFrame(data_poisson)\n",
    "\n",
    "df[\"data_poisson\"] = df.sum(axis=1)\n",
    "(df.data_poisson == 0).mean(0)"
   ]
  },
  {
   "cell_type": "code",
   "execution_count": 211,
   "id": "716167d4",
   "metadata": {},
   "outputs": [
    {
     "data": {
      "text/plain": [
       "0.32332358381693654"
      ]
     },
     "execution_count": 211,
     "metadata": {},
     "output_type": "execute_result"
    }
   ],
   "source": [
    "# What is the probability that 3 or more cars come through the drive through? \n",
    "\n",
    "stats.poisson(2).sf(2)"
   ]
  },
  {
   "cell_type": "code",
   "execution_count": 142,
   "id": "a6518e28",
   "metadata": {},
   "outputs": [
    {
     "data": {
      "text/plain": [
       "0.3292"
      ]
     },
     "execution_count": 142,
     "metadata": {},
     "output_type": "execute_result"
    }
   ],
   "source": [
    "#Simulation Comparison\n",
    "(df.data_poisson >= 3).mean(0)"
   ]
  },
  {
   "cell_type": "code",
   "execution_count": 26,
   "id": "007c6ad4",
   "metadata": {},
   "outputs": [
    {
     "data": {
      "text/plain": [
       "0.8646647167633873"
      ]
     },
     "execution_count": 26,
     "metadata": {},
     "output_type": "execute_result"
    }
   ],
   "source": [
    "# How likely is it that the drive through gets at least 1 car?\n",
    "\n",
    "stats.poisson(2).sf(0)"
   ]
  },
  {
   "cell_type": "code",
   "execution_count": 143,
   "id": "5744220d",
   "metadata": {},
   "outputs": [
    {
     "data": {
      "text/plain": [
       "0.8631"
      ]
     },
     "execution_count": 143,
     "metadata": {},
     "output_type": "execute_result"
    }
   ],
   "source": [
    "#Simulation Comparison\n",
    "(df.data_poisson >= 1).mean(0)"
   ]
  },
  {
   "cell_type": "markdown",
   "id": "97db182d",
   "metadata": {},
   "source": [
    "# 2. Grades of State University graduates are normally distributed with a mean of 3.0 and a standard deviation of .3. Calculate the following:\n",
    "\n",
    "What grade point average is required to be in the top 5% of the graduating class?\n",
    "What GPA constitutes the bottom 15% of the class?\n",
    "An eccentric alumnus left scholarship money for students in the third decile from the bottom of their class. Determine the range of the third decile. Would a student with a 2.8 grade point average qualify for this scholarship?\n",
    "If I have a GPA of 3.5, what percentile am I in?"
   ]
  },
  {
   "cell_type": "code",
   "execution_count": 50,
   "id": "701f79cd",
   "metadata": {},
   "outputs": [
    {
     "data": {
      "text/plain": [
       "3.4934560880854417"
      ]
     },
     "execution_count": 50,
     "metadata": {},
     "output_type": "execute_result"
    }
   ],
   "source": [
    "# What grade point average is required to be in the top 5% of the graduating class? \n",
    "\n",
    "\n",
    "μ = 3.0\n",
    "σ = 0.3\n",
    "\n",
    "gpa = stats.norm(μ, σ)\n",
    "\n",
    "top_5_percent_gpa = gpa.isf(.05)\n",
    "top_5_percent_gpa"
   ]
  },
  {
   "cell_type": "code",
   "execution_count": 145,
   "id": "53b3d529",
   "metadata": {},
   "outputs": [
    {
     "data": {
      "text/plain": [
       "0.0513"
      ]
     },
     "execution_count": 145,
     "metadata": {},
     "output_type": "execute_result"
    }
   ],
   "source": [
    "#Simulation Comparison\n",
    "\n",
    "data_normal = np.random.normal(3.0, 0.3, size=(10_000, 1))\n",
    "\n",
    "df = pd.DataFrame(data_normal)\n",
    "df\n",
    "\n",
    "df[\"data_normal\"] = df.sum(axis=1)\n",
    "(df.data_normal >= 3.49).mean(0)"
   ]
  },
  {
   "cell_type": "code",
   "execution_count": 215,
   "id": "2af5fc45",
   "metadata": {},
   "outputs": [
    {
     "data": {
      "text/plain": [
       "5.0"
      ]
     },
     "execution_count": 215,
     "metadata": {},
     "output_type": "execute_result"
    }
   ],
   "source": [
    "df.quantile(.95).values.min()"
   ]
  },
  {
   "cell_type": "code",
   "execution_count": 51,
   "id": "e63a100b",
   "metadata": {},
   "outputs": [
    {
     "data": {
      "text/plain": [
       "2.689069983151863"
      ]
     },
     "execution_count": 51,
     "metadata": {},
     "output_type": "execute_result"
    }
   ],
   "source": [
    "# What GPA constitutes the bottom 15% of the class? \n",
    "\n",
    "bottom_15_percent_gpa = gpa.ppf(.15)\n",
    "bottom_15_percent_gpa"
   ]
  },
  {
   "cell_type": "code",
   "execution_count": 146,
   "id": "34f33bb1",
   "metadata": {},
   "outputs": [
    {
     "data": {
      "text/plain": [
       "0.1548"
      ]
     },
     "execution_count": 146,
     "metadata": {},
     "output_type": "execute_result"
    }
   ],
   "source": [
    "#Simulation Comparison\n",
    "\n",
    "(df.data_normal <= 2.69).mean(0)"
   ]
  },
  {
   "cell_type": "code",
   "execution_count": 96,
   "id": "f95d751f",
   "metadata": {},
   "outputs": [
    {
     "data": {
      "text/plain": [
       "2.7475136299281258"
      ]
     },
     "execution_count": 96,
     "metadata": {},
     "output_type": "execute_result"
    }
   ],
   "source": [
    "# An eccentric alumnus left scholarship money for students in the third decile from the bottom of their class. \n",
    "# Determine the range of the third decile. \n",
    "\n",
    "bottom_20_percent_gpa = gpa.ppf(.20)\n",
    "bottom_20_percent_gpa"
   ]
  },
  {
   "cell_type": "code",
   "execution_count": 148,
   "id": "0f126d08",
   "metadata": {},
   "outputs": [
    {
     "data": {
      "text/plain": [
       "0.2042"
      ]
     },
     "execution_count": 148,
     "metadata": {},
     "output_type": "execute_result"
    }
   ],
   "source": [
    "#Simulation Comparison\n",
    "\n",
    "(df.data_normal <= 2.745).mean(0)"
   ]
  },
  {
   "cell_type": "code",
   "execution_count": 97,
   "id": "cf02c108",
   "metadata": {},
   "outputs": [
    {
     "data": {
      "text/plain": [
       "2.842679846187588"
      ]
     },
     "execution_count": 97,
     "metadata": {},
     "output_type": "execute_result"
    }
   ],
   "source": [
    "bottom_30_percent_gpa = gpa.ppf(.30)\n",
    "bottom_30_percent_gpa"
   ]
  },
  {
   "cell_type": "code",
   "execution_count": 149,
   "id": "9ee971e7",
   "metadata": {},
   "outputs": [
    {
     "data": {
      "text/plain": [
       "0.3041"
      ]
     },
     "execution_count": 149,
     "metadata": {},
     "output_type": "execute_result"
    }
   ],
   "source": [
    "#Simulation Comparison\n",
    "\n",
    "(df.data_normal <= 2.843).mean(0)"
   ]
  },
  {
   "cell_type": "markdown",
   "id": "cc7b0773",
   "metadata": {},
   "source": [
    "### Would a student with a 2.8 grade point average qualify for this scholarship?\n",
    "###  Range = 2.74 - 2.84\n",
    "***\n",
    "Yes, they would"
   ]
  },
  {
   "cell_type": "code",
   "execution_count": 98,
   "id": "f0ca0843",
   "metadata": {},
   "outputs": [
    {
     "data": {
      "text/plain": [
       "0.9522096477271853"
      ]
     },
     "execution_count": 98,
     "metadata": {},
     "output_type": "execute_result"
    }
   ],
   "source": [
    "#If I have a GPA of 3.5, what percentile am I in?\n",
    "\n",
    "gpa.cdf(3.5)\n",
    "\n",
    "#percentile = 3.5 / top_gpa\n",
    "#percentile"
   ]
  },
  {
   "cell_type": "code",
   "execution_count": 99,
   "id": "2ee8c1da",
   "metadata": {},
   "outputs": [
    {
     "data": {
      "text/plain": [
       "0.0477903522728147"
      ]
     },
     "execution_count": 99,
     "metadata": {},
     "output_type": "execute_result"
    }
   ],
   "source": [
    "gpa.sf(3.5)"
   ]
  },
  {
   "cell_type": "code",
   "execution_count": 151,
   "id": "2d34c432",
   "metadata": {},
   "outputs": [
    {
     "data": {
      "text/plain": [
       "0.048"
      ]
     },
     "execution_count": 151,
     "metadata": {},
     "output_type": "execute_result"
    }
   ],
   "source": [
    "#Simulation Comparison\n",
    "\n",
    "(df.data_normal >= 3.5).mean(0)"
   ]
  },
  {
   "cell_type": "markdown",
   "id": "fbbce343",
   "metadata": {},
   "source": [
    "### 3. A marketing website has an average click-through rate of 2%. One day they observe 4326 visitors and 97 click-throughs. How likely is it that this many people or more click through?"
   ]
  },
  {
   "cell_type": "code",
   "execution_count": 219,
   "id": "0e2ebc20",
   "metadata": {},
   "outputs": [
    {
     "data": {
      "text/plain": [
       "0.1397582363130086"
      ]
     },
     "execution_count": 219,
     "metadata": {},
     "output_type": "execute_result"
    }
   ],
   "source": [
    "stats.binom(4326, .02).sf(96)"
   ]
  },
  {
   "cell_type": "code",
   "execution_count": 165,
   "id": "fccb5531",
   "metadata": {},
   "outputs": [
    {
     "data": {
      "text/plain": [
       "0.13855"
      ]
     },
     "execution_count": 165,
     "metadata": {},
     "output_type": "execute_result"
    }
   ],
   "source": [
    "#Simulation Comparison\n",
    "outcomes = [0,1]\n",
    "\n",
    "data = np.random.choice(outcomes, size=(100000, 4326), p=[0.98, 0.02])\n",
    "\n",
    "df = pd.DataFrame(data)\n",
    "df\n",
    "\n",
    "df[\"data\"] = df.sum(axis=1)\n",
    "(df.data >= 97).mean(0)\n"
   ]
  },
  {
   "cell_type": "markdown",
   "id": "c180e5ba",
   "metadata": {},
   "source": [
    "### 4. You are working on some statistics homework consisting of 100 questions where all of the answers are a probability rounded to the hundreths place. Looking to save time, you put down random probabilities as the answer to each question.\n",
    "\n",
    "What is the probability that at least one of your first 60 answers is correct?"
   ]
  },
  {
   "cell_type": "code",
   "execution_count": 220,
   "id": "7d9c1ad2",
   "metadata": {},
   "outputs": [
    {
     "data": {
      "text/plain": [
       "0.4528433576092388"
      ]
     },
     "execution_count": 220,
     "metadata": {},
     "output_type": "execute_result"
    }
   ],
   "source": [
    "stats.binom(60, 1/100).sf(0)"
   ]
  },
  {
   "cell_type": "code",
   "execution_count": 225,
   "id": "dc9d2547",
   "metadata": {},
   "outputs": [
    {
     "data": {
      "text/plain": [
       "0.45283"
      ]
     },
     "execution_count": 225,
     "metadata": {},
     "output_type": "execute_result"
    }
   ],
   "source": [
    "#Simulation Comparison\n",
    "outcomes = [0,1]\n",
    "\n",
    "data = np.random.choice(outcomes, size=(100000, 60), p=[99/100, 1/100])\n",
    "\n",
    "df = pd.DataFrame(data)\n",
    "df\n",
    "\n",
    "df[\"data\"] = df.sum(axis=1)\n",
    "(df.data >= 1).mean(0)\n",
    "\n"
   ]
  },
  {
   "cell_type": "markdown",
   "id": "c61c7058",
   "metadata": {},
   "source": [
    "### 5. The codeup staff tends to get upset when the student break area is not cleaned up. \n",
    "Suppose that there's a 3% chance that any one student cleans the break area when they visit it, and, on any given day, about 90% of the 3 active cohorts of 22 students visit the break area. How likely is it that the break area gets cleaned up each day? "
   ]
  },
  {
   "cell_type": "code",
   "execution_count": 91,
   "id": "0e83cc20",
   "metadata": {},
   "outputs": [
    {
     "data": {
      "text/plain": [
       "0.8342199288437355"
      ]
     },
     "execution_count": 91,
     "metadata": {},
     "output_type": "execute_result"
    }
   ],
   "source": [
    "# Using 59 to account for the sample size so 90% * (3 cohorts * 22 students)\n",
    "stats.binom(59, .03).sf(0)\n"
   ]
  },
  {
   "cell_type": "code",
   "execution_count": 168,
   "id": "88386d28",
   "metadata": {},
   "outputs": [
    {
     "data": {
      "text/plain": [
       "0.83285"
      ]
     },
     "execution_count": 168,
     "metadata": {},
     "output_type": "execute_result"
    }
   ],
   "source": [
    "#Simulation Comparison\n",
    "outcomes = [0,1]\n",
    "\n",
    "data = np.random.choice(outcomes, size=(100000, 59), p=[0.97, 0.03])\n",
    "\n",
    "df = pd.DataFrame(data)\n",
    "df\n",
    "\n",
    "df[\"data\"] = df.sum(axis=1)\n",
    "(df.data >= 1).mean(0)\n",
    "\n"
   ]
  },
  {
   "cell_type": "code",
   "execution_count": 92,
   "id": "ef47aa96",
   "metadata": {},
   "outputs": [
    {
     "data": {
      "text/plain": [
       "0.02890000000000002"
      ]
     },
     "execution_count": 92,
     "metadata": {},
     "output_type": "execute_result"
    }
   ],
   "source": [
    "#How likely is it that it goes two days without getting cleaned up?\n",
    "\n",
    "stats.binom(2, .83).pmf(0)"
   ]
  },
  {
   "cell_type": "code",
   "execution_count": 175,
   "id": "dc0d7373",
   "metadata": {},
   "outputs": [
    {
     "data": {
      "text/plain": [
       "0.0289"
      ]
     },
     "execution_count": 175,
     "metadata": {},
     "output_type": "execute_result"
    }
   ],
   "source": [
    "#Simulation Comparison\n",
    "outcomes = [0,1]\n",
    "\n",
    "data = np.random.choice(outcomes, size=(100000, 2), p=[0.17, 0.83])\n",
    "\n",
    "df = pd.DataFrame(data)\n",
    "df\n",
    "\n",
    "\n",
    "df[\"data\"] = df.sum(axis=1)\n",
    "(df.data == 0).mean(0)\n"
   ]
  },
  {
   "cell_type": "code",
   "execution_count": 94,
   "id": "5ce30116",
   "metadata": {},
   "outputs": [
    {
     "data": {
      "text/plain": [
       "0.00014198570000000012"
      ]
     },
     "execution_count": 94,
     "metadata": {},
     "output_type": "execute_result"
    }
   ],
   "source": [
    "#How likely is it that it goes all week without getting cleaned up? \n",
    "\n",
    "stats.binom(5, .83).pmf(0)"
   ]
  },
  {
   "cell_type": "code",
   "execution_count": 176,
   "id": "e4a0461c",
   "metadata": {},
   "outputs": [
    {
     "data": {
      "text/plain": [
       "0.0001"
      ]
     },
     "execution_count": 176,
     "metadata": {},
     "output_type": "execute_result"
    }
   ],
   "source": [
    "#Simulation Comparison\n",
    "outcomes = [0,1]\n",
    "\n",
    "data = np.random.choice(outcomes, size=(100000, 5), p=[0.17, 0.83])\n",
    "\n",
    "df = pd.DataFrame(data)\n",
    "df\n",
    "\n",
    "\n",
    "df[\"data\"] = df.sum(axis=1)\n",
    "(df.data == 0).mean(0)"
   ]
  },
  {
   "cell_type": "markdown",
   "id": "cf05dcaf",
   "metadata": {},
   "source": [
    "### 6. You want to get lunch at La Panaderia, but notice that the line is usually very long at lunchtime. \n",
    "After several weeks of careful observation, you notice that the average number of people in line when your lunch break starts is normally distributed with a mean of 15 and standard deviation of 3. If it takes 2 minutes for each person to order, and 10 minutes from ordering to getting your food, what is the likelihood that you have at least 15 minutes left to eat your food before you have to go back to class? Assume you have one hour for lunch, and ignore travel time to and from La Panaderia."
   ]
  },
  {
   "cell_type": "code",
   "execution_count": 112,
   "id": "a3bb7d56",
   "metadata": {},
   "outputs": [
    {
     "data": {
      "text/plain": [
       "0.7475074624530771"
      ]
     },
     "execution_count": 112,
     "metadata": {},
     "output_type": "execute_result"
    }
   ],
   "source": [
    "μ = 15\n",
    "σ = 3\n",
    "\n",
    "ppl_in_line = stats.norm(μ, σ)\n",
    "\n",
    "under_time_cutoff = ppl_in_line.cdf(17)\n",
    "\n",
    "under_time_cutoff"
   ]
  },
  {
   "cell_type": "code",
   "execution_count": 180,
   "id": "577a1bc1",
   "metadata": {},
   "outputs": [
    {
     "data": {
      "text/plain": [
       "0.7452"
      ]
     },
     "execution_count": 180,
     "metadata": {},
     "output_type": "execute_result"
    }
   ],
   "source": [
    "#Simulation Comparison\n",
    "\n",
    "data_normal = np.random.normal(15, 3, size=(10_000, 1))\n",
    "\n",
    "df = pd.DataFrame(data_normal)\n",
    "df\n",
    "\n",
    "df[\"data_normal\"] = df.sum(axis=1)\n",
    "(df.data_normal <= 17).mean(0)"
   ]
  },
  {
   "cell_type": "markdown",
   "id": "b039ae42",
   "metadata": {},
   "source": [
    "### 7. Connect to the employees database and find the average salary of current employees, along with the standard deviation. \n",
    "For the following questions, calculate the answer based on modeling the employees salaries with a normal distribution defined by the calculated mean and standard deviation then compare this answer to the actual values present in the salaries dataset.\n",
    "\n",
    "    What percent of employees earn less than 60,000?\n",
    "    What percent of employees earn more than 95,000?\n",
    "    What percent of employees earn between 65,000 and 80,000?\n",
    "    What do the top 5% of employees make?"
   ]
  },
  {
   "cell_type": "code",
   "execution_count": 181,
   "id": "d5a55d34",
   "metadata": {},
   "outputs": [],
   "source": [
    "import pandas as pd\n",
    "import numpy as np"
   ]
  },
  {
   "cell_type": "code",
   "execution_count": 182,
   "id": "2fe2a78b",
   "metadata": {},
   "outputs": [],
   "source": [
    "from env import host, user, password"
   ]
  },
  {
   "cell_type": "code",
   "execution_count": 183,
   "id": "a646bfff",
   "metadata": {},
   "outputs": [],
   "source": [
    "def get_db_url(host, user, password, database):\n",
    "        \n",
    "    url = f'mysql+pymysql://{user}:{password}@{host}/{database}'\n",
    "    \n",
    "    return url"
   ]
  },
  {
   "cell_type": "code",
   "execution_count": 184,
   "id": "03a1b14b",
   "metadata": {},
   "outputs": [],
   "source": [
    "query = \"SELECT avg(salary), stddev(salary) FROM salaries WHERE to_date > now();\""
   ]
  },
  {
   "cell_type": "code",
   "execution_count": 185,
   "id": "ad8ed73c",
   "metadata": {},
   "outputs": [
    {
     "data": {
      "text/html": [
       "<div>\n",
       "<style scoped>\n",
       "    .dataframe tbody tr th:only-of-type {\n",
       "        vertical-align: middle;\n",
       "    }\n",
       "\n",
       "    .dataframe tbody tr th {\n",
       "        vertical-align: top;\n",
       "    }\n",
       "\n",
       "    .dataframe thead th {\n",
       "        text-align: right;\n",
       "    }\n",
       "</style>\n",
       "<table border=\"1\" class=\"dataframe\">\n",
       "  <thead>\n",
       "    <tr style=\"text-align: right;\">\n",
       "      <th></th>\n",
       "      <th>avg(salary)</th>\n",
       "      <th>stddev(salary)</th>\n",
       "    </tr>\n",
       "  </thead>\n",
       "  <tbody>\n",
       "    <tr>\n",
       "      <th>0</th>\n",
       "      <td>72012.2359</td>\n",
       "      <td>17309.959336</td>\n",
       "    </tr>\n",
       "  </tbody>\n",
       "</table>\n",
       "</div>"
      ],
      "text/plain": [
       "   avg(salary)  stddev(salary)\n",
       "0   72012.2359    17309.959336"
      ]
     },
     "execution_count": 185,
     "metadata": {},
     "output_type": "execute_result"
    }
   ],
   "source": [
    "pd.read_sql(query, get_db_url(host,user, password, 'employees'))"
   ]
  },
  {
   "cell_type": "code",
   "execution_count": 186,
   "id": "48be177c",
   "metadata": {},
   "outputs": [
    {
     "data": {
      "text/plain": [
       "0.2438491840795911"
      ]
     },
     "execution_count": 186,
     "metadata": {},
     "output_type": "execute_result"
    }
   ],
   "source": [
    "# What percent of employees earn less than 60,000?\n",
    "\n",
    "μ = 72012\n",
    "σ = 17309\n",
    "\n",
    "salary = stats.norm(μ, σ)\n",
    "\n",
    "percent = salary.cdf(60000)\n",
    "percent"
   ]
  },
  {
   "cell_type": "markdown",
   "id": "3c488acd",
   "metadata": {},
   "source": [
    "#### Comparing in SQL:\n",
    "\n",
    "    Count of salaries under $60,000 = 64,971\n",
    "    Total count of salaries = 240,124\n",
    "    \n",
    "    Percent under $60K = 27%"
   ]
  },
  {
   "cell_type": "code",
   "execution_count": 196,
   "id": "64cc6a78",
   "metadata": {},
   "outputs": [
    {
     "data": {
      "text/plain": [
       "0.2537"
      ]
     },
     "execution_count": 196,
     "metadata": {},
     "output_type": "execute_result"
    }
   ],
   "source": [
    "#Simulation Comparison\n",
    "\n",
    "data_normal = np.random.normal(72_012, 17_309, size=(10_000, 1))\n",
    "\n",
    "df = pd.DataFrame(data_normal)\n",
    "df\n",
    "\n",
    "df[\"data_normal\"] = df.sum(axis=1)\n",
    "(df.data_normal <= 60000).mean(0)"
   ]
  },
  {
   "cell_type": "code",
   "execution_count": 197,
   "id": "98e37c2a",
   "metadata": {},
   "outputs": [
    {
     "data": {
      "text/plain": [
       "0.09207332774098781"
      ]
     },
     "execution_count": 197,
     "metadata": {},
     "output_type": "execute_result"
    }
   ],
   "source": [
    "# What percent of employees earn more than 95,000?\n",
    "\n",
    "percent = salary.sf(95000)\n",
    "percent"
   ]
  },
  {
   "cell_type": "code",
   "execution_count": 200,
   "id": "a03867ea",
   "metadata": {},
   "outputs": [
    {
     "data": {
      "text/plain": [
       "0.0902"
      ]
     },
     "execution_count": 200,
     "metadata": {},
     "output_type": "execute_result"
    }
   ],
   "source": [
    "#Simulation Comparison\n",
    "\n",
    "(df.data_normal >= 95000).mean(0)"
   ]
  },
  {
   "cell_type": "markdown",
   "id": "7f44f045",
   "metadata": {},
   "source": [
    "#### Comparing in SQL:\n",
    "Count of salaries under $95,000 = 26,084 \n",
    "Total count of salaries = 240,124\n",
    "\n",
    "Percent over $95K = 10.8%"
   ]
  },
  {
   "cell_type": "code",
   "execution_count": 206,
   "id": "f8c421e5",
   "metadata": {},
   "outputs": [
    {
     "data": {
      "text/plain": [
       "0.3350785264967915"
      ]
     },
     "execution_count": 206,
     "metadata": {},
     "output_type": "execute_result"
    }
   ],
   "source": [
    "# What percent of employees earn between 65,000 and 80,000?\n",
    "\n",
    "percent1 = salary.cdf(65000) #percent that earn less than 65000\n",
    "percent2 = salary.sf(80000) #percent that earn more than 80000\n",
    "\n",
    "# to find the percent between the range, subtract the percentage of the range outside from 1\n",
    "percent = 1 - (percent1 + percent2) \n",
    "percent"
   ]
  },
  {
   "cell_type": "code",
   "execution_count": 207,
   "id": "f0f3f93a",
   "metadata": {},
   "outputs": [
    {
     "data": {
      "text/plain": [
       "0.3261"
      ]
     },
     "execution_count": 207,
     "metadata": {},
     "output_type": "execute_result"
    }
   ],
   "source": [
    "#Simulation Comparison\n",
    "\n",
    "((df.data_normal >= 65000) & (df.data_normal <= 80000)).mean(0)"
   ]
  },
  {
   "cell_type": "markdown",
   "id": "d34ccee8",
   "metadata": {},
   "source": [
    "#### Comparing in SQL:\n",
    "Count of salaries between 65K and $85K = 78,066 \n",
    "Total count of salaries = 240,124\n",
    "\n",
    "Percent between 65K and 85K = 32.5%"
   ]
  },
  {
   "cell_type": "code",
   "execution_count": 208,
   "id": "1dd5a5d9",
   "metadata": {},
   "outputs": [
    {
     "data": {
      "text/plain": [
       "100482.77142890304"
      ]
     },
     "execution_count": 208,
     "metadata": {},
     "output_type": "execute_result"
    }
   ],
   "source": [
    "# What do the top 5% of employees make?\n",
    "\n",
    "top_5_percent = salary.ppf(0.95)\n",
    "top_5_percent"
   ]
  },
  {
   "cell_type": "code",
   "execution_count": 209,
   "id": "f402d7b7",
   "metadata": {},
   "outputs": [
    {
     "data": {
      "text/plain": [
       "0.0509"
      ]
     },
     "execution_count": 209,
     "metadata": {},
     "output_type": "execute_result"
    }
   ],
   "source": [
    "#Simulation Comparison\n",
    "\n",
    "(df.data_normal >= 100482).mean(0)"
   ]
  },
  {
   "cell_type": "markdown",
   "id": "90be9a08",
   "metadata": {},
   "source": [
    "### FORMATTING\n",
    "***\n",
    "<font color=#6495ED> Info</font>\n",
    "\n",
    "<font color=pink>The text to be show in pink</font>"
   ]
  },
  {
   "cell_type": "code",
   "execution_count": null,
   "id": "e9f73a65",
   "metadata": {},
   "outputs": [],
   "source": []
  }
 ],
 "metadata": {
  "kernelspec": {
   "display_name": "Python 3",
   "language": "python",
   "name": "python3"
  },
  "language_info": {
   "codemirror_mode": {
    "name": "ipython",
    "version": 3
   },
   "file_extension": ".py",
   "mimetype": "text/x-python",
   "name": "python",
   "nbconvert_exporter": "python",
   "pygments_lexer": "ipython3",
   "version": "3.8.8"
  }
 },
 "nbformat": 4,
 "nbformat_minor": 5
}
