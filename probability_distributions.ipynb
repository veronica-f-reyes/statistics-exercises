{
 "cells": [
  {
   "cell_type": "markdown",
   "id": "e41d585c",
   "metadata": {},
   "source": [
    "### Probability Distribution Exercises\n",
    "\n",
    "1. A bank found that the average number of cars waiting during the noon hour at a drive-up window follows a Poisson distribution with a mean of 2 cars. Make a chart of this distribution and answer these questions concerning the probability of cars waiting at the drive-up window.\n",
    "\n",
    "What is probability that no cars drive up in the noon hour?\n",
    "What is the probability that 3 or more cars come through the drive through?\n",
    "How likely is it that the drive through gets at least 1 car?"
   ]
  },
  {
   "cell_type": "code",
   "execution_count": 11,
   "id": "9f5dadd8",
   "metadata": {},
   "outputs": [],
   "source": [
    "import matplotlib.pyplot as plt\n",
    "import numpy as np\n",
    "from scipy import stats\n",
    "\n",
    "# import seaborn\n",
    "import seaborn as sns\n",
    "# settings for seaborn plotting style\n",
    "sns.set(color_codes=True)\n",
    "# settings for seaborn plot sizes\n",
    "sns.set(rc={'figure.figsize':(5,5)})"
   ]
  },
  {
   "cell_type": "code",
   "execution_count": 12,
   "id": "bfd46711",
   "metadata": {},
   "outputs": [],
   "source": [
    "from scipy.stats import poisson\n",
    "data_poisson = poisson.rvs(mu=2, size=10000)"
   ]
  },
  {
   "cell_type": "code",
   "execution_count": 17,
   "id": "e8dd3d54",
   "metadata": {},
   "outputs": [
    {
     "data": {
      "text/plain": [
       "[Text(0.5, 0, 'Poisson Distribution'), Text(0, 0.5, 'Frequency')]"
      ]
     },
     "execution_count": 17,
     "metadata": {},
     "output_type": "execute_result"
    },
    {
     "data": {
      "image/png": "[encoded data removed]",
      "text/plain": [
       "<Figure size 360x360 with 1 Axes>"
      ]
     },
     "metadata": {},
     "output_type": "display_data"
    }
   ],
   "source": [
    "ax = sns.histplot(data_poisson,\n",
    "                  bins=30,\n",
    "                  kde=False,\n",
    "                  color='skyblue')\n",
    "ax.set(xlabel='Poisson Distribution', ylabel='Frequency')"
   ]
  },
  {
   "cell_type": "code",
   "execution_count": 18,
   "id": "bd6790ff",
   "metadata": {},
   "outputs": [
    {
     "data": {
      "text/plain": [
       "0.1353352832366127"
      ]
     },
     "execution_count": 18,
     "metadata": {},
     "output_type": "execute_result"
    }
   ],
   "source": [
    "# What is probability that no cars drive up in the noon hour?\n",
    "\n",
    "stats.poisson(2).pmf(0)"
   ]
  },
  {
   "cell_type": "code",
   "execution_count": 22,
   "id": "d2798a95",
   "metadata": {},
   "outputs": [
    {
     "data": {
      "text/plain": [
       "0.32332358381693654"
      ]
     },
     "execution_count": 22,
     "metadata": {},
     "output_type": "execute_result"
    }
   ],
   "source": [
    "# What is the probability that 3 or more cars come through the drive through? \n",
    "\n",
    "stats.poisson(2).sf(2)"
   ]
  },
  {
   "cell_type": "code",
   "execution_count": 26,
   "id": "a643d9a5",
   "metadata": {},
   "outputs": [
    {
     "data": {
      "text/plain": [
       "0.8646647167633873"
      ]
     },
     "execution_count": 26,
     "metadata": {},
     "output_type": "execute_result"
    }
   ],
   "source": [
    "#  How likely is it that the drive through gets at least 1 car?\n",
    "\n",
    "stats.poisson(2).sf(0)"
   ]
  },
  {
   "cell_type": "markdown",
   "id": "715b023b",
   "metadata": {},
   "source": [
    "# 2. Grades of State University graduates are normally distributed with a mean of 3.0 and a standard deviation of .3. Calculate the following:\n",
    "\n",
    "What grade point average is required to be in the top 5% of the graduating class?\n",
    "What GPA constitutes the bottom 15% of the class?\n",
    "An eccentric alumnus left scholarship money for students in the third decile from the bottom of their class. Determine the range of the third decile. Would a student with a 2.8 grade point average qualify for this scholarship?\n",
    "If I have a GPA of 3.5, what percentile am I in?"
   ]
  },
  {
   "cell_type": "code",
   "execution_count": 33,
   "id": "64871c86",
   "metadata": {},
   "outputs": [
    {
     "data": {
      "text/plain": [
       "3.4934560880854417"
      ]
     },
     "execution_count": 33,
     "metadata": {},
     "output_type": "execute_result"
    }
   ],
   "source": [
    "# What grade point average is required to be in the top 5% of the graduating class? \n",
    "\n",
    "\n",
    "μ = 3.0\n",
    "σ = 0.3\n",
    "\n",
    "gpa = stats.norm(μ, σ)\n",
    "\n",
    "top_5_percent_gpa = gpa.isf(.05)\n",
    "top_5_percent_gpa"
   ]
  },
  {
   "cell_type": "code",
   "execution_count": 34,
   "id": "f25333e2",
   "metadata": {},
   "outputs": [
    {
     "data": {
      "text/plain": [
       "2.689069983151863"
      ]
     },
     "execution_count": 34,
     "metadata": {},
     "output_type": "execute_result"
    }
   ],
   "source": [
    "# What GPA constitutes the bottom 15% of the class? \n",
    "\n",
    "bottom_15_percent_gpa = gpa.ppf(.15)\n",
    "bottom_15_percent_gpa"
   ]
  },
  {
   "cell_type": "code",
   "execution_count": 39,
   "id": "99b394f1",
   "metadata": {},
   "outputs": [
    {
     "data": {
      "text/plain": [
       "3.697904362212252"
      ]
     },
     "execution_count": 39,
     "metadata": {},
     "output_type": "execute_result"
    }
   ],
   "source": [
    "# An eccentric alumnus left scholarship money for students in the third decile from the bottom of their class. \n",
    "# Determine the range of the third decile. \n",
    "\n",
    "top_gpa = gpa.isf(0.01)\n",
    "top_gpa"
   ]
  },
  {
   "cell_type": "code",
   "execution_count": 40,
   "id": "b552b1df",
   "metadata": {},
   "outputs": [
    {
     "data": {
      "text/plain": [
       "2.302095637787748"
      ]
     },
     "execution_count": 40,
     "metadata": {},
     "output_type": "execute_result"
    }
   ],
   "source": [
    "lowest_gpa = gpa.ppf(.01)\n",
    "lowest_gpa\n",
    "\n",
    "# Would a student with a 2.8 grade point average qualify for this scholarship?"
   ]
  },
  {
   "cell_type": "code",
   "execution_count": 42,
   "id": "98fa069c",
   "metadata": {},
   "outputs": [
    {
     "data": {
      "text/plain": [
       "1.395808724424504"
      ]
     },
     "execution_count": 42,
     "metadata": {},
     "output_type": "execute_result"
    }
   ],
   "source": [
    "gpa_range = top_gpa - lowest_gpa\n",
    "gpa_range"
   ]
  },
  {
   "cell_type": "code",
   "execution_count": 43,
   "id": "09b113b0",
   "metadata": {},
   "outputs": [
    {
     "data": {
      "text/plain": [
       "0.348952181106126"
      ]
     },
     "execution_count": 43,
     "metadata": {},
     "output_type": "execute_result"
    }
   ],
   "source": [
    "q1 = gpa_range/4\n",
    "q1"
   ]
  },
  {
   "cell_type": "code",
   "execution_count": 44,
   "id": "a35c9da4",
   "metadata": {},
   "outputs": [
    {
     "data": {
      "text/plain": [
       "2.6510478188938738"
      ]
     },
     "execution_count": 44,
     "metadata": {},
     "output_type": "execute_result"
    }
   ],
   "source": [
    "# Would a student with a 2.8 grade point average qualify for this scholarship?\n",
    "gpa_scholarship = lowest_gpa + q1\n",
    "gpa_scholarship"
   ]
  },
  {
   "cell_type": "code",
   "execution_count": null,
   "id": "d56eb088",
   "metadata": {},
   "outputs": [],
   "source": [
    "#If I have a GPA of 3.5, what percentile am I in?\n"
   ]
  }
 ],
 "metadata": {
  "kernelspec": {
   "display_name": "Python 3",
   "language": "python",
   "name": "python3"
  },
  "language_info": {
   "codemirror_mode": {
    "name": "ipython",
    "version": 3
   },
   "file_extension": ".py",
   "mimetype": "text/x-python",
   "name": "python",
   "nbconvert_exporter": "python",
   "pygments_lexer": "ipython3",
   "version": "3.8.8"
  }
 },
 "nbformat": 4,
 "nbformat_minor": 5
}
