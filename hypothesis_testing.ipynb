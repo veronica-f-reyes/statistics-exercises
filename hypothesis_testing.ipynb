{
 "cells": [
  {
   "cell_type": "markdown",
   "id": "36cbf1aa",
   "metadata": {},
   "source": [
    "# Hypothesis Testing Exercises \n",
    "***\n",
    "\n",
    "For each of the following questions, formulate a null and alternative hypothesis (be as specific as you can be), then give an example of what a true positive, true negative, type I and type II errors would look like. Note that some of the questions are intentionally phrased in a vague way. It is your job to reword these as more precise questions that could be tested.\n"
   ]
  },
  {
   "cell_type": "markdown",
   "id": "a3f9b764",
   "metadata": {},
   "source": [
    "## <span style='color:Navy'> Has the network latency gone up since we switched internet service providers? </span>\n",
    "***"
   ]
  },
  {
   "cell_type": "markdown",
   "id": "af9868a6",
   "metadata": {},
   "source": [
    "####  <span style='font-family:Georgia'><span style='color:Blue'> Null Hypothesis: </span>\n",
    "\n",
    "network latency(previous ISP) <= network latency(current ISP)\n",
    "    (The previous ISP network latency is less than or equal to the current ISP network latency. )\n",
    "    \n",
    "    \n",
    "#### <span style='font-family:Georgia'><span style='color:Blue'>  Alternate Hypothesis:  </span>\n",
    "network latency(previous) > network latency(current)\n",
    "(The previous ISP network latency is greater than or equal to the current ISP network latency.)\n",
    "    \n",
    "(continuous numeric)  (continuous numeric)    \n",
    "\n",
    "#### <span style='font-family:Georgia'><span style='color:Blue'>  True positive: </span>\n",
    "\n",
    "The new ISP has less network latency rejecting the null hypothesis and proving the null hypothesis as false (and the p-value is less than 5%).\n",
    "    \n",
    "#### <span style='font-family:Georgia'><span style='color:Blue'>  True negative:  </span>\n",
    "\n",
    "The new ISP has greater network latency validating the null hypothesis and proving the null hypothesis as true (and the p-value is greater than 5%).\n",
    "    \n",
    "#### <span style='font-family:Georgia'><span style='color:Blue'>  Type I errors: </span>\n",
    "\n",
    "We say the current ISP network latency is less than the current ISP network provider but it's not, it's actually greater than the previous ISP's network latency. \n",
    "    \n",
    "    (p value is less than 0.05 but in reality there is no difference in latency)\n",
    "\n",
    "\n",
    "(we reject the null hypothesis, but, in reality, the null hypothesis is true.)\n",
    "\n",
    "    \n",
    "#### <span style='font-family:Georgia'><span style='color:Blue'>  Type II errors: </span>\n",
    "\n",
    "We say the previous network latency is less than the current but it was actually greater than current. \n",
    "    \n",
    "  (p value is greater than 0.05 and we say the previous network latency was less but it actually was greater)\n",
    "\n",
    " (we fail to reject the null hypothesis when it is actually false.)"
   ]
  },
  {
   "cell_type": "markdown",
   "id": "1fcd6c31",
   "metadata": {},
   "source": [
    "## <span style='color:Navy'>Is the website redesign any good?</span>\n"
   ]
  },
  {
   "cell_type": "markdown",
   "id": "0f966b6c",
   "metadata": {},
   "source": [
    "***\n",
    "####  <span style='font-family:Georgia'><span style='color:Blue'>Null Hypothesis:</span>\n",
    "\n",
    "previous website reviews  <= new website reviews \n",
    "    (The previous website review are greater than or equal to the current website review. )\n",
    "    \n",
    "####  <span style='font-family:Georgia'><span style='color:Blue'>Alternate Hypothesis:</span>  \n",
    "previous website reviews > new website reviews \n",
    "   (The previous website reviews are greater than the current website review. )\n",
    "    \n",
    "(continuous numeric)  (continuous numeric)    \n",
    "\n",
    "####  <span style='font-family:Georgia'><span style='color:Blue'>True positive:</span>\n",
    "\n",
    "The new website reviews are greater than the current website's reviews rejecting the null hypothesis and proving the null hypothesis as false (and the p-value is less than 5%).\n",
    "    \n",
    "####  <span style='font-family:Georgia'><span style='color:Blue'>True negative: </span>\n",
    "\n",
    "The new website reviews are less than or equal to the current website's reviews validating the null hypothesis and proving the null hypothesis as true (and the p-value is greater than 5%).\n",
    "    \n",
    "####  <span style='font-family:Georgia'><span style='color:Blue'>Type I errors:</span>\n",
    "\n",
    "We say the current website's reviews are greater than the previous website's reviews but they're not, it's they are actually less than the previous website's reviews. \n",
    "    \n",
    "    (p value is less than 0.05 but in reality there's less reviews with the new website)\n",
    "\n",
    "\n",
    "(we reject the null hypothesis, but, in reality, the null hypothesis is true.)\n",
    "\n",
    "    \n",
    "####  <span style='font-family:Georgia'><span style='color:Blue'>Type II errors: </span>\n",
    "\n",
    "We say the new website's reviews are less than the previous but it was actually greater than previous. \n",
    "    \n",
    "  (p value is greater than 0.05 and we say the new website is less but it actually was greater)\n",
    "\n",
    " (we fail to reject the null hypothesis when it is actually false.)"
   ]
  },
  {
   "cell_type": "markdown",
   "id": "d3fe1037",
   "metadata": {},
   "source": [
    "## <span style='color:Navy'> Is our television ad driving more sales? </span>"
   ]
  },
  {
   "cell_type": "markdown",
   "id": "baaa8440",
   "metadata": {},
   "source": [
    "***\n",
    "####  <span style='font-family:Georgia'><span style='color:Blue'>Null Hypothesis:</span>\n",
    "\n",
    "after ad sales  <= before ad sales \n",
    "    (Sales after the ad are less than or equal to the number before the ad sales. )\n",
    "    \n",
    "####  <span style='font-family:Georgia'><span style='color:Blue'>Alternate Hypothesis:  </span>\n",
    "after ad sales  > before ad sales \n",
    "    (Sales after the ad are greater than the number before the ad sales. )\n",
    "    \n",
    "(continuous numeric)  (continuous numeric)    \n",
    "\n",
    "####  <span style='font-family:Georgia'><span style='color:Blue'>True positive:</span>\n",
    "\n",
    "The sales after the ad are greater than before the ad's sales rejecting the null hypothesis and proving the null hypothesis as false (and the p-value is less than 5%).\n",
    "    \n",
    "####  <span style='font-family:Georgia'><span style='color:Blue'>True negative: </span>\n",
    "\n",
    "The sales after the ad are less than before the ad's sales reviews validating the null hypothesis and proving the null hypothesis as true (and the p-value is greater than 5%).\n",
    "    \n",
    "####  <span style='font-family:Georgia'><span style='color:Blue'>Type I errors:</span>\n",
    "\n",
    "We say the sales after the ad are greater than the previous website's reviews but they're not, they are actually less than before the ad. \n",
    "    \n",
    "    (p value is less than 0.05 but in reality there was less sales before the ad)\n",
    "\n",
    "\n",
    "(we reject the null hypothesis, but, in reality, the null hypothesis is true.)\n",
    "\n",
    "    \n",
    "####  <span style='font-family:Georgia'><span style='color:Blue'>Type II errors: </span>\n",
    "\n",
    "We say the sales after the ad are less than the before the ad but it was actually greater than before. \n",
    "    \n",
    "  (p value is greater than 0.05 and we say the sales after the ad are less but it actually was greater)\n",
    "\n",
    " (we fail to reject the null hypothesis when it is actually false.)"
   ]
  },
  {
   "cell_type": "code",
   "execution_count": null,
   "id": "886b68b4",
   "metadata": {},
   "outputs": [],
   "source": []
  },
  {
   "cell_type": "code",
   "execution_count": null,
   "id": "c813a1a9",
   "metadata": {},
   "outputs": [],
   "source": []
  }
 ],
 "metadata": {
  "kernelspec": {
   "display_name": "Python 3",
   "language": "python",
   "name": "python3"
  },
  "language_info": {
   "codemirror_mode": {
    "name": "ipython",
    "version": 3
   },
   "file_extension": ".py",
   "mimetype": "text/x-python",
   "name": "python",
   "nbconvert_exporter": "python",
   "pygments_lexer": "ipython3",
   "version": "3.8.8"
  }
 },
 "nbformat": 4,
 "nbformat_minor": 5
}
