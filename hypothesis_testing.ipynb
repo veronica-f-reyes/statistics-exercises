{
 "cells": [
  {
   "cell_type": "markdown",
   "id": "6ca1d86a",
   "metadata": {},
   "source": [
    "### Hypothesis Testing Exercises \n",
    "\n",
    "For each of the following questions, formulate a null and alternative hypothesis (be as specific as you can be), then give an example of what a true positive, true negative, type I and type II errors would look like. Note that some of the questions are intentionally phrased in a vague way. It is your job to reword these as more precise questions that could be tested.\n"
   ]
  },
  {
   "cell_type": "markdown",
   "id": "6c0b1f0f",
   "metadata": {},
   "source": [
    "### Has the network latency gone up since we switched internet service providers?\n",
    "***"
   ]
  },
  {
   "cell_type": "markdown",
   "id": "b96bfcd4",
   "metadata": {},
   "source": [
    "#### Null Hypothesis:\n",
    "\n",
    "network latency(previous ISP) <= network latency(current ISP)\n",
    "    (The previous ISP network latency is less than or equal to the current ISP network latency. )\n",
    "    \n",
    "    \n",
    "#### Alternate Hypothesis:  \n",
    "network latency(previous) > network latency(current)\n",
    "(The previous ISP network latency is greater than or equal to the current ISP network latency.)\n",
    "    \n",
    "(continuous numeric)  (continuous numeric)    \n",
    "\n",
    "#### True positive:\n",
    "\n",
    "The new ISP has less network latency rejecting the null hypothesis and proving the null hypothesis as false (and the p-value is less than 5%).\n",
    "    \n",
    "#### True negative: \n",
    "\n",
    "The new ISP has greater network latency validating the null hypothesis and proving the null hypothesis as true (and the p-value is greater than 5%).\n",
    "    \n",
    "#### Type I errors:\n",
    "\n",
    "We say the current ISP network latency is less than the current ISP network provider but it's not, it's actually greater than the previous ISP's network latency. \n",
    "    \n",
    "    (p value is less than 0.05 but in reality there is no difference in latency)\n",
    "\n",
    "\n",
    "(we reject the null hypothesis, but, in reality, the null hypothesis is true.)\n",
    "\n",
    "    \n",
    "#### Type II errors: \n",
    "\n",
    "We say the previous network latency is less than the current but it was actually greater than current. \n",
    "    \n",
    "  (p value is greater than 0.05 and we say the previous network latency was less but it actually was greater)\n",
    "\n",
    " (we fail to reject the null hypothesis when it is actually false.)"
   ]
  },
  {
   "cell_type": "markdown",
   "id": "a29e8dbd",
   "metadata": {},
   "source": [
    "### Is the website redesign any good?\n"
   ]
  },
  {
   "cell_type": "markdown",
   "id": "09d53484",
   "metadata": {},
   "source": [
    "***\n",
    "#### Null Hypothesis:\n",
    "\n",
    "previous website reviews  <= new website reviews \n",
    "    (The previous website review are greater than or equal to the current website review. )\n",
    "    \n",
    "#### Alternate Hypothesis:  \n",
    "previous website reviews > new website reviews \n",
    "   (The previous website reviews are greater than the current website review. )\n",
    "    \n",
    "(continuous numeric)  (continuous numeric)    \n",
    "\n",
    "#### True positive:\n",
    "\n",
    "The new website reviews are greater than the current website's reviews rejecting the null hypothesis and proving the null hypothesis as false (and the p-value is less than 5%).\n",
    "    \n",
    "#### True negative: \n",
    "\n",
    "The new website reviews are less than or equal to the current website's reviews validating the null hypothesis and proving the null hypothesis as true (and the p-value is greater than 5%).\n",
    "    \n",
    "#### Type I errors:\n",
    "\n",
    "We say the current website's reviews are greater than the previous website's reviews but they're not, it's they are actually less than the previous website's reviews. \n",
    "    \n",
    "    (p value is less than 0.05 but in reality there's less reviews with the new website)\n",
    "\n",
    "\n",
    "(we reject the null hypothesis, but, in reality, the null hypothesis is true.)\n",
    "\n",
    "    \n",
    "#### Type II errors: \n",
    "\n",
    "We say the new website's reviews are less than the previous but it was actually greater than previous. \n",
    "    \n",
    "  (p value is greater than 0.05 and we say the new website is less but it actually was greater)\n",
    "\n",
    " (we fail to reject the null hypothesis when it is actually false.)"
   ]
  },
  {
   "cell_type": "markdown",
   "id": "5e6f80fa",
   "metadata": {},
   "source": [
    "### Is our television ad driving more sales?"
   ]
  },
  {
   "cell_type": "markdown",
   "id": "be361dc1",
   "metadata": {},
   "source": [
    "***\n",
    "#### Null Hypothesis:\n",
    "\n",
    "after ad sales  <= before ad sales \n",
    "    (Sales after the ad are less than or equal to the number before the ad sales. )\n",
    "    \n",
    "#### Alternate Hypothesis:  \n",
    "after ad sales  > before ad sales \n",
    "    (Sales after the ad are greater to the number before the ad sales. )\n",
    "    \n",
    "(continuous numeric)  (continuous numeric)    \n",
    "\n",
    "#### True positive:\n",
    "\n",
    "The sales after the ad are greater than before the ad's sales rejecting the null hypothesis and proving the null hypothesis as false (and the p-value is less than 5%).\n",
    "    \n",
    "#### True negative: \n",
    "\n",
    "The sales after the ad are less than before the ad's sales reviews validating the null hypothesis and proving the null hypothesis as true (and the p-value is greater than 5%).\n",
    "    \n",
    "#### Type I errors:\n",
    "\n",
    "We say the sales after the ad are greater than the previous website's reviews but they're not, they are actually less than before the ad. \n",
    "    \n",
    "    (p value is less than 0.05 but in reality there was less sales before the ad)\n",
    "\n",
    "\n",
    "(we reject the null hypothesis, but, in reality, the null hypothesis is true.)\n",
    "\n",
    "    \n",
    "#### Type II errors: \n",
    "\n",
    "We say the sales after the ad are less than the before the ad but it was actually greater than before. \n",
    "    \n",
    "  (p value is greater than 0.05 and we say the sales after the ad are less but it actually was greater)\n",
    "\n",
    " (we fail to reject the null hypothesis when it is actually false.)"
   ]
  },
  {
   "cell_type": "markdown",
   "id": "64d92912",
   "metadata": {},
   "source": []
  }
 ],
 "metadata": {
  "kernelspec": {
   "display_name": "Python 3",
   "language": "python",
   "name": "python3"
  },
  "language_info": {
   "codemirror_mode": {
    "name": "ipython",
    "version": 3
   },
   "file_extension": ".py",
   "mimetype": "text/x-python",
   "name": "python",
   "nbconvert_exporter": "python",
   "pygments_lexer": "ipython3",
   "version": "3.8.8"
  }
 },
 "nbformat": 4,
 "nbformat_minor": 5
}
