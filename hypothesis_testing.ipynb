{
 "cells": [
  {
   "cell_type": "markdown",
   "id": "36cbf1aa",
   "metadata": {},
   "source": [
    "# Hypothesis Testing Exercises \n",
    "***\n",
    "\n",
    "For each of the following questions, formulate a null and alternative hypothesis (be as specific as you can be), then give an example of what a true positive, true negative, type I and type II errors would look like. Note that some of the questions are intentionally phrased in a vague way. It is your job to reword these as more precise questions that could be tested.\n"
   ]
  },
  {
   "cell_type": "markdown",
   "id": "a3f9b764",
   "metadata": {},
   "source": [
    "## <span style='color:Navy'> Has the network latency gone up since we switched internet service providers? </span>\n",
    "***"
   ]
  },
  {
   "cell_type": "markdown",
   "id": "af9868a6",
   "metadata": {},
   "source": [
    "####  <span style='font-family:Georgia'><span style='color:Blue'> Null Hypothesis: </span>\n",
    "\n",
    "network latency(previous ISP) <= network latency(current ISP)\n",
    "    (The previous ISP network latency is less than or equal to the current ISP network latency. )\n",
    "    \n",
    "    \n",
    "#### <span style='font-family:Georgia'><span style='color:Blue'>  Alternate Hypothesis:  </span>\n",
    "network latency(previous) > network latency(current)\n",
    "(The previous ISP network latency is greater than or equal to the current ISP network latency.)\n",
    "    \n",
    "(continuous numeric)  (continuous numeric)    \n",
    "\n",
    "#### <span style='font-family:Georgia'><span style='color:Blue'>  True positive: </span>\n",
    "\n",
    "The new ISP has less network latency rejecting the null hypothesis and proving the null hypothesis as false (and the p-value is less than 5%).\n",
    "    \n",
    "#### <span style='font-family:Georgia'><span style='color:Blue'>  True negative:  </span>\n",
    "\n",
    "The new ISP has greater network latency validating the null hypothesis and proving the null hypothesis as true (and the p-value is greater than 5%).\n",
    "    \n",
    "#### <span style='font-family:Georgia'><span style='color:Blue'>  Type I errors: </span>\n",
    "\n",
    "We say the current ISP network latency is less than the current ISP network provider but it's not, it's actually greater than the previous ISP's network latency. \n",
    "    \n",
    "    (p value is less than 0.05 but in reality there is no difference in latency)\n",
    "\n",
    "\n",
    "(we reject the null hypothesis, but, in reality, the null hypothesis is true.)\n",
    "\n",
    "    \n",
    "#### <span style='font-family:Georgia'><span style='color:Blue'>  Type II errors: </span>\n",
    "\n",
    "We say the previous network latency is less than the current but it was actually greater than current. \n",
    "    \n",
    "  (p value is greater than 0.05 and we say the previous network latency was less but it actually was greater)\n",
    "\n",
    " (we fail to reject the null hypothesis when it is actually false.)"
   ]
  },
  {
   "cell_type": "markdown",
   "id": "1fcd6c31",
   "metadata": {},
   "source": [
    "## <span style='color:Navy'>Is the website redesign any good?</span>\n"
   ]
  },
  {
   "cell_type": "markdown",
   "id": "0f966b6c",
   "metadata": {},
   "source": [
    "***\n",
    "####  <span style='font-family:Georgia'><span style='color:Blue'>Null Hypothesis:</span>\n",
    "\n",
    "previous website reviews  <= new website reviews \n",
    "    (The previous website review are greater than or equal to the current website review. )\n",
    "    \n",
    "####  <span style='font-family:Georgia'><span style='color:Blue'>Alternate Hypothesis:</span>  \n",
    "previous website reviews > new website reviews \n",
    "   (The previous website reviews are greater than the current website review. )\n",
    "    \n",
    "(continuous numeric)  (continuous numeric)    \n",
    "\n",
    "####  <span style='font-family:Georgia'><span style='color:Blue'>True positive:</span>\n",
    "\n",
    "The new website reviews are greater than the current website's reviews rejecting the null hypothesis and proving the null hypothesis as false (and the p-value is less than 5%).\n",
    "    \n",
    "####  <span style='font-family:Georgia'><span style='color:Blue'>True negative: </span>\n",
    "\n",
    "The new website reviews are less than or equal to the current website's reviews validating the null hypothesis and proving the null hypothesis as true (and the p-value is greater than 5%).\n",
    "    \n",
    "####  <span style='font-family:Georgia'><span style='color:Blue'>Type I errors:</span>\n",
    "\n",
    "We say the current website's reviews are greater than the previous website's reviews but they're not, it's they are actually less than the previous website's reviews. \n",
    "    \n",
    "    (p value is less than 0.05 but in reality there's less reviews with the new website)\n",
    "\n",
    "\n",
    "(we reject the null hypothesis, but, in reality, the null hypothesis is true.)\n",
    "\n",
    "    \n",
    "####  <span style='font-family:Georgia'><span style='color:Blue'>Type II errors: </span>\n",
    "\n",
    "We say the new website's reviews are less than the previous but it was actually greater than previous. \n",
    "    \n",
    "  (p value is greater than 0.05 and we say the new website is less but it actually was greater)\n",
    "\n",
    " (we fail to reject the null hypothesis when it is actually false.)"
   ]
  },
  {
   "cell_type": "markdown",
   "id": "d3fe1037",
   "metadata": {},
   "source": [
    "## <span style='color:Navy'> Is our television ad driving more sales? </span>"
   ]
  },
  {
   "cell_type": "markdown",
   "id": "baaa8440",
   "metadata": {},
   "source": [
    "***\n",
    "####  <span style='font-family:Georgia'><span style='color:Blue'>Null Hypothesis:</span>\n",
    "\n",
    "after ad sales  <= before ad sales \n",
    "    (Sales after the ad are less than or equal to the number before the ad sales. )\n",
    "    \n",
    "####  <span style='font-family:Georgia'><span style='color:Blue'>Alternate Hypothesis:  </span>\n",
    "after ad sales  > before ad sales \n",
    "    (Sales after the ad are greater than the number before the ad sales. )\n",
    "    \n",
    "(continuous numeric)  (continuous numeric)    \n",
    "\n",
    "####  <span style='font-family:Georgia'><span style='color:Blue'>True positive:</span>\n",
    "\n",
    "The sales after the ad are greater than before the ad's sales rejecting the null hypothesis and proving the null hypothesis as false (and the p-value is less than 5%).\n",
    "    \n",
    "####  <span style='font-family:Georgia'><span style='color:Blue'>True negative: </span>\n",
    "\n",
    "The sales after the ad are less than before the ad's sales reviews validating the null hypothesis and proving the null hypothesis as true (and the p-value is greater than 5%).\n",
    "    \n",
    "####  <span style='font-family:Georgia'><span style='color:Blue'>Type I errors:</span>\n",
    "\n",
    "We say the sales after the ad are greater than the previous website's reviews but they're not, they are actually less than before the ad. \n",
    "    \n",
    "    (p value is less than 0.05 but in reality there was less sales before the ad)\n",
    "\n",
    "\n",
    "(we reject the null hypothesis, but, in reality, the null hypothesis is true.)\n",
    "\n",
    "    \n",
    "####  <span style='font-family:Georgia'><span style='color:Blue'>Type II errors: </span>\n",
    "\n",
    "We say the sales after the ad are less than the before the ad but it was actually greater than before. \n",
    "    \n",
    "  (p value is greater than 0.05 and we say the sales after the ad are less but it actually was greater)\n",
    "\n",
    " (we fail to reject the null hypothesis when it is actually false.)"
   ]
  },
  {
   "cell_type": "markdown",
   "id": "442037df",
   "metadata": {},
   "source": [
    "# T-Test Exercises\n",
    "\n",
    "         Ace Realty wants to determine whether the average time it takes to sell homes is different for its two offices. A sample of 40 sales from office #1 revealed a mean of 90 days and a standard deviation of 15 days. A sample of 50 sales from office #2 revealed a mean of 100 days and a standard deviation of 20 days. Use a .05 level of significance."
   ]
  },
  {
   "cell_type": "code",
   "execution_count": 139,
   "id": "e7fb7083",
   "metadata": {},
   "outputs": [],
   "source": [
    "import pandas as pd\n",
    "import matplotlib.pyplot as plt\n",
    "import numpy as np\n",
    "from pydataset import data\n",
    "from scipy import stats"
   ]
  },
  {
   "cell_type": "markdown",
   "id": "40a322a3",
   "metadata": {},
   "source": [
    "#### <span style= 'color : Navy'> $H_{0}$: There is no differnece in average time it takes to sell homes at two offices.  \n",
    "#### <span style= 'color : Navy'>$H_{a}$: There is a differnece in average time it takes to sell homes at two offices.  \n",
    "</span>"
   ]
  },
  {
   "cell_type": "code",
   "execution_count": 174,
   "id": "d003d59d",
   "metadata": {},
   "outputs": [],
   "source": [
    "alpha = 0.05\n",
    "\n",
    "stdev_office1 = 15\n",
    "\n",
    "office1_sales_sample = 40\n",
    "\n",
    "office1_sales_days_mean = 90\n",
    "\n",
    "office1_sales = np.random.normal(office1_sales_days_mean,stdev_office1, size=(office1_sales_sample)) \n"
   ]
  },
  {
   "cell_type": "code",
   "execution_count": 141,
   "id": "93d22633",
   "metadata": {},
   "outputs": [],
   "source": [
    "stdev_office2 = 20\n",
    "\n",
    "office2_sales_sample = 50\n",
    "\n",
    "office2_sales_days_mean = 100\n",
    "\n",
    "office2_sales = np.random.normal(office2_sales_days_mean,stdev_office2, size=(office2_sales_sample) )\n"
   ]
  },
  {
   "cell_type": "code",
   "execution_count": 142,
   "id": "c813a1a9",
   "metadata": {},
   "outputs": [
    {
     "data": {
      "text/plain": [
       "(-2.165876097941915, 0.03308743246072445)"
      ]
     },
     "execution_count": 142,
     "metadata": {},
     "output_type": "execute_result"
    }
   ],
   "source": [
    "t, p = stats.ttest_ind(office1_sales, office2_sales, equal_var=False)\n",
    "\n",
    "t, p\n"
   ]
  },
  {
   "cell_type": "code",
   "execution_count": 143,
   "id": "5f137646",
   "metadata": {},
   "outputs": [
    {
     "data": {
      "text/plain": [
       "MannwhitneyuResult(statistic=769.0, pvalue=0.030627156594212196)"
      ]
     },
     "execution_count": 143,
     "metadata": {},
     "output_type": "execute_result"
    }
   ],
   "source": [
    "stats.mannwhitneyu(office1_sales, office2_sales)"
   ]
  },
  {
   "cell_type": "code",
   "execution_count": 144,
   "id": "efeb03a5",
   "metadata": {},
   "outputs": [
    {
     "data": {
      "text/plain": [
       "True"
      ]
     },
     "execution_count": 144,
     "metadata": {},
     "output_type": "execute_result"
    }
   ],
   "source": [
    "p < alpha"
   ]
  },
  {
   "cell_type": "code",
   "execution_count": 145,
   "id": "a9453ae7",
   "metadata": {},
   "outputs": [
    {
     "name": "stdout",
     "output_type": "stream",
     "text": [
      "Reject null hypothesis? True\n"
     ]
    }
   ],
   "source": [
    "print(\"Reject null hypothesis?\" , p<alpha)"
   ]
  },
  {
   "cell_type": "code",
   "execution_count": 146,
   "id": "e68e15ac",
   "metadata": {},
   "outputs": [
    {
     "name": "stdout",
     "output_type": "stream",
     "text": [
      "We fail to reject $H_{0}$ & t < 0\n"
     ]
    }
   ],
   "source": [
    "if p/2 > alpha:\n",
    "    print(\"We fail to reject $H_{0}$\")\n",
    "elif t < 0:\n",
    "    print(\"We fail to reject $H_{0}$ & t < 0\")\n",
    "else:\n",
    "    print(\"We reject $H_{0}$ \")"
   ]
  },
  {
   "cell_type": "markdown",
   "id": "6cf6ff9e",
   "metadata": {},
   "source": [
    "# Load the mpg dataset and use it to answer the following questions:\n",
    "\n",
    "1. Is there a difference in fuel-efficiency in cars from 2008 vs 1999?\n",
    "2. Are compact cars more fuel-efficient than the average car?\n",
    "3. Do manual cars get better gas mileage than automatic cars?"
   ]
  },
  {
   "cell_type": "code",
   "execution_count": 147,
   "id": "165b4caa",
   "metadata": {},
   "outputs": [],
   "source": [
    "df = data(\"mpg\")"
   ]
  },
  {
   "cell_type": "code",
   "execution_count": 148,
   "id": "c3b40348",
   "metadata": {},
   "outputs": [
    {
     "data": {
      "text/html": [
       "<div>\n",
       "<style scoped>\n",
       "    .dataframe tbody tr th:only-of-type {\n",
       "        vertical-align: middle;\n",
       "    }\n",
       "\n",
       "    .dataframe tbody tr th {\n",
       "        vertical-align: top;\n",
       "    }\n",
       "\n",
       "    .dataframe thead th {\n",
       "        text-align: right;\n",
       "    }\n",
       "</style>\n",
       "<table border=\"1\" class=\"dataframe\">\n",
       "  <thead>\n",
       "    <tr style=\"text-align: right;\">\n",
       "      <th></th>\n",
       "      <th>manufacturer</th>\n",
       "      <th>model</th>\n",
       "      <th>displ</th>\n",
       "      <th>year</th>\n",
       "      <th>cyl</th>\n",
       "      <th>trans</th>\n",
       "      <th>drv</th>\n",
       "      <th>cty</th>\n",
       "      <th>hwy</th>\n",
       "      <th>fl</th>\n",
       "      <th>class</th>\n",
       "    </tr>\n",
       "  </thead>\n",
       "  <tbody>\n",
       "    <tr>\n",
       "      <th>1</th>\n",
       "      <td>audi</td>\n",
       "      <td>a4</td>\n",
       "      <td>1.8</td>\n",
       "      <td>1999</td>\n",
       "      <td>4</td>\n",
       "      <td>auto(l5)</td>\n",
       "      <td>f</td>\n",
       "      <td>18</td>\n",
       "      <td>29</td>\n",
       "      <td>p</td>\n",
       "      <td>compact</td>\n",
       "    </tr>\n",
       "    <tr>\n",
       "      <th>2</th>\n",
       "      <td>audi</td>\n",
       "      <td>a4</td>\n",
       "      <td>1.8</td>\n",
       "      <td>1999</td>\n",
       "      <td>4</td>\n",
       "      <td>manual(m5)</td>\n",
       "      <td>f</td>\n",
       "      <td>21</td>\n",
       "      <td>29</td>\n",
       "      <td>p</td>\n",
       "      <td>compact</td>\n",
       "    </tr>\n",
       "    <tr>\n",
       "      <th>3</th>\n",
       "      <td>audi</td>\n",
       "      <td>a4</td>\n",
       "      <td>2.0</td>\n",
       "      <td>2008</td>\n",
       "      <td>4</td>\n",
       "      <td>manual(m6)</td>\n",
       "      <td>f</td>\n",
       "      <td>20</td>\n",
       "      <td>31</td>\n",
       "      <td>p</td>\n",
       "      <td>compact</td>\n",
       "    </tr>\n",
       "    <tr>\n",
       "      <th>4</th>\n",
       "      <td>audi</td>\n",
       "      <td>a4</td>\n",
       "      <td>2.0</td>\n",
       "      <td>2008</td>\n",
       "      <td>4</td>\n",
       "      <td>auto(av)</td>\n",
       "      <td>f</td>\n",
       "      <td>21</td>\n",
       "      <td>30</td>\n",
       "      <td>p</td>\n",
       "      <td>compact</td>\n",
       "    </tr>\n",
       "    <tr>\n",
       "      <th>5</th>\n",
       "      <td>audi</td>\n",
       "      <td>a4</td>\n",
       "      <td>2.8</td>\n",
       "      <td>1999</td>\n",
       "      <td>6</td>\n",
       "      <td>auto(l5)</td>\n",
       "      <td>f</td>\n",
       "      <td>16</td>\n",
       "      <td>26</td>\n",
       "      <td>p</td>\n",
       "      <td>compact</td>\n",
       "    </tr>\n",
       "  </tbody>\n",
       "</table>\n",
       "</div>"
      ],
      "text/plain": [
       "  manufacturer model  displ  year  cyl       trans drv  cty  hwy fl    class\n",
       "1         audi    a4    1.8  1999    4    auto(l5)   f   18   29  p  compact\n",
       "2         audi    a4    1.8  1999    4  manual(m5)   f   21   29  p  compact\n",
       "3         audi    a4    2.0  2008    4  manual(m6)   f   20   31  p  compact\n",
       "4         audi    a4    2.0  2008    4    auto(av)   f   21   30  p  compact\n",
       "5         audi    a4    2.8  1999    6    auto(l5)   f   16   26  p  compact"
      ]
     },
     "execution_count": 148,
     "metadata": {},
     "output_type": "execute_result"
    }
   ],
   "source": [
    "df.head()"
   ]
  },
  {
   "cell_type": "code",
   "execution_count": 149,
   "id": "c014f11c",
   "metadata": {},
   "outputs": [
    {
     "data": {
      "text/html": [
       "<div>\n",
       "<style scoped>\n",
       "    .dataframe tbody tr th:only-of-type {\n",
       "        vertical-align: middle;\n",
       "    }\n",
       "\n",
       "    .dataframe tbody tr th {\n",
       "        vertical-align: top;\n",
       "    }\n",
       "\n",
       "    .dataframe thead th {\n",
       "        text-align: right;\n",
       "    }\n",
       "</style>\n",
       "<table border=\"1\" class=\"dataframe\">\n",
       "  <thead>\n",
       "    <tr style=\"text-align: right;\">\n",
       "      <th></th>\n",
       "      <th>manufacturer</th>\n",
       "      <th>model</th>\n",
       "      <th>displ</th>\n",
       "      <th>year</th>\n",
       "      <th>cyl</th>\n",
       "      <th>trans</th>\n",
       "      <th>drv</th>\n",
       "      <th>cty</th>\n",
       "      <th>hwy</th>\n",
       "      <th>fl</th>\n",
       "      <th>class</th>\n",
       "      <th>avg_mpg</th>\n",
       "    </tr>\n",
       "  </thead>\n",
       "  <tbody>\n",
       "    <tr>\n",
       "      <th>1</th>\n",
       "      <td>audi</td>\n",
       "      <td>a4</td>\n",
       "      <td>1.8</td>\n",
       "      <td>1999</td>\n",
       "      <td>4</td>\n",
       "      <td>auto(l5)</td>\n",
       "      <td>f</td>\n",
       "      <td>18</td>\n",
       "      <td>29</td>\n",
       "      <td>p</td>\n",
       "      <td>compact</td>\n",
       "      <td>23.5</td>\n",
       "    </tr>\n",
       "    <tr>\n",
       "      <th>2</th>\n",
       "      <td>audi</td>\n",
       "      <td>a4</td>\n",
       "      <td>1.8</td>\n",
       "      <td>1999</td>\n",
       "      <td>4</td>\n",
       "      <td>manual(m5)</td>\n",
       "      <td>f</td>\n",
       "      <td>21</td>\n",
       "      <td>29</td>\n",
       "      <td>p</td>\n",
       "      <td>compact</td>\n",
       "      <td>25.0</td>\n",
       "    </tr>\n",
       "    <tr>\n",
       "      <th>3</th>\n",
       "      <td>audi</td>\n",
       "      <td>a4</td>\n",
       "      <td>2.0</td>\n",
       "      <td>2008</td>\n",
       "      <td>4</td>\n",
       "      <td>manual(m6)</td>\n",
       "      <td>f</td>\n",
       "      <td>20</td>\n",
       "      <td>31</td>\n",
       "      <td>p</td>\n",
       "      <td>compact</td>\n",
       "      <td>25.5</td>\n",
       "    </tr>\n",
       "    <tr>\n",
       "      <th>4</th>\n",
       "      <td>audi</td>\n",
       "      <td>a4</td>\n",
       "      <td>2.0</td>\n",
       "      <td>2008</td>\n",
       "      <td>4</td>\n",
       "      <td>auto(av)</td>\n",
       "      <td>f</td>\n",
       "      <td>21</td>\n",
       "      <td>30</td>\n",
       "      <td>p</td>\n",
       "      <td>compact</td>\n",
       "      <td>25.5</td>\n",
       "    </tr>\n",
       "    <tr>\n",
       "      <th>5</th>\n",
       "      <td>audi</td>\n",
       "      <td>a4</td>\n",
       "      <td>2.8</td>\n",
       "      <td>1999</td>\n",
       "      <td>6</td>\n",
       "      <td>auto(l5)</td>\n",
       "      <td>f</td>\n",
       "      <td>16</td>\n",
       "      <td>26</td>\n",
       "      <td>p</td>\n",
       "      <td>compact</td>\n",
       "      <td>21.0</td>\n",
       "    </tr>\n",
       "    <tr>\n",
       "      <th>...</th>\n",
       "      <td>...</td>\n",
       "      <td>...</td>\n",
       "      <td>...</td>\n",
       "      <td>...</td>\n",
       "      <td>...</td>\n",
       "      <td>...</td>\n",
       "      <td>...</td>\n",
       "      <td>...</td>\n",
       "      <td>...</td>\n",
       "      <td>...</td>\n",
       "      <td>...</td>\n",
       "      <td>...</td>\n",
       "    </tr>\n",
       "    <tr>\n",
       "      <th>230</th>\n",
       "      <td>volkswagen</td>\n",
       "      <td>passat</td>\n",
       "      <td>2.0</td>\n",
       "      <td>2008</td>\n",
       "      <td>4</td>\n",
       "      <td>auto(s6)</td>\n",
       "      <td>f</td>\n",
       "      <td>19</td>\n",
       "      <td>28</td>\n",
       "      <td>p</td>\n",
       "      <td>midsize</td>\n",
       "      <td>23.5</td>\n",
       "    </tr>\n",
       "    <tr>\n",
       "      <th>231</th>\n",
       "      <td>volkswagen</td>\n",
       "      <td>passat</td>\n",
       "      <td>2.0</td>\n",
       "      <td>2008</td>\n",
       "      <td>4</td>\n",
       "      <td>manual(m6)</td>\n",
       "      <td>f</td>\n",
       "      <td>21</td>\n",
       "      <td>29</td>\n",
       "      <td>p</td>\n",
       "      <td>midsize</td>\n",
       "      <td>25.0</td>\n",
       "    </tr>\n",
       "    <tr>\n",
       "      <th>232</th>\n",
       "      <td>volkswagen</td>\n",
       "      <td>passat</td>\n",
       "      <td>2.8</td>\n",
       "      <td>1999</td>\n",
       "      <td>6</td>\n",
       "      <td>auto(l5)</td>\n",
       "      <td>f</td>\n",
       "      <td>16</td>\n",
       "      <td>26</td>\n",
       "      <td>p</td>\n",
       "      <td>midsize</td>\n",
       "      <td>21.0</td>\n",
       "    </tr>\n",
       "    <tr>\n",
       "      <th>233</th>\n",
       "      <td>volkswagen</td>\n",
       "      <td>passat</td>\n",
       "      <td>2.8</td>\n",
       "      <td>1999</td>\n",
       "      <td>6</td>\n",
       "      <td>manual(m5)</td>\n",
       "      <td>f</td>\n",
       "      <td>18</td>\n",
       "      <td>26</td>\n",
       "      <td>p</td>\n",
       "      <td>midsize</td>\n",
       "      <td>22.0</td>\n",
       "    </tr>\n",
       "    <tr>\n",
       "      <th>234</th>\n",
       "      <td>volkswagen</td>\n",
       "      <td>passat</td>\n",
       "      <td>3.6</td>\n",
       "      <td>2008</td>\n",
       "      <td>6</td>\n",
       "      <td>auto(s6)</td>\n",
       "      <td>f</td>\n",
       "      <td>17</td>\n",
       "      <td>26</td>\n",
       "      <td>p</td>\n",
       "      <td>midsize</td>\n",
       "      <td>21.5</td>\n",
       "    </tr>\n",
       "  </tbody>\n",
       "</table>\n",
       "<p>234 rows × 12 columns</p>\n",
       "</div>"
      ],
      "text/plain": [
       "    manufacturer   model  displ  year  cyl       trans drv  cty  hwy fl  \\\n",
       "1           audi      a4    1.8  1999    4    auto(l5)   f   18   29  p   \n",
       "2           audi      a4    1.8  1999    4  manual(m5)   f   21   29  p   \n",
       "3           audi      a4    2.0  2008    4  manual(m6)   f   20   31  p   \n",
       "4           audi      a4    2.0  2008    4    auto(av)   f   21   30  p   \n",
       "5           audi      a4    2.8  1999    6    auto(l5)   f   16   26  p   \n",
       "..           ...     ...    ...   ...  ...         ...  ..  ...  ... ..   \n",
       "230   volkswagen  passat    2.0  2008    4    auto(s6)   f   19   28  p   \n",
       "231   volkswagen  passat    2.0  2008    4  manual(m6)   f   21   29  p   \n",
       "232   volkswagen  passat    2.8  1999    6    auto(l5)   f   16   26  p   \n",
       "233   volkswagen  passat    2.8  1999    6  manual(m5)   f   18   26  p   \n",
       "234   volkswagen  passat    3.6  2008    6    auto(s6)   f   17   26  p   \n",
       "\n",
       "       class  avg_mpg  \n",
       "1    compact     23.5  \n",
       "2    compact     25.0  \n",
       "3    compact     25.5  \n",
       "4    compact     25.5  \n",
       "5    compact     21.0  \n",
       "..       ...      ...  \n",
       "230  midsize     23.5  \n",
       "231  midsize     25.0  \n",
       "232  midsize     21.0  \n",
       "233  midsize     22.0  \n",
       "234  midsize     21.5  \n",
       "\n",
       "[234 rows x 12 columns]"
      ]
     },
     "execution_count": 149,
     "metadata": {},
     "output_type": "execute_result"
    }
   ],
   "source": [
    "df['avg_mpg'] = (df.cty + df.hwy)/2\n",
    "df"
   ]
  },
  {
   "cell_type": "markdown",
   "id": "6cacc351",
   "metadata": {},
   "source": [
    "#### 1. Is there a difference in fuel-efficiency in cars from 2008 vs 1999?"
   ]
  },
  {
   "cell_type": "code",
   "execution_count": 150,
   "id": "c5861308",
   "metadata": {},
   "outputs": [
    {
     "data": {
      "text/plain": [
       "20.076923076923077"
      ]
     },
     "execution_count": 150,
     "metadata": {},
     "output_type": "execute_result"
    }
   ],
   "source": [
    "mpg_2008 = df[df.year == 2008].avg_mpg\n",
    "mpg_2008.mean()"
   ]
  },
  {
   "cell_type": "code",
   "execution_count": 151,
   "id": "a569ef76",
   "metadata": {},
   "outputs": [
    {
     "data": {
      "text/plain": [
       "20.22222222222222"
      ]
     },
     "execution_count": 151,
     "metadata": {},
     "output_type": "execute_result"
    }
   ],
   "source": [
    "mpg_1999 = df[df.year == 1999].avg_mpg\n",
    "mpg_1999.mean()"
   ]
  },
  {
   "cell_type": "markdown",
   "id": "f7464401",
   "metadata": {},
   "source": [
    "#### <span style= 'color : Navy'> $H_{0}$: Average fuel efficiency in cars from 2008 equals fuel efficiency in cars from 1999.\n",
    "#### <span style= 'color : Navy'>$H_{a}$: Average fuel efficiency in cars from 2008 does not equal fuel efficiency in cars from 1999.  \n",
    "</span>"
   ]
  },
  {
   "cell_type": "code",
   "execution_count": 152,
   "id": "6b113357",
   "metadata": {},
   "outputs": [
    {
     "data": {
      "text/plain": [
       "(-0.21960177245940962, 0.8263750772060638)"
      ]
     },
     "execution_count": 152,
     "metadata": {},
     "output_type": "execute_result"
    }
   ],
   "source": [
    "t, p = stats.ttest_ind(mpg_2008, mpg_1999, equal_var=False)\n",
    "\n",
    "t, p"
   ]
  },
  {
   "cell_type": "code",
   "execution_count": 153,
   "id": "eeed1d78",
   "metadata": {},
   "outputs": [
    {
     "data": {
      "text/plain": [
       "MannwhitneyuResult(statistic=6678.5, pvalue=0.3744934268007572)"
      ]
     },
     "execution_count": 153,
     "metadata": {},
     "output_type": "execute_result"
    }
   ],
   "source": [
    "stats.mannwhitneyu(mpg_2008, mpg_1999)"
   ]
  },
  {
   "cell_type": "code",
   "execution_count": 154,
   "id": "bd02b440",
   "metadata": {},
   "outputs": [
    {
     "data": {
      "text/plain": [
       "False"
      ]
     },
     "execution_count": 154,
     "metadata": {},
     "output_type": "execute_result"
    }
   ],
   "source": [
    "p < alpha"
   ]
  },
  {
   "cell_type": "code",
   "execution_count": 155,
   "id": "7d92b01d",
   "metadata": {},
   "outputs": [
    {
     "name": "stdout",
     "output_type": "stream",
     "text": [
      "Reject null hypothesis? False\n"
     ]
    }
   ],
   "source": [
    "print(\"Reject null hypothesis?\" , p<alpha)"
   ]
  },
  {
   "cell_type": "code",
   "execution_count": 175,
   "id": "45421d00",
   "metadata": {},
   "outputs": [
    {
     "name": "stdout",
     "output_type": "stream",
     "text": [
      "We reject $H_{0}$ \n"
     ]
    }
   ],
   "source": [
    "if p/2 > alpha:\n",
    "    print(\"We fail to reject $H_{0}$\")\n",
    "elif t < 0:\n",
    "    print(\"We fail to reject $H_{0}$ & t < 0\")\n",
    "else:\n",
    "    print(\"We reject $H_{0}$ \")"
   ]
  },
  {
   "cell_type": "markdown",
   "id": "2c7f0a06",
   "metadata": {},
   "source": [
    "The average fuel equals the fuel efficiency in cars from 2008 and 1999. "
   ]
  },
  {
   "cell_type": "markdown",
   "id": "46cdeed3",
   "metadata": {},
   "source": [
    "##### 2. Are compact cars more fuel-efficient than the average car?"
   ]
  },
  {
   "cell_type": "code",
   "execution_count": 157,
   "id": "00030e63",
   "metadata": {},
   "outputs": [],
   "source": [
    "df.rename(columns={\"class\": \"type\"},inplace=True)"
   ]
  },
  {
   "cell_type": "code",
   "execution_count": 158,
   "id": "fc51ad3e",
   "metadata": {},
   "outputs": [
    {
     "data": {
      "text/plain": [
       "24.21276595744681"
      ]
     },
     "execution_count": 158,
     "metadata": {},
     "output_type": "execute_result"
    }
   ],
   "source": [
    "mpg_compact = df[df.type == 'compact'].avg_mpg\n",
    "mpg_compact.mean()"
   ]
  },
  {
   "cell_type": "code",
   "execution_count": 160,
   "id": "a9bef2c5",
   "metadata": {},
   "outputs": [],
   "source": [
    "avg_mpg_mean = avg_mpg.mean()"
   ]
  },
  {
   "cell_type": "markdown",
   "id": "7ca287c9",
   "metadata": {},
   "source": [
    "Comparing fuel economy 1 sub group vs all (1-sample , 1 tailed t-test)\n",
    "\n",
    "#### <span style= 'color : Navy'> $H_{0}$: Compact cars avg fuel efficiency is <= the overall avg cars fuel efficiency\n",
    "#### <span style= 'color : Navy'>$H_{a}$: Compact cars avg fuel efficiency is > to the overall avg cars fuel efficiency \n",
    "</span>\n",
    "\n",
    "For $H_{a}$ to be true, t> 0 and p/2 < 0.05"
   ]
  },
  {
   "cell_type": "code",
   "execution_count": 161,
   "id": "93d8d581",
   "metadata": {},
   "outputs": [
    {
     "data": {
      "text/plain": [
       "(7.896888573132535, 4.1985637943171336e-10)"
      ]
     },
     "execution_count": 161,
     "metadata": {},
     "output_type": "execute_result"
    }
   ],
   "source": [
    "t, p = stats.ttest_1samp(mpg_compact,avg_mpg_mean)\n",
    "\n",
    "t, p"
   ]
  },
  {
   "cell_type": "code",
   "execution_count": 162,
   "id": "19efa84b",
   "metadata": {},
   "outputs": [
    {
     "data": {
      "text/plain": [
       "True"
      ]
     },
     "execution_count": 162,
     "metadata": {},
     "output_type": "execute_result"
    }
   ],
   "source": [
    "p < alpha"
   ]
  },
  {
   "cell_type": "code",
   "execution_count": 163,
   "id": "6d187e91",
   "metadata": {},
   "outputs": [
    {
     "name": "stdout",
     "output_type": "stream",
     "text": [
      "Reject null hypothesis? True\n"
     ]
    }
   ],
   "source": [
    "print(\"Reject null hypothesis?\" , p<alpha)"
   ]
  },
  {
   "cell_type": "code",
   "execution_count": 179,
   "id": "70684cd3",
   "metadata": {},
   "outputs": [
    {
     "name": "stdout",
     "output_type": "stream",
     "text": [
      "We reject $H_{0}$ \n"
     ]
    }
   ],
   "source": [
    "if p/2 > alpha:\n",
    "    print(\"We fail to reject $H_{0}$\")\n",
    "elif t < 0:\n",
    "    print(\"We fail to reject $H_{0}$ & t < 0\")\n",
    "else:\n",
    "    print(\"We reject $H_{0}$ \")"
   ]
  },
  {
   "cell_type": "markdown",
   "id": "1f99312d",
   "metadata": {},
   "source": [
    "Because p/2 < alpha, we reject the null hypothesis that there is no difference in fuel-efficiency"
   ]
  },
  {
   "cell_type": "markdown",
   "id": "2cdf36b5",
   "metadata": {},
   "source": [
    "#### 3. Do manual cars get better gas mileage than automatic cars?"
   ]
  },
  {
   "cell_type": "code",
   "execution_count": 165,
   "id": "3c5ad8a7",
   "metadata": {},
   "outputs": [
    {
     "data": {
      "text/plain": [
       "22.227272727272727"
      ]
     },
     "execution_count": 165,
     "metadata": {},
     "output_type": "execute_result"
    }
   ],
   "source": [
    "mpg_manual = df[df.trans.str.contains('manual')].avg_mpg\n",
    "mpg_manual.mean()"
   ]
  },
  {
   "cell_type": "code",
   "execution_count": 166,
   "id": "f7a2a74d",
   "metadata": {},
   "outputs": [
    {
     "data": {
      "text/plain": [
       "19.130573248407643"
      ]
     },
     "execution_count": 166,
     "metadata": {},
     "output_type": "execute_result"
    }
   ],
   "source": [
    "mpg_auto= df[df.trans.str.contains('auto')].avg_mpg\n",
    "mpg_auto.mean()"
   ]
  },
  {
   "cell_type": "markdown",
   "id": "4a683e6a",
   "metadata": {},
   "source": [
    "# Hypothesis & Analysis\n",
    "\n",
    "2-sample, independent test. 1-tail. Looking at the right tail, looking for a test statistic that is > 0.\n",
    "\n",
    "To reject the null hypothesis, we need to see p/2 < alpha, .05, and test statistic > 0.\n",
    "\n",
    "#### <span style= 'color : Navy'> $H_{0}$: Manual cars fuel efficiency is <= the automatic cars fuel efficiency\n",
    "#### <span style= 'color : Navy'>$H_{a}$: Manual cars fuel efficiency is >  the automatic cars fuel efficiency \n",
    "</span>\n"
   ]
  },
  {
   "cell_type": "code",
   "execution_count": null,
   "id": "421863ad",
   "metadata": {},
   "outputs": [],
   "source": [
    "#Let's run Levene's teset for equal variance\n",
    "# H_O: population variances are equal\n",
    "#H_A: poplutaion variancea are signicicatly differnt"
   ]
  },
  {
   "cell_type": "code",
   "execution_count": 182,
   "id": "bed1023e",
   "metadata": {},
   "outputs": [
    {
     "data": {
      "text/plain": [
       "LeveneResult(statistic=0.20075824847529639, pvalue=0.6545276355131857)"
      ]
     },
     "execution_count": 182,
     "metadata": {},
     "output_type": "execute_result"
    }
   ],
   "source": [
    "stats.levene(mpg_auto, mpg_manual)"
   ]
  },
  {
   "cell_type": "markdown",
   "id": "95974c3b",
   "metadata": {},
   "source": [
    "Cool, so we fail to reject H_O and can assume equal variances"
   ]
  },
  {
   "cell_type": "code",
   "execution_count": 167,
   "id": "feb57abf",
   "metadata": {},
   "outputs": [
    {
     "data": {
      "text/plain": [
       "(4.443514012903071, 1.795224899991793e-05)"
      ]
     },
     "execution_count": 167,
     "metadata": {},
     "output_type": "execute_result"
    }
   ],
   "source": [
    "t, p = stats.ttest_ind(mpg_manual,mpg_auto, equal_var=False)\n",
    "\n",
    "t, p"
   ]
  },
  {
   "cell_type": "code",
   "execution_count": 168,
   "id": "52f17f45",
   "metadata": {},
   "outputs": [
    {
     "data": {
      "text/plain": [
       "MannwhitneyuResult(statistic=3895.5, pvalue=4.9297998930308745e-06)"
      ]
     },
     "execution_count": 168,
     "metadata": {},
     "output_type": "execute_result"
    }
   ],
   "source": [
    "stats.mannwhitneyu(mpg_manual,mpg_auto)"
   ]
  },
  {
   "cell_type": "code",
   "execution_count": 184,
   "id": "19f3bb3c",
   "metadata": {},
   "outputs": [
    {
     "data": {
      "text/plain": [
       "True"
      ]
     },
     "execution_count": 184,
     "metadata": {},
     "output_type": "execute_result"
    }
   ],
   "source": [
    "p/2 < alpha"
   ]
  },
  {
   "cell_type": "markdown",
   "id": "b11dce8b",
   "metadata": {},
   "source": [
    "Becasue p/2  < alpha and t > 0, we reject the null hypothesis that manual is less or equal than automatic.  "
   ]
  },
  {
   "cell_type": "code",
   "execution_count": 185,
   "id": "1cbc6ee7",
   "metadata": {},
   "outputs": [
    {
     "name": "stdout",
     "output_type": "stream",
     "text": [
      "Reject null hypothesis? True\n"
     ]
    }
   ],
   "source": [
    "print(\"Reject null hypothesis?\" , p/2<alpha)"
   ]
  },
  {
   "cell_type": "code",
   "execution_count": 186,
   "id": "e1cd91e2",
   "metadata": {},
   "outputs": [
    {
     "data": {
      "text/plain": [
       "<AxesSubplot:>"
      ]
     },
     "execution_count": 186,
     "metadata": {},
     "output_type": "execute_result"
    },
    {
     "data": {
      "image/png": "[encoded data removed]",
      "text/plain": [
       "<Figure size 432x288 with 1 Axes>"
      ]
     },
     "metadata": {
      "needs_background": "light"
     },
     "output_type": "display_data"
    }
   ],
   "source": [
    "mpg_manual.hist()"
   ]
  },
  {
   "cell_type": "code",
   "execution_count": 172,
   "id": "dc4c4a36",
   "metadata": {},
   "outputs": [
    {
     "data": {
      "text/plain": [
       "<AxesSubplot:>"
      ]
     },
     "execution_count": 172,
     "metadata": {},
     "output_type": "execute_result"
    },
    {
     "data": {
      "image/png": "[encoded data removed]",
      "text/plain": [
       "<Figure size 432x288 with 1 Axes>"
      ]
     },
     "metadata": {
      "needs_background": "light"
     },
     "output_type": "display_data"
    }
   ],
   "source": [
    "mpg_auto.hist()"
   ]
  },
  {
   "cell_type": "code",
   "execution_count": 173,
   "id": "5b85a782",
   "metadata": {},
   "outputs": [
    {
     "name": "stdout",
     "output_type": "stream",
     "text": [
      "We reject $H_{0}$ \n"
     ]
    }
   ],
   "source": [
    "if p/2 > alpha:\n",
    "    print(\"We fail to reject $H_{0}$\")\n",
    "elif t < 0:\n",
    "    print(\"We fail to reject $H_{0}$ & t < 0\")\n",
    "else:\n",
    "    print(\"We reject $H_{0}$ \")"
   ]
  },
  {
   "cell_type": "code",
   "execution_count": 190,
   "id": "c8b89b24",
   "metadata": {},
   "outputs": [],
   "source": [
    "#avg_mpg.groupby('trans').avg_mpg.mean().plot.bar()\n",
    "#plt.xticks(rotation=0)\n",
    "#plt.xlabel('')\n",
    "#plt.ylabel('Avg Mileage')\n",
    "#plt.title('Is mileage different by transmission type?')"
   ]
  },
  {
   "cell_type": "markdown",
   "id": "17feed62",
   "metadata": {},
   "source": [
    "# Correlation Exercises\n",
    "\n",
    "### 1. Use the telco_churn data. Does tenure correlate with monthly charges? Total charges? What happens if you control for phone and internet service?\n"
   ]
  },
  {
   "cell_type": "markdown",
   "id": "590d9f89",
   "metadata": {},
   "source": [
    "\n",
    "\n",
    "#### <span style= 'color : Navy'> $H_{0}$: Customer tenure does not have a linear correlation to monthly charges \n",
    "#### <span style= 'color : Navy'>$H_{a}$: Customer tenure does have a linear correlation to monthly charges \n",
    "</span>"
   ]
  },
  {
   "cell_type": "code",
   "execution_count": 191,
   "id": "743189ee",
   "metadata": {},
   "outputs": [],
   "source": [
    "df = pd.read_csv(\"Cust_Churn_Telco - Cust_Churn_Telco.csv\") "
   ]
  },
  {
   "cell_type": "code",
   "execution_count": 192,
   "id": "9df5544a",
   "metadata": {},
   "outputs": [
    {
     "data": {
      "text/html": [
       "<div>\n",
       "<style scoped>\n",
       "    .dataframe tbody tr th:only-of-type {\n",
       "        vertical-align: middle;\n",
       "    }\n",
       "\n",
       "    .dataframe tbody tr th {\n",
       "        vertical-align: top;\n",
       "    }\n",
       "\n",
       "    .dataframe thead th {\n",
       "        text-align: right;\n",
       "    }\n",
       "</style>\n",
       "<table border=\"1\" class=\"dataframe\">\n",
       "  <thead>\n",
       "    <tr style=\"text-align: right;\">\n",
       "      <th></th>\n",
       "      <th>customerID</th>\n",
       "      <th>gender</th>\n",
       "      <th>SeniorCitizen</th>\n",
       "      <th>Partner</th>\n",
       "      <th>Dependents</th>\n",
       "      <th>tenure</th>\n",
       "      <th>PhoneService</th>\n",
       "      <th>MultipleLines</th>\n",
       "      <th>InternetService</th>\n",
       "      <th>OnlineSecurity</th>\n",
       "      <th>...</th>\n",
       "      <th>DeviceProtection</th>\n",
       "      <th>TechSupport</th>\n",
       "      <th>StreamingTV</th>\n",
       "      <th>StreamingMovies</th>\n",
       "      <th>Contract</th>\n",
       "      <th>PaperlessBilling</th>\n",
       "      <th>PaymentMethod</th>\n",
       "      <th>MonthlyCharges</th>\n",
       "      <th>TotalCharges</th>\n",
       "      <th>Churn</th>\n",
       "    </tr>\n",
       "  </thead>\n",
       "  <tbody>\n",
       "    <tr>\n",
       "      <th>0</th>\n",
       "      <td>7590-VHVEG</td>\n",
       "      <td>Female</td>\n",
       "      <td>0</td>\n",
       "      <td>Yes</td>\n",
       "      <td>No</td>\n",
       "      <td>1</td>\n",
       "      <td>No</td>\n",
       "      <td>No phone service</td>\n",
       "      <td>DSL</td>\n",
       "      <td>No</td>\n",
       "      <td>...</td>\n",
       "      <td>No</td>\n",
       "      <td>No</td>\n",
       "      <td>No</td>\n",
       "      <td>No</td>\n",
       "      <td>Month-to-month</td>\n",
       "      <td>Yes</td>\n",
       "      <td>Electronic check</td>\n",
       "      <td>29.85</td>\n",
       "      <td>29.85</td>\n",
       "      <td>No</td>\n",
       "    </tr>\n",
       "    <tr>\n",
       "      <th>1</th>\n",
       "      <td>5575-GNVDE</td>\n",
       "      <td>Male</td>\n",
       "      <td>0</td>\n",
       "      <td>No</td>\n",
       "      <td>No</td>\n",
       "      <td>34</td>\n",
       "      <td>Yes</td>\n",
       "      <td>No</td>\n",
       "      <td>DSL</td>\n",
       "      <td>Yes</td>\n",
       "      <td>...</td>\n",
       "      <td>Yes</td>\n",
       "      <td>No</td>\n",
       "      <td>No</td>\n",
       "      <td>No</td>\n",
       "      <td>One year</td>\n",
       "      <td>No</td>\n",
       "      <td>Mailed check</td>\n",
       "      <td>56.95</td>\n",
       "      <td>1889.50</td>\n",
       "      <td>No</td>\n",
       "    </tr>\n",
       "    <tr>\n",
       "      <th>2</th>\n",
       "      <td>3668-QPYBK</td>\n",
       "      <td>Male</td>\n",
       "      <td>0</td>\n",
       "      <td>No</td>\n",
       "      <td>No</td>\n",
       "      <td>2</td>\n",
       "      <td>Yes</td>\n",
       "      <td>No</td>\n",
       "      <td>DSL</td>\n",
       "      <td>Yes</td>\n",
       "      <td>...</td>\n",
       "      <td>No</td>\n",
       "      <td>No</td>\n",
       "      <td>No</td>\n",
       "      <td>No</td>\n",
       "      <td>Month-to-month</td>\n",
       "      <td>Yes</td>\n",
       "      <td>Mailed check</td>\n",
       "      <td>53.85</td>\n",
       "      <td>108.15</td>\n",
       "      <td>Yes</td>\n",
       "    </tr>\n",
       "    <tr>\n",
       "      <th>3</th>\n",
       "      <td>7795-CFOCW</td>\n",
       "      <td>Male</td>\n",
       "      <td>0</td>\n",
       "      <td>No</td>\n",
       "      <td>No</td>\n",
       "      <td>45</td>\n",
       "      <td>No</td>\n",
       "      <td>No phone service</td>\n",
       "      <td>DSL</td>\n",
       "      <td>Yes</td>\n",
       "      <td>...</td>\n",
       "      <td>Yes</td>\n",
       "      <td>Yes</td>\n",
       "      <td>No</td>\n",
       "      <td>No</td>\n",
       "      <td>One year</td>\n",
       "      <td>No</td>\n",
       "      <td>Bank transfer (automatic)</td>\n",
       "      <td>42.30</td>\n",
       "      <td>1840.75</td>\n",
       "      <td>No</td>\n",
       "    </tr>\n",
       "    <tr>\n",
       "      <th>4</th>\n",
       "      <td>9237-HQITU</td>\n",
       "      <td>Female</td>\n",
       "      <td>0</td>\n",
       "      <td>No</td>\n",
       "      <td>No</td>\n",
       "      <td>2</td>\n",
       "      <td>Yes</td>\n",
       "      <td>No</td>\n",
       "      <td>Fiber optic</td>\n",
       "      <td>No</td>\n",
       "      <td>...</td>\n",
       "      <td>No</td>\n",
       "      <td>No</td>\n",
       "      <td>No</td>\n",
       "      <td>No</td>\n",
       "      <td>Month-to-month</td>\n",
       "      <td>Yes</td>\n",
       "      <td>Electronic check</td>\n",
       "      <td>70.70</td>\n",
       "      <td>151.65</td>\n",
       "      <td>Yes</td>\n",
       "    </tr>\n",
       "  </tbody>\n",
       "</table>\n",
       "<p>5 rows × 21 columns</p>\n",
       "</div>"
      ],
      "text/plain": [
       "   customerID  gender  SeniorCitizen Partner Dependents  tenure PhoneService  \\\n",
       "0  7590-VHVEG  Female              0     Yes         No       1           No   \n",
       "1  5575-GNVDE    Male              0      No         No      34          Yes   \n",
       "2  3668-QPYBK    Male              0      No         No       2          Yes   \n",
       "3  7795-CFOCW    Male              0      No         No      45           No   \n",
       "4  9237-HQITU  Female              0      No         No       2          Yes   \n",
       "\n",
       "      MultipleLines InternetService OnlineSecurity  ... DeviceProtection  \\\n",
       "0  No phone service             DSL             No  ...               No   \n",
       "1                No             DSL            Yes  ...              Yes   \n",
       "2                No             DSL            Yes  ...               No   \n",
       "3  No phone service             DSL            Yes  ...              Yes   \n",
       "4                No     Fiber optic             No  ...               No   \n",
       "\n",
       "  TechSupport StreamingTV StreamingMovies        Contract PaperlessBilling  \\\n",
       "0          No          No              No  Month-to-month              Yes   \n",
       "1          No          No              No        One year               No   \n",
       "2          No          No              No  Month-to-month              Yes   \n",
       "3         Yes          No              No        One year               No   \n",
       "4          No          No              No  Month-to-month              Yes   \n",
       "\n",
       "               PaymentMethod MonthlyCharges  TotalCharges  Churn  \n",
       "0           Electronic check          29.85         29.85     No  \n",
       "1               Mailed check          56.95       1889.50     No  \n",
       "2               Mailed check          53.85        108.15    Yes  \n",
       "3  Bank transfer (automatic)          42.30       1840.75     No  \n",
       "4           Electronic check          70.70        151.65    Yes  \n",
       "\n",
       "[5 rows x 21 columns]"
      ]
     },
     "execution_count": 192,
     "metadata": {},
     "output_type": "execute_result"
    }
   ],
   "source": [
    "df.head()"
   ]
  },
  {
   "cell_type": "code",
   "execution_count": 214,
   "id": "13359998",
   "metadata": {},
   "outputs": [],
   "source": [
    "monthly_charges = df['MonthlyCharges']\n",
    "tenure = df['tenure']"
   ]
  },
  {
   "cell_type": "code",
   "execution_count": 215,
   "id": "d83c5c1f",
   "metadata": {},
   "outputs": [
    {
     "data": {
      "text/plain": [
       "(0.2478998562861525, 4.094044991483017e-99)"
      ]
     },
     "execution_count": 215,
     "metadata": {},
     "output_type": "execute_result"
    }
   ],
   "source": [
    "corr, p = stats.pearsonr(tenure, monthly_charges)\n",
    "corr, p"
   ]
  },
  {
   "cell_type": "code",
   "execution_count": 216,
   "id": "eef3bafc",
   "metadata": {},
   "outputs": [],
   "source": [
    "alpha = 0.05\n",
    "\n",
    "null_hypothesis = \"Customer tenure does not have a linear correlation to monthly charges \"\n",
    "alt_hypothesis = \" Customer tenure does have a linear correlation to monthly charges\""
   ]
  },
  {
   "cell_type": "code",
   "execution_count": 217,
   "id": "c557c539",
   "metadata": {},
   "outputs": [
    {
     "name": "stdout",
     "output_type": "stream",
     "text": [
      "We reject the null hypothesis\n",
      "We falsified  Customer tenure does not have a linear correlation to monthly charges \n",
      "Evidence supports the  Customer tenure does have a linear correlation to monthly charges\n"
     ]
    }
   ],
   "source": [
    "if p < alpha:\n",
    "    print(\"We reject the null hypothesis\")\n",
    "    print(\"We falsified \", null_hypothesis)\n",
    "    print(\"Evidence supports the\", alt_hypothesis)\n",
    "    \n",
    "else:\n",
    "    print(\"We fail the reject the null hypothesis\")\n",
    "    print(\"There is no evidence to support the\", alt_hypothesis)"
   ]
  },
  {
   "cell_type": "code",
   "execution_count": 238,
   "id": "8815ba75",
   "metadata": {},
   "outputs": [],
   "source": [
    "## 1. b Total charges? \n",
    "\n",
    "alpha = 0.05\n",
    "\n",
    "null_hypothesis = \"Customer tenure does not have a linear correlation to total charges \"\n",
    "alt_hypothesis = \" Customer tenure does have a linear correlation to total charges\""
   ]
  },
  {
   "cell_type": "code",
   "execution_count": 241,
   "id": "4c5a776c",
   "metadata": {},
   "outputs": [],
   "source": [
    "bool_series = pd.notnull(df[\"TotalCharges\"])"
   ]
  },
  {
   "cell_type": "code",
   "execution_count": 245,
   "id": "65f8a538",
   "metadata": {},
   "outputs": [],
   "source": [
    "df1 = df[bool_series]\n",
    "\n",
    "total_charges= df1['TotalCharges'] \n",
    "tenure = df1['tenure']\n"
   ]
  },
  {
   "cell_type": "code",
   "execution_count": 247,
   "id": "ac8286a7",
   "metadata": {},
   "outputs": [
    {
     "data": {
      "text/plain": [
       "(0.8258804609332093, 0.0)"
      ]
     },
     "execution_count": 247,
     "metadata": {},
     "output_type": "execute_result"
    }
   ],
   "source": [
    "corr, p = stats.pearsonr(tenure, total_charges)\n",
    "corr, p"
   ]
  },
  {
   "cell_type": "code",
   "execution_count": 248,
   "id": "eeda47a1",
   "metadata": {},
   "outputs": [
    {
     "name": "stdout",
     "output_type": "stream",
     "text": [
      "We reject the null hypothesis\n",
      "We falsified  Employee salary does not have a linear correlation to employee tenure\n",
      "Evidence supports the Employee salary does have a linear correlation to employee tenure\n"
     ]
    }
   ],
   "source": [
    "if p < alpha:\n",
    "    print(\"We reject the null hypothesis\")\n",
    "    print(\"We falsified \", null_hypothesis)\n",
    "    print(\"Evidence supports the\", alt_hypothesis)\n",
    "    \n",
    "else:\n",
    "    print(\"We fail the reject the null hypothesis\")\n",
    "    print(\"There is no evidence to support the\", alt_hypothesis)"
   ]
  },
  {
   "cell_type": "code",
   "execution_count": 249,
   "id": "8e1b750b",
   "metadata": {},
   "outputs": [],
   "source": [
    "## 1.c What happens if you control for phone and internet service?\n",
    "\n",
    "alpha = 0.05\n",
    "\n",
    "null_hypothesis = \"Customer tenure does not have a linear correlation to total charges regardless of phone & internet service\"\n",
    "alt_hypothesis = \" Customer tenure does have a linear correlation to total charges regardless of phone & internet service\""
   ]
  },
  {
   "cell_type": "markdown",
   "id": "bc2cfa58",
   "metadata": {},
   "source": [
    "## 2. Use the employees database.\n",
    "Is there a relationship between how long an employee has been with the company and their salary?"
   ]
  },
  {
   "cell_type": "code",
   "execution_count": 239,
   "id": "dd79d1f5",
   "metadata": {},
   "outputs": [],
   "source": [
    "\n",
    "alpha = 0.05\n",
    "\n",
    "null_hypothesis = \"Employee salary does not have a linear correlation to employee tenure\"\n",
    "alt_hypothesis = \"Employee salary does have a linear correlation to employee tenure\""
   ]
  },
  {
   "cell_type": "code",
   "execution_count": 251,
   "id": "bb930504",
   "metadata": {},
   "outputs": [
    {
     "data": {
      "text/plain": [
       "0       False\n",
       "1        True\n",
       "2        True\n",
       "3       False\n",
       "4        True\n",
       "        ...  \n",
       "7038     True\n",
       "7039     True\n",
       "7040    False\n",
       "7041     True\n",
       "7042     True\n",
       "Name: PhoneService, Length: 7043, dtype: bool"
      ]
     },
     "execution_count": 251,
     "metadata": {},
     "output_type": "execute_result"
    }
   ],
   "source": [
    "has_phone_bool = df.PhoneService == 'Yes'\n",
    "has_phone_bool"
   ]
  },
  {
   "cell_type": "code",
   "execution_count": 252,
   "id": "ea8b0211",
   "metadata": {},
   "outputs": [
    {
     "data": {
      "text/html": [
       "<div>\n",
       "<style scoped>\n",
       "    .dataframe tbody tr th:only-of-type {\n",
       "        vertical-align: middle;\n",
       "    }\n",
       "\n",
       "    .dataframe tbody tr th {\n",
       "        vertical-align: top;\n",
       "    }\n",
       "\n",
       "    .dataframe thead th {\n",
       "        text-align: right;\n",
       "    }\n",
       "</style>\n",
       "<table border=\"1\" class=\"dataframe\">\n",
       "  <thead>\n",
       "    <tr style=\"text-align: right;\">\n",
       "      <th></th>\n",
       "      <th>customerID</th>\n",
       "      <th>gender</th>\n",
       "      <th>SeniorCitizen</th>\n",
       "      <th>Partner</th>\n",
       "      <th>Dependents</th>\n",
       "      <th>tenure</th>\n",
       "      <th>PhoneService</th>\n",
       "      <th>MultipleLines</th>\n",
       "      <th>InternetService</th>\n",
       "      <th>OnlineSecurity</th>\n",
       "      <th>...</th>\n",
       "      <th>DeviceProtection</th>\n",
       "      <th>TechSupport</th>\n",
       "      <th>StreamingTV</th>\n",
       "      <th>StreamingMovies</th>\n",
       "      <th>Contract</th>\n",
       "      <th>PaperlessBilling</th>\n",
       "      <th>PaymentMethod</th>\n",
       "      <th>MonthlyCharges</th>\n",
       "      <th>TotalCharges</th>\n",
       "      <th>Churn</th>\n",
       "    </tr>\n",
       "  </thead>\n",
       "  <tbody>\n",
       "    <tr>\n",
       "      <th>1</th>\n",
       "      <td>5575-GNVDE</td>\n",
       "      <td>Male</td>\n",
       "      <td>0</td>\n",
       "      <td>No</td>\n",
       "      <td>No</td>\n",
       "      <td>34</td>\n",
       "      <td>Yes</td>\n",
       "      <td>No</td>\n",
       "      <td>DSL</td>\n",
       "      <td>Yes</td>\n",
       "      <td>...</td>\n",
       "      <td>Yes</td>\n",
       "      <td>No</td>\n",
       "      <td>No</td>\n",
       "      <td>No</td>\n",
       "      <td>One year</td>\n",
       "      <td>No</td>\n",
       "      <td>Mailed check</td>\n",
       "      <td>56.95</td>\n",
       "      <td>1889.50</td>\n",
       "      <td>No</td>\n",
       "    </tr>\n",
       "    <tr>\n",
       "      <th>2</th>\n",
       "      <td>3668-QPYBK</td>\n",
       "      <td>Male</td>\n",
       "      <td>0</td>\n",
       "      <td>No</td>\n",
       "      <td>No</td>\n",
       "      <td>2</td>\n",
       "      <td>Yes</td>\n",
       "      <td>No</td>\n",
       "      <td>DSL</td>\n",
       "      <td>Yes</td>\n",
       "      <td>...</td>\n",
       "      <td>No</td>\n",
       "      <td>No</td>\n",
       "      <td>No</td>\n",
       "      <td>No</td>\n",
       "      <td>Month-to-month</td>\n",
       "      <td>Yes</td>\n",
       "      <td>Mailed check</td>\n",
       "      <td>53.85</td>\n",
       "      <td>108.15</td>\n",
       "      <td>Yes</td>\n",
       "    </tr>\n",
       "    <tr>\n",
       "      <th>4</th>\n",
       "      <td>9237-HQITU</td>\n",
       "      <td>Female</td>\n",
       "      <td>0</td>\n",
       "      <td>No</td>\n",
       "      <td>No</td>\n",
       "      <td>2</td>\n",
       "      <td>Yes</td>\n",
       "      <td>No</td>\n",
       "      <td>Fiber optic</td>\n",
       "      <td>No</td>\n",
       "      <td>...</td>\n",
       "      <td>No</td>\n",
       "      <td>No</td>\n",
       "      <td>No</td>\n",
       "      <td>No</td>\n",
       "      <td>Month-to-month</td>\n",
       "      <td>Yes</td>\n",
       "      <td>Electronic check</td>\n",
       "      <td>70.70</td>\n",
       "      <td>151.65</td>\n",
       "      <td>Yes</td>\n",
       "    </tr>\n",
       "    <tr>\n",
       "      <th>5</th>\n",
       "      <td>9305-CDSKC</td>\n",
       "      <td>Female</td>\n",
       "      <td>0</td>\n",
       "      <td>No</td>\n",
       "      <td>No</td>\n",
       "      <td>8</td>\n",
       "      <td>Yes</td>\n",
       "      <td>Yes</td>\n",
       "      <td>Fiber optic</td>\n",
       "      <td>No</td>\n",
       "      <td>...</td>\n",
       "      <td>Yes</td>\n",
       "      <td>No</td>\n",
       "      <td>Yes</td>\n",
       "      <td>Yes</td>\n",
       "      <td>Month-to-month</td>\n",
       "      <td>Yes</td>\n",
       "      <td>Electronic check</td>\n",
       "      <td>99.65</td>\n",
       "      <td>820.50</td>\n",
       "      <td>Yes</td>\n",
       "    </tr>\n",
       "    <tr>\n",
       "      <th>6</th>\n",
       "      <td>1452-KIOVK</td>\n",
       "      <td>Male</td>\n",
       "      <td>0</td>\n",
       "      <td>No</td>\n",
       "      <td>Yes</td>\n",
       "      <td>22</td>\n",
       "      <td>Yes</td>\n",
       "      <td>Yes</td>\n",
       "      <td>Fiber optic</td>\n",
       "      <td>No</td>\n",
       "      <td>...</td>\n",
       "      <td>No</td>\n",
       "      <td>No</td>\n",
       "      <td>Yes</td>\n",
       "      <td>No</td>\n",
       "      <td>Month-to-month</td>\n",
       "      <td>Yes</td>\n",
       "      <td>Credit card (automatic)</td>\n",
       "      <td>89.10</td>\n",
       "      <td>1949.40</td>\n",
       "      <td>No</td>\n",
       "    </tr>\n",
       "    <tr>\n",
       "      <th>...</th>\n",
       "      <td>...</td>\n",
       "      <td>...</td>\n",
       "      <td>...</td>\n",
       "      <td>...</td>\n",
       "      <td>...</td>\n",
       "      <td>...</td>\n",
       "      <td>...</td>\n",
       "      <td>...</td>\n",
       "      <td>...</td>\n",
       "      <td>...</td>\n",
       "      <td>...</td>\n",
       "      <td>...</td>\n",
       "      <td>...</td>\n",
       "      <td>...</td>\n",
       "      <td>...</td>\n",
       "      <td>...</td>\n",
       "      <td>...</td>\n",
       "      <td>...</td>\n",
       "      <td>...</td>\n",
       "      <td>...</td>\n",
       "      <td>...</td>\n",
       "    </tr>\n",
       "    <tr>\n",
       "      <th>7037</th>\n",
       "      <td>2569-WGERO</td>\n",
       "      <td>Female</td>\n",
       "      <td>0</td>\n",
       "      <td>No</td>\n",
       "      <td>No</td>\n",
       "      <td>72</td>\n",
       "      <td>Yes</td>\n",
       "      <td>No</td>\n",
       "      <td>No</td>\n",
       "      <td>No internet service</td>\n",
       "      <td>...</td>\n",
       "      <td>No internet service</td>\n",
       "      <td>No internet service</td>\n",
       "      <td>No internet service</td>\n",
       "      <td>No internet service</td>\n",
       "      <td>Two year</td>\n",
       "      <td>Yes</td>\n",
       "      <td>Bank transfer (automatic)</td>\n",
       "      <td>21.15</td>\n",
       "      <td>1419.40</td>\n",
       "      <td>No</td>\n",
       "    </tr>\n",
       "    <tr>\n",
       "      <th>7038</th>\n",
       "      <td>6840-RESVB</td>\n",
       "      <td>Male</td>\n",
       "      <td>0</td>\n",
       "      <td>Yes</td>\n",
       "      <td>Yes</td>\n",
       "      <td>24</td>\n",
       "      <td>Yes</td>\n",
       "      <td>Yes</td>\n",
       "      <td>DSL</td>\n",
       "      <td>Yes</td>\n",
       "      <td>...</td>\n",
       "      <td>Yes</td>\n",
       "      <td>Yes</td>\n",
       "      <td>Yes</td>\n",
       "      <td>Yes</td>\n",
       "      <td>One year</td>\n",
       "      <td>Yes</td>\n",
       "      <td>Mailed check</td>\n",
       "      <td>84.80</td>\n",
       "      <td>1990.50</td>\n",
       "      <td>No</td>\n",
       "    </tr>\n",
       "    <tr>\n",
       "      <th>7039</th>\n",
       "      <td>2234-XADUH</td>\n",
       "      <td>Female</td>\n",
       "      <td>0</td>\n",
       "      <td>Yes</td>\n",
       "      <td>Yes</td>\n",
       "      <td>72</td>\n",
       "      <td>Yes</td>\n",
       "      <td>Yes</td>\n",
       "      <td>Fiber optic</td>\n",
       "      <td>No</td>\n",
       "      <td>...</td>\n",
       "      <td>Yes</td>\n",
       "      <td>No</td>\n",
       "      <td>Yes</td>\n",
       "      <td>Yes</td>\n",
       "      <td>One year</td>\n",
       "      <td>Yes</td>\n",
       "      <td>Credit card (automatic)</td>\n",
       "      <td>103.20</td>\n",
       "      <td>7362.90</td>\n",
       "      <td>No</td>\n",
       "    </tr>\n",
       "    <tr>\n",
       "      <th>7041</th>\n",
       "      <td>8361-LTMKD</td>\n",
       "      <td>Male</td>\n",
       "      <td>1</td>\n",
       "      <td>Yes</td>\n",
       "      <td>No</td>\n",
       "      <td>4</td>\n",
       "      <td>Yes</td>\n",
       "      <td>Yes</td>\n",
       "      <td>Fiber optic</td>\n",
       "      <td>No</td>\n",
       "      <td>...</td>\n",
       "      <td>No</td>\n",
       "      <td>No</td>\n",
       "      <td>No</td>\n",
       "      <td>No</td>\n",
       "      <td>Month-to-month</td>\n",
       "      <td>Yes</td>\n",
       "      <td>Mailed check</td>\n",
       "      <td>74.40</td>\n",
       "      <td>306.60</td>\n",
       "      <td>Yes</td>\n",
       "    </tr>\n",
       "    <tr>\n",
       "      <th>7042</th>\n",
       "      <td>3186-AJIEK</td>\n",
       "      <td>Male</td>\n",
       "      <td>0</td>\n",
       "      <td>No</td>\n",
       "      <td>No</td>\n",
       "      <td>66</td>\n",
       "      <td>Yes</td>\n",
       "      <td>No</td>\n",
       "      <td>Fiber optic</td>\n",
       "      <td>Yes</td>\n",
       "      <td>...</td>\n",
       "      <td>Yes</td>\n",
       "      <td>Yes</td>\n",
       "      <td>Yes</td>\n",
       "      <td>Yes</td>\n",
       "      <td>Two year</td>\n",
       "      <td>Yes</td>\n",
       "      <td>Bank transfer (automatic)</td>\n",
       "      <td>105.65</td>\n",
       "      <td>6844.50</td>\n",
       "      <td>No</td>\n",
       "    </tr>\n",
       "  </tbody>\n",
       "</table>\n",
       "<p>6361 rows × 21 columns</p>\n",
       "</div>"
      ],
      "text/plain": [
       "      customerID  gender  SeniorCitizen Partner Dependents  tenure  \\\n",
       "1     5575-GNVDE    Male              0      No         No      34   \n",
       "2     3668-QPYBK    Male              0      No         No       2   \n",
       "4     9237-HQITU  Female              0      No         No       2   \n",
       "5     9305-CDSKC  Female              0      No         No       8   \n",
       "6     1452-KIOVK    Male              0      No        Yes      22   \n",
       "...          ...     ...            ...     ...        ...     ...   \n",
       "7037  2569-WGERO  Female              0      No         No      72   \n",
       "7038  6840-RESVB    Male              0     Yes        Yes      24   \n",
       "7039  2234-XADUH  Female              0     Yes        Yes      72   \n",
       "7041  8361-LTMKD    Male              1     Yes         No       4   \n",
       "7042  3186-AJIEK    Male              0      No         No      66   \n",
       "\n",
       "     PhoneService MultipleLines InternetService       OnlineSecurity  ...  \\\n",
       "1             Yes            No             DSL                  Yes  ...   \n",
       "2             Yes            No             DSL                  Yes  ...   \n",
       "4             Yes            No     Fiber optic                   No  ...   \n",
       "5             Yes           Yes     Fiber optic                   No  ...   \n",
       "6             Yes           Yes     Fiber optic                   No  ...   \n",
       "...           ...           ...             ...                  ...  ...   \n",
       "7037          Yes            No              No  No internet service  ...   \n",
       "7038          Yes           Yes             DSL                  Yes  ...   \n",
       "7039          Yes           Yes     Fiber optic                   No  ...   \n",
       "7041          Yes           Yes     Fiber optic                   No  ...   \n",
       "7042          Yes            No     Fiber optic                  Yes  ...   \n",
       "\n",
       "         DeviceProtection          TechSupport          StreamingTV  \\\n",
       "1                     Yes                   No                   No   \n",
       "2                      No                   No                   No   \n",
       "4                      No                   No                   No   \n",
       "5                     Yes                   No                  Yes   \n",
       "6                      No                   No                  Yes   \n",
       "...                   ...                  ...                  ...   \n",
       "7037  No internet service  No internet service  No internet service   \n",
       "7038                  Yes                  Yes                  Yes   \n",
       "7039                  Yes                   No                  Yes   \n",
       "7041                   No                   No                   No   \n",
       "7042                  Yes                  Yes                  Yes   \n",
       "\n",
       "          StreamingMovies        Contract PaperlessBilling  \\\n",
       "1                      No        One year               No   \n",
       "2                      No  Month-to-month              Yes   \n",
       "4                      No  Month-to-month              Yes   \n",
       "5                     Yes  Month-to-month              Yes   \n",
       "6                      No  Month-to-month              Yes   \n",
       "...                   ...             ...              ...   \n",
       "7037  No internet service        Two year              Yes   \n",
       "7038                  Yes        One year              Yes   \n",
       "7039                  Yes        One year              Yes   \n",
       "7041                   No  Month-to-month              Yes   \n",
       "7042                  Yes        Two year              Yes   \n",
       "\n",
       "                  PaymentMethod MonthlyCharges  TotalCharges  Churn  \n",
       "1                  Mailed check          56.95       1889.50     No  \n",
       "2                  Mailed check          53.85        108.15    Yes  \n",
       "4              Electronic check          70.70        151.65    Yes  \n",
       "5              Electronic check          99.65        820.50    Yes  \n",
       "6       Credit card (automatic)          89.10       1949.40     No  \n",
       "...                         ...            ...           ...    ...  \n",
       "7037  Bank transfer (automatic)          21.15       1419.40     No  \n",
       "7038               Mailed check          84.80       1990.50     No  \n",
       "7039    Credit card (automatic)         103.20       7362.90     No  \n",
       "7041               Mailed check          74.40        306.60    Yes  \n",
       "7042  Bank transfer (automatic)         105.65       6844.50     No  \n",
       "\n",
       "[6361 rows x 21 columns]"
      ]
     },
     "execution_count": 252,
     "metadata": {},
     "output_type": "execute_result"
    }
   ],
   "source": [
    "phone_customers = df[has_phone_bool]\n",
    "phone_customers"
   ]
  },
  {
   "cell_type": "code",
   "execution_count": null,
   "id": "5a8024aa",
   "metadata": {},
   "outputs": [],
   "source": []
  }
 ],
 "metadata": {
  "kernelspec": {
   "display_name": "Python 3",
   "language": "python",
   "name": "python3"
  },
  "language_info": {
   "codemirror_mode": {
    "name": "ipython",
    "version": 3
   },
   "file_extension": ".py",
   "mimetype": "text/x-python",
   "name": "python",
   "nbconvert_exporter": "python",
   "pygments_lexer": "ipython3",
   "version": "3.8.8"
  }
 },
 "nbformat": 4,
 "nbformat_minor": 5
}
