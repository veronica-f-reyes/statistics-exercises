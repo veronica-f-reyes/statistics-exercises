{
 "cells": [
  {
   "cell_type": "markdown",
   "id": "36cbf1aa",
   "metadata": {},
   "source": [
    "# Hypothesis Testing Exercises \n",
    "***\n",
    "\n",
    "For each of the following questions, formulate a null and alternative hypothesis (be as specific as you can be), then give an example of what a true positive, true negative, type I and type II errors would look like. Note that some of the questions are intentionally phrased in a vague way. It is your job to reword these as more precise questions that could be tested.\n"
   ]
  },
  {
   "cell_type": "markdown",
   "id": "a3f9b764",
   "metadata": {},
   "source": [
    "## <span style='color:Navy'> Has the network latency gone up since we switched internet service providers? </span>\n",
    "***"
   ]
  },
  {
   "cell_type": "markdown",
   "id": "af9868a6",
   "metadata": {},
   "source": [
    "####  <span style='font-family:Georgia'><span style='color:Blue'> Null Hypothesis: </span>\n",
    "\n",
    "network latency(previous ISP) <= network latency(current ISP)\n",
    "    (The previous ISP network latency is less than or equal to the current ISP network latency. )\n",
    "    \n",
    "    \n",
    "#### <span style='font-family:Georgia'><span style='color:Blue'>  Alternate Hypothesis:  </span>\n",
    "network latency(previous) > network latency(current)\n",
    "(The previous ISP network latency is greater than or equal to the current ISP network latency.)\n",
    "    \n",
    "(continuous numeric)  (continuous numeric)    \n",
    "\n",
    "#### <span style='font-family:Georgia'><span style='color:Blue'>  True positive: </span>\n",
    "\n",
    "The new ISP has less network latency rejecting the null hypothesis and proving the null hypothesis as false (and the p-value is less than 5%).\n",
    "    \n",
    "#### <span style='font-family:Georgia'><span style='color:Blue'>  True negative:  </span>\n",
    "\n",
    "The new ISP has greater network latency validating the null hypothesis and proving the null hypothesis as true (and the p-value is greater than 5%).\n",
    "    \n",
    "#### <span style='font-family:Georgia'><span style='color:Blue'>  Type I errors: </span>\n",
    "\n",
    "We say the current ISP network latency is less than the current ISP network provider but it's not, it's actually greater than the previous ISP's network latency. \n",
    "    \n",
    "    (p value is less than 0.05 but in reality there is no difference in latency)\n",
    "\n",
    "\n",
    "(we reject the null hypothesis, but, in reality, the null hypothesis is true.)\n",
    "\n",
    "    \n",
    "#### <span style='font-family:Georgia'><span style='color:Blue'>  Type II errors: </span>\n",
    "\n",
    "We say the previous network latency is less than the current but it was actually greater than current. \n",
    "    \n",
    "  (p value is greater than 0.05 and we say the previous network latency was less but it actually was greater)\n",
    "\n",
    " (we fail to reject the null hypothesis when it is actually false.)"
   ]
  },
  {
   "cell_type": "markdown",
   "id": "1fcd6c31",
   "metadata": {},
   "source": [
    "## <span style='color:Navy'>Is the website redesign any good?</span>\n"
   ]
  },
  {
   "cell_type": "markdown",
   "id": "0f966b6c",
   "metadata": {},
   "source": [
    "***\n",
    "####  <span style='font-family:Georgia'><span style='color:Blue'>Null Hypothesis:</span>\n",
    "\n",
    "previous website reviews  <= new website reviews \n",
    "    (The previous website review are greater than or equal to the current website review. )\n",
    "    \n",
    "####  <span style='font-family:Georgia'><span style='color:Blue'>Alternate Hypothesis:</span>  \n",
    "previous website reviews > new website reviews \n",
    "   (The previous website reviews are greater than the current website review. )\n",
    "    \n",
    "(continuous numeric)  (continuous numeric)    \n",
    "\n",
    "####  <span style='font-family:Georgia'><span style='color:Blue'>True positive:</span>\n",
    "\n",
    "The new website reviews are greater than the current website's reviews rejecting the null hypothesis and proving the null hypothesis as false (and the p-value is less than 5%).\n",
    "    \n",
    "####  <span style='font-family:Georgia'><span style='color:Blue'>True negative: </span>\n",
    "\n",
    "The new website reviews are less than or equal to the current website's reviews validating the null hypothesis and proving the null hypothesis as true (and the p-value is greater than 5%).\n",
    "    \n",
    "####  <span style='font-family:Georgia'><span style='color:Blue'>Type I errors:</span>\n",
    "\n",
    "We say the current website's reviews are greater than the previous website's reviews but they're not, it's they are actually less than the previous website's reviews. \n",
    "    \n",
    "    (p value is less than 0.05 but in reality there's less reviews with the new website)\n",
    "\n",
    "\n",
    "(we reject the null hypothesis, but, in reality, the null hypothesis is true.)\n",
    "\n",
    "    \n",
    "####  <span style='font-family:Georgia'><span style='color:Blue'>Type II errors: </span>\n",
    "\n",
    "We say the new website's reviews are less than the previous but it was actually greater than previous. \n",
    "    \n",
    "  (p value is greater than 0.05 and we say the new website is less but it actually was greater)\n",
    "\n",
    " (we fail to reject the null hypothesis when it is actually false.)"
   ]
  },
  {
   "cell_type": "markdown",
   "id": "d3fe1037",
   "metadata": {},
   "source": [
    "## <span style='color:Navy'> Is our television ad driving more sales? </span>"
   ]
  },
  {
   "cell_type": "markdown",
   "id": "baaa8440",
   "metadata": {},
   "source": [
    "***\n",
    "####  <span style='font-family:Georgia'><span style='color:Blue'>Null Hypothesis:</span>\n",
    "\n",
    "after ad sales  <= before ad sales \n",
    "    (Sales after the ad are less than or equal to the number before the ad sales. )\n",
    "    \n",
    "####  <span style='font-family:Georgia'><span style='color:Blue'>Alternate Hypothesis:  </span>\n",
    "after ad sales  > before ad sales \n",
    "    (Sales after the ad are greater than the number before the ad sales. )\n",
    "    \n",
    "(continuous numeric)  (continuous numeric)    \n",
    "\n",
    "####  <span style='font-family:Georgia'><span style='color:Blue'>True positive:</span>\n",
    "\n",
    "The sales after the ad are greater than before the ad's sales rejecting the null hypothesis and proving the null hypothesis as false (and the p-value is less than 5%).\n",
    "    \n",
    "####  <span style='font-family:Georgia'><span style='color:Blue'>True negative: </span>\n",
    "\n",
    "The sales after the ad are less than before the ad's sales reviews validating the null hypothesis and proving the null hypothesis as true (and the p-value is greater than 5%).\n",
    "    \n",
    "####  <span style='font-family:Georgia'><span style='color:Blue'>Type I errors:</span>\n",
    "\n",
    "We say the sales after the ad are greater than the previous website's reviews but they're not, they are actually less than before the ad. \n",
    "    \n",
    "    (p value is less than 0.05 but in reality there was less sales before the ad)\n",
    "\n",
    "\n",
    "(we reject the null hypothesis, but, in reality, the null hypothesis is true.)\n",
    "\n",
    "    \n",
    "####  <span style='font-family:Georgia'><span style='color:Blue'>Type II errors: </span>\n",
    "\n",
    "We say the sales after the ad are less than the before the ad but it was actually greater than before. \n",
    "    \n",
    "  (p value is greater than 0.05 and we say the sales after the ad are less but it actually was greater)\n",
    "\n",
    " (we fail to reject the null hypothesis when it is actually false.)"
   ]
  },
  {
   "cell_type": "markdown",
   "id": "6bf2e358",
   "metadata": {},
   "source": [
    "# T-Test Exercises\n",
    "\n",
    "         Ace Realty wants to determine whether the average time it takes to sell homes is different for its two offices. A sample of 40 sales from office #1 revealed a mean of 90 days and a standard deviation of 15 days. A sample of 50 sales from office #2 revealed a mean of 100 days and a standard deviation of 20 days. Use a .05 level of significance."
   ]
  },
  {
   "cell_type": "code",
   "execution_count": 139,
   "id": "ef317e77",
   "metadata": {},
   "outputs": [],
   "source": [
    "import pandas as pd\n",
    "import matplotlib.pyplot as plt\n",
    "import numpy as np\n",
    "from pydataset import data\n",
    "from scipy import stats"
   ]
  },
  {
   "cell_type": "code",
   "execution_count": 140,
   "id": "ef9dd961",
   "metadata": {},
   "outputs": [],
   "source": [
    "alpha = 0.05\n",
    "\n",
    "stdev_office1 = 15\n",
    "\n",
    "office1_sales_sample = 40\n",
    "\n",
    "office1_sales_days_mean = 90\n",
    "\n",
    "office1_sales = np.random.normal(office1_sales_days_mean,stdev_office1, size=(office1_sales_sample)) \n"
   ]
  },
  {
   "cell_type": "code",
   "execution_count": 141,
   "id": "699e8abc",
   "metadata": {},
   "outputs": [],
   "source": [
    "stdev_office2 = 20\n",
    "\n",
    "office2_sales_sample = 50\n",
    "\n",
    "office2_sales_days_mean = 100\n",
    "\n",
    "office2_sales = np.random.normal(office2_sales_days_mean,stdev_office2, size=(office2_sales_sample) )\n"
   ]
  },
  {
   "cell_type": "code",
   "execution_count": 142,
   "id": "c813a1a9",
   "metadata": {},
   "outputs": [
    {
     "data": {
      "text/plain": [
       "(-2.165876097941915, 0.03308743246072445)"
      ]
     },
     "execution_count": 142,
     "metadata": {},
     "output_type": "execute_result"
    }
   ],
   "source": [
    "t, p = stats.ttest_ind(office1_sales, office2_sales, equal_var=False)\n",
    "\n",
    "t, p\n"
   ]
  },
  {
   "cell_type": "code",
   "execution_count": 143,
   "id": "b073fde5",
   "metadata": {},
   "outputs": [
    {
     "data": {
      "text/plain": [
       "MannwhitneyuResult(statistic=769.0, pvalue=0.030627156594212196)"
      ]
     },
     "execution_count": 143,
     "metadata": {},
     "output_type": "execute_result"
    }
   ],
   "source": [
    "stats.mannwhitneyu(office1_sales, office2_sales)"
   ]
  },
  {
   "cell_type": "code",
   "execution_count": 144,
   "id": "10d78d28",
   "metadata": {},
   "outputs": [
    {
     "data": {
      "text/plain": [
       "True"
      ]
     },
     "execution_count": 144,
     "metadata": {},
     "output_type": "execute_result"
    }
   ],
   "source": [
    "p < alpha"
   ]
  },
  {
   "cell_type": "code",
   "execution_count": 145,
   "id": "632578da",
   "metadata": {},
   "outputs": [
    {
     "name": "stdout",
     "output_type": "stream",
     "text": [
      "Reject null hypothesis? True\n"
     ]
    }
   ],
   "source": [
    "print(\"Reject null hypothesis?\" , p<alpha)"
   ]
  },
  {
   "cell_type": "code",
   "execution_count": 146,
   "id": "49f94ffc",
   "metadata": {},
   "outputs": [
    {
     "name": "stdout",
     "output_type": "stream",
     "text": [
      "We fail to reject $H_{0}$ & t < 0\n"
     ]
    }
   ],
   "source": [
    "if p/2 > alpha:\n",
    "    print(\"We fail to reject $H_{0}$\")\n",
    "elif t < 0:\n",
    "    print(\"We fail to reject $H_{0}$ & t < 0\")\n",
    "else:\n",
    "    print(\"We reject $H_{0}$ \")"
   ]
  },
  {
   "cell_type": "markdown",
   "id": "b82f7209",
   "metadata": {},
   "source": [
    "# Load the mpg dataset and use it to answer the following questions:\n",
    "\n",
    "1. Is there a difference in fuel-efficiency in cars from 2008 vs 1999?\n",
    "2. Are compact cars more fuel-efficient than the average car?\n",
    "3. Do manual cars get better gas mileage than automatic cars?"
   ]
  },
  {
   "cell_type": "code",
   "execution_count": 147,
   "id": "7863d78d",
   "metadata": {},
   "outputs": [],
   "source": [
    "df = data(\"mpg\")"
   ]
  },
  {
   "cell_type": "code",
   "execution_count": 148,
   "id": "853324d6",
   "metadata": {},
   "outputs": [
    {
     "data": {
      "text/html": [
       "<div>\n",
       "<style scoped>\n",
       "    .dataframe tbody tr th:only-of-type {\n",
       "        vertical-align: middle;\n",
       "    }\n",
       "\n",
       "    .dataframe tbody tr th {\n",
       "        vertical-align: top;\n",
       "    }\n",
       "\n",
       "    .dataframe thead th {\n",
       "        text-align: right;\n",
       "    }\n",
       "</style>\n",
       "<table border=\"1\" class=\"dataframe\">\n",
       "  <thead>\n",
       "    <tr style=\"text-align: right;\">\n",
       "      <th></th>\n",
       "      <th>manufacturer</th>\n",
       "      <th>model</th>\n",
       "      <th>displ</th>\n",
       "      <th>year</th>\n",
       "      <th>cyl</th>\n",
       "      <th>trans</th>\n",
       "      <th>drv</th>\n",
       "      <th>cty</th>\n",
       "      <th>hwy</th>\n",
       "      <th>fl</th>\n",
       "      <th>class</th>\n",
       "    </tr>\n",
       "  </thead>\n",
       "  <tbody>\n",
       "    <tr>\n",
       "      <th>1</th>\n",
       "      <td>audi</td>\n",
       "      <td>a4</td>\n",
       "      <td>1.8</td>\n",
       "      <td>1999</td>\n",
       "      <td>4</td>\n",
       "      <td>auto(l5)</td>\n",
       "      <td>f</td>\n",
       "      <td>18</td>\n",
       "      <td>29</td>\n",
       "      <td>p</td>\n",
       "      <td>compact</td>\n",
       "    </tr>\n",
       "    <tr>\n",
       "      <th>2</th>\n",
       "      <td>audi</td>\n",
       "      <td>a4</td>\n",
       "      <td>1.8</td>\n",
       "      <td>1999</td>\n",
       "      <td>4</td>\n",
       "      <td>manual(m5)</td>\n",
       "      <td>f</td>\n",
       "      <td>21</td>\n",
       "      <td>29</td>\n",
       "      <td>p</td>\n",
       "      <td>compact</td>\n",
       "    </tr>\n",
       "    <tr>\n",
       "      <th>3</th>\n",
       "      <td>audi</td>\n",
       "      <td>a4</td>\n",
       "      <td>2.0</td>\n",
       "      <td>2008</td>\n",
       "      <td>4</td>\n",
       "      <td>manual(m6)</td>\n",
       "      <td>f</td>\n",
       "      <td>20</td>\n",
       "      <td>31</td>\n",
       "      <td>p</td>\n",
       "      <td>compact</td>\n",
       "    </tr>\n",
       "    <tr>\n",
       "      <th>4</th>\n",
       "      <td>audi</td>\n",
       "      <td>a4</td>\n",
       "      <td>2.0</td>\n",
       "      <td>2008</td>\n",
       "      <td>4</td>\n",
       "      <td>auto(av)</td>\n",
       "      <td>f</td>\n",
       "      <td>21</td>\n",
       "      <td>30</td>\n",
       "      <td>p</td>\n",
       "      <td>compact</td>\n",
       "    </tr>\n",
       "    <tr>\n",
       "      <th>5</th>\n",
       "      <td>audi</td>\n",
       "      <td>a4</td>\n",
       "      <td>2.8</td>\n",
       "      <td>1999</td>\n",
       "      <td>6</td>\n",
       "      <td>auto(l5)</td>\n",
       "      <td>f</td>\n",
       "      <td>16</td>\n",
       "      <td>26</td>\n",
       "      <td>p</td>\n",
       "      <td>compact</td>\n",
       "    </tr>\n",
       "  </tbody>\n",
       "</table>\n",
       "</div>"
      ],
      "text/plain": [
       "  manufacturer model  displ  year  cyl       trans drv  cty  hwy fl    class\n",
       "1         audi    a4    1.8  1999    4    auto(l5)   f   18   29  p  compact\n",
       "2         audi    a4    1.8  1999    4  manual(m5)   f   21   29  p  compact\n",
       "3         audi    a4    2.0  2008    4  manual(m6)   f   20   31  p  compact\n",
       "4         audi    a4    2.0  2008    4    auto(av)   f   21   30  p  compact\n",
       "5         audi    a4    2.8  1999    6    auto(l5)   f   16   26  p  compact"
      ]
     },
     "execution_count": 148,
     "metadata": {},
     "output_type": "execute_result"
    }
   ],
   "source": [
    "df.head()"
   ]
  },
  {
   "cell_type": "code",
   "execution_count": 149,
   "id": "96d7b8dd",
   "metadata": {},
   "outputs": [
    {
     "data": {
      "text/html": [
       "<div>\n",
       "<style scoped>\n",
       "    .dataframe tbody tr th:only-of-type {\n",
       "        vertical-align: middle;\n",
       "    }\n",
       "\n",
       "    .dataframe tbody tr th {\n",
       "        vertical-align: top;\n",
       "    }\n",
       "\n",
       "    .dataframe thead th {\n",
       "        text-align: right;\n",
       "    }\n",
       "</style>\n",
       "<table border=\"1\" class=\"dataframe\">\n",
       "  <thead>\n",
       "    <tr style=\"text-align: right;\">\n",
       "      <th></th>\n",
       "      <th>manufacturer</th>\n",
       "      <th>model</th>\n",
       "      <th>displ</th>\n",
       "      <th>year</th>\n",
       "      <th>cyl</th>\n",
       "      <th>trans</th>\n",
       "      <th>drv</th>\n",
       "      <th>cty</th>\n",
       "      <th>hwy</th>\n",
       "      <th>fl</th>\n",
       "      <th>class</th>\n",
       "      <th>avg_mpg</th>\n",
       "    </tr>\n",
       "  </thead>\n",
       "  <tbody>\n",
       "    <tr>\n",
       "      <th>1</th>\n",
       "      <td>audi</td>\n",
       "      <td>a4</td>\n",
       "      <td>1.8</td>\n",
       "      <td>1999</td>\n",
       "      <td>4</td>\n",
       "      <td>auto(l5)</td>\n",
       "      <td>f</td>\n",
       "      <td>18</td>\n",
       "      <td>29</td>\n",
       "      <td>p</td>\n",
       "      <td>compact</td>\n",
       "      <td>23.5</td>\n",
       "    </tr>\n",
       "    <tr>\n",
       "      <th>2</th>\n",
       "      <td>audi</td>\n",
       "      <td>a4</td>\n",
       "      <td>1.8</td>\n",
       "      <td>1999</td>\n",
       "      <td>4</td>\n",
       "      <td>manual(m5)</td>\n",
       "      <td>f</td>\n",
       "      <td>21</td>\n",
       "      <td>29</td>\n",
       "      <td>p</td>\n",
       "      <td>compact</td>\n",
       "      <td>25.0</td>\n",
       "    </tr>\n",
       "    <tr>\n",
       "      <th>3</th>\n",
       "      <td>audi</td>\n",
       "      <td>a4</td>\n",
       "      <td>2.0</td>\n",
       "      <td>2008</td>\n",
       "      <td>4</td>\n",
       "      <td>manual(m6)</td>\n",
       "      <td>f</td>\n",
       "      <td>20</td>\n",
       "      <td>31</td>\n",
       "      <td>p</td>\n",
       "      <td>compact</td>\n",
       "      <td>25.5</td>\n",
       "    </tr>\n",
       "    <tr>\n",
       "      <th>4</th>\n",
       "      <td>audi</td>\n",
       "      <td>a4</td>\n",
       "      <td>2.0</td>\n",
       "      <td>2008</td>\n",
       "      <td>4</td>\n",
       "      <td>auto(av)</td>\n",
       "      <td>f</td>\n",
       "      <td>21</td>\n",
       "      <td>30</td>\n",
       "      <td>p</td>\n",
       "      <td>compact</td>\n",
       "      <td>25.5</td>\n",
       "    </tr>\n",
       "    <tr>\n",
       "      <th>5</th>\n",
       "      <td>audi</td>\n",
       "      <td>a4</td>\n",
       "      <td>2.8</td>\n",
       "      <td>1999</td>\n",
       "      <td>6</td>\n",
       "      <td>auto(l5)</td>\n",
       "      <td>f</td>\n",
       "      <td>16</td>\n",
       "      <td>26</td>\n",
       "      <td>p</td>\n",
       "      <td>compact</td>\n",
       "      <td>21.0</td>\n",
       "    </tr>\n",
       "    <tr>\n",
       "      <th>...</th>\n",
       "      <td>...</td>\n",
       "      <td>...</td>\n",
       "      <td>...</td>\n",
       "      <td>...</td>\n",
       "      <td>...</td>\n",
       "      <td>...</td>\n",
       "      <td>...</td>\n",
       "      <td>...</td>\n",
       "      <td>...</td>\n",
       "      <td>...</td>\n",
       "      <td>...</td>\n",
       "      <td>...</td>\n",
       "    </tr>\n",
       "    <tr>\n",
       "      <th>230</th>\n",
       "      <td>volkswagen</td>\n",
       "      <td>passat</td>\n",
       "      <td>2.0</td>\n",
       "      <td>2008</td>\n",
       "      <td>4</td>\n",
       "      <td>auto(s6)</td>\n",
       "      <td>f</td>\n",
       "      <td>19</td>\n",
       "      <td>28</td>\n",
       "      <td>p</td>\n",
       "      <td>midsize</td>\n",
       "      <td>23.5</td>\n",
       "    </tr>\n",
       "    <tr>\n",
       "      <th>231</th>\n",
       "      <td>volkswagen</td>\n",
       "      <td>passat</td>\n",
       "      <td>2.0</td>\n",
       "      <td>2008</td>\n",
       "      <td>4</td>\n",
       "      <td>manual(m6)</td>\n",
       "      <td>f</td>\n",
       "      <td>21</td>\n",
       "      <td>29</td>\n",
       "      <td>p</td>\n",
       "      <td>midsize</td>\n",
       "      <td>25.0</td>\n",
       "    </tr>\n",
       "    <tr>\n",
       "      <th>232</th>\n",
       "      <td>volkswagen</td>\n",
       "      <td>passat</td>\n",
       "      <td>2.8</td>\n",
       "      <td>1999</td>\n",
       "      <td>6</td>\n",
       "      <td>auto(l5)</td>\n",
       "      <td>f</td>\n",
       "      <td>16</td>\n",
       "      <td>26</td>\n",
       "      <td>p</td>\n",
       "      <td>midsize</td>\n",
       "      <td>21.0</td>\n",
       "    </tr>\n",
       "    <tr>\n",
       "      <th>233</th>\n",
       "      <td>volkswagen</td>\n",
       "      <td>passat</td>\n",
       "      <td>2.8</td>\n",
       "      <td>1999</td>\n",
       "      <td>6</td>\n",
       "      <td>manual(m5)</td>\n",
       "      <td>f</td>\n",
       "      <td>18</td>\n",
       "      <td>26</td>\n",
       "      <td>p</td>\n",
       "      <td>midsize</td>\n",
       "      <td>22.0</td>\n",
       "    </tr>\n",
       "    <tr>\n",
       "      <th>234</th>\n",
       "      <td>volkswagen</td>\n",
       "      <td>passat</td>\n",
       "      <td>3.6</td>\n",
       "      <td>2008</td>\n",
       "      <td>6</td>\n",
       "      <td>auto(s6)</td>\n",
       "      <td>f</td>\n",
       "      <td>17</td>\n",
       "      <td>26</td>\n",
       "      <td>p</td>\n",
       "      <td>midsize</td>\n",
       "      <td>21.5</td>\n",
       "    </tr>\n",
       "  </tbody>\n",
       "</table>\n",
       "<p>234 rows × 12 columns</p>\n",
       "</div>"
      ],
      "text/plain": [
       "    manufacturer   model  displ  year  cyl       trans drv  cty  hwy fl  \\\n",
       "1           audi      a4    1.8  1999    4    auto(l5)   f   18   29  p   \n",
       "2           audi      a4    1.8  1999    4  manual(m5)   f   21   29  p   \n",
       "3           audi      a4    2.0  2008    4  manual(m6)   f   20   31  p   \n",
       "4           audi      a4    2.0  2008    4    auto(av)   f   21   30  p   \n",
       "5           audi      a4    2.8  1999    6    auto(l5)   f   16   26  p   \n",
       "..           ...     ...    ...   ...  ...         ...  ..  ...  ... ..   \n",
       "230   volkswagen  passat    2.0  2008    4    auto(s6)   f   19   28  p   \n",
       "231   volkswagen  passat    2.0  2008    4  manual(m6)   f   21   29  p   \n",
       "232   volkswagen  passat    2.8  1999    6    auto(l5)   f   16   26  p   \n",
       "233   volkswagen  passat    2.8  1999    6  manual(m5)   f   18   26  p   \n",
       "234   volkswagen  passat    3.6  2008    6    auto(s6)   f   17   26  p   \n",
       "\n",
       "       class  avg_mpg  \n",
       "1    compact     23.5  \n",
       "2    compact     25.0  \n",
       "3    compact     25.5  \n",
       "4    compact     25.5  \n",
       "5    compact     21.0  \n",
       "..       ...      ...  \n",
       "230  midsize     23.5  \n",
       "231  midsize     25.0  \n",
       "232  midsize     21.0  \n",
       "233  midsize     22.0  \n",
       "234  midsize     21.5  \n",
       "\n",
       "[234 rows x 12 columns]"
      ]
     },
     "execution_count": 149,
     "metadata": {},
     "output_type": "execute_result"
    }
   ],
   "source": [
    "df['avg_mpg'] = (df.cty + df.hwy)/2\n",
    "df"
   ]
  },
  {
   "cell_type": "markdown",
   "id": "66c4cfa5",
   "metadata": {},
   "source": [
    "#### 1. Is there a difference in fuel-efficiency in cars from 2008 vs 1999?"
   ]
  },
  {
   "cell_type": "code",
   "execution_count": 150,
   "id": "438a940a",
   "metadata": {},
   "outputs": [
    {
     "data": {
      "text/plain": [
       "20.076923076923077"
      ]
     },
     "execution_count": 150,
     "metadata": {},
     "output_type": "execute_result"
    }
   ],
   "source": [
    "mpg_2008 = df[df.year == 2008].avg_mpg\n",
    "mpg_2008.mean()"
   ]
  },
  {
   "cell_type": "code",
   "execution_count": 151,
   "id": "687bde8e",
   "metadata": {},
   "outputs": [
    {
     "data": {
      "text/plain": [
       "20.22222222222222"
      ]
     },
     "execution_count": 151,
     "metadata": {},
     "output_type": "execute_result"
    }
   ],
   "source": [
    "mpg_1999 = df[df.year == 1999].avg_mpg\n",
    "mpg_1999.mean()"
   ]
  },
  {
   "cell_type": "code",
   "execution_count": 152,
   "id": "8f25ee15",
   "metadata": {},
   "outputs": [
    {
     "data": {
      "text/plain": [
       "(-0.21960177245940962, 0.8263750772060638)"
      ]
     },
     "execution_count": 152,
     "metadata": {},
     "output_type": "execute_result"
    }
   ],
   "source": [
    "t, p = stats.ttest_ind(mpg_2008, mpg_1999, equal_var=False)\n",
    "\n",
    "t, p"
   ]
  },
  {
   "cell_type": "code",
   "execution_count": 153,
   "id": "7eba75d3",
   "metadata": {},
   "outputs": [
    {
     "data": {
      "text/plain": [
       "MannwhitneyuResult(statistic=6678.5, pvalue=0.3744934268007572)"
      ]
     },
     "execution_count": 153,
     "metadata": {},
     "output_type": "execute_result"
    }
   ],
   "source": [
    "stats.mannwhitneyu(mpg_2008, mpg_1999)"
   ]
  },
  {
   "cell_type": "code",
   "execution_count": 154,
   "id": "a8e9cac6",
   "metadata": {},
   "outputs": [
    {
     "data": {
      "text/plain": [
       "False"
      ]
     },
     "execution_count": 154,
     "metadata": {},
     "output_type": "execute_result"
    }
   ],
   "source": [
    "p < alpha"
   ]
  },
  {
   "cell_type": "code",
   "execution_count": 155,
   "id": "56fb7be3",
   "metadata": {},
   "outputs": [
    {
     "name": "stdout",
     "output_type": "stream",
     "text": [
      "Reject null hypothesis? False\n"
     ]
    }
   ],
   "source": [
    "print(\"Reject null hypothesis?\" , p<alpha)"
   ]
  },
  {
   "cell_type": "code",
   "execution_count": 156,
   "id": "f3fbd4d3",
   "metadata": {},
   "outputs": [
    {
     "name": "stdout",
     "output_type": "stream",
     "text": [
      "We fail to reject $H_{0}$\n"
     ]
    }
   ],
   "source": [
    "if p/2 > alpha:\n",
    "    print(\"We fail to reject $H_{0}$\")\n",
    "elif t < 0:\n",
    "    print(\"We fail to reject $H_{0}$ & t < 0\")\n",
    "else:\n",
    "    print(\"We reject $H_{0}$ \")"
   ]
  },
  {
   "cell_type": "markdown",
   "id": "6b2ebac7",
   "metadata": {},
   "source": [
    "##### 2. Are compact cars more fuel-efficient than the average car?"
   ]
  },
  {
   "cell_type": "code",
   "execution_count": 157,
   "id": "47cba0d1",
   "metadata": {},
   "outputs": [],
   "source": [
    "df.rename(columns={\"class\": \"type\"},inplace=True)"
   ]
  },
  {
   "cell_type": "code",
   "execution_count": 158,
   "id": "88dcb768",
   "metadata": {},
   "outputs": [
    {
     "data": {
      "text/plain": [
       "24.21276595744681"
      ]
     },
     "execution_count": 158,
     "metadata": {},
     "output_type": "execute_result"
    }
   ],
   "source": [
    "mpg_compact = df[df.type == 'compact'].avg_mpg\n",
    "mpg_compact.mean()"
   ]
  },
  {
   "cell_type": "code",
   "execution_count": 160,
   "id": "5bc20aa2",
   "metadata": {},
   "outputs": [],
   "source": [
    "avg_mpg_mean = avg_mpg.mean()"
   ]
  },
  {
   "cell_type": "code",
   "execution_count": 161,
   "id": "c8d2904a",
   "metadata": {},
   "outputs": [
    {
     "data": {
      "text/plain": [
       "(7.896888573132535, 4.1985637943171336e-10)"
      ]
     },
     "execution_count": 161,
     "metadata": {},
     "output_type": "execute_result"
    }
   ],
   "source": [
    "t, p = stats.ttest_1samp(mpg_compact,avg_mpg_mean)\n",
    "\n",
    "t, p"
   ]
  },
  {
   "cell_type": "code",
   "execution_count": 162,
   "id": "d8e1dced",
   "metadata": {},
   "outputs": [
    {
     "data": {
      "text/plain": [
       "True"
      ]
     },
     "execution_count": 162,
     "metadata": {},
     "output_type": "execute_result"
    }
   ],
   "source": [
    "p < alpha"
   ]
  },
  {
   "cell_type": "code",
   "execution_count": 163,
   "id": "37420096",
   "metadata": {},
   "outputs": [
    {
     "name": "stdout",
     "output_type": "stream",
     "text": [
      "Reject null hypothesis? True\n"
     ]
    }
   ],
   "source": [
    "print(\"Reject null hypothesis?\" , p<alpha)"
   ]
  },
  {
   "cell_type": "code",
   "execution_count": 164,
   "id": "9043e473",
   "metadata": {},
   "outputs": [
    {
     "name": "stdout",
     "output_type": "stream",
     "text": [
      "We reject $H_{0}$ \n"
     ]
    }
   ],
   "source": [
    "if p/2 > alpha:\n",
    "    print(\"We fail to reject $H_{0}$\")\n",
    "elif t < 0:\n",
    "    print(\"We fail to reject $H_{0}$ & t < 0\")\n",
    "else:\n",
    "    print(\"We reject $H_{0}$ \")"
   ]
  },
  {
   "cell_type": "markdown",
   "id": "574c150c",
   "metadata": {},
   "source": [
    "#### 3. Do manual cars get better gas mileage than automatic cars?"
   ]
  },
  {
   "cell_type": "code",
   "execution_count": 165,
   "id": "92260476",
   "metadata": {},
   "outputs": [
    {
     "data": {
      "text/plain": [
       "22.227272727272727"
      ]
     },
     "execution_count": 165,
     "metadata": {},
     "output_type": "execute_result"
    }
   ],
   "source": [
    "mpg_manual = df[df.trans.str.contains('manual')].avg_mpg\n",
    "mpg_manual.mean()"
   ]
  },
  {
   "cell_type": "code",
   "execution_count": 166,
   "id": "5084023b",
   "metadata": {},
   "outputs": [
    {
     "data": {
      "text/plain": [
       "19.130573248407643"
      ]
     },
     "execution_count": 166,
     "metadata": {},
     "output_type": "execute_result"
    }
   ],
   "source": [
    "mpg_auto= df[df.trans.str.contains('auto')].avg_mpg\n",
    "mpg_auto.mean()"
   ]
  },
  {
   "cell_type": "code",
   "execution_count": 167,
   "id": "e60c99e2",
   "metadata": {},
   "outputs": [
    {
     "data": {
      "text/plain": [
       "(4.443514012903071, 1.795224899991793e-05)"
      ]
     },
     "execution_count": 167,
     "metadata": {},
     "output_type": "execute_result"
    }
   ],
   "source": [
    "t, p = stats.ttest_ind(mpg_manual,mpg_auto, equal_var=False)\n",
    "\n",
    "t, p"
   ]
  },
  {
   "cell_type": "code",
   "execution_count": 168,
   "id": "288b1702",
   "metadata": {},
   "outputs": [
    {
     "data": {
      "text/plain": [
       "MannwhitneyuResult(statistic=3895.5, pvalue=4.9297998930308745e-06)"
      ]
     },
     "execution_count": 168,
     "metadata": {},
     "output_type": "execute_result"
    }
   ],
   "source": [
    "stats.mannwhitneyu(mpg_manual,mpg_auto)"
   ]
  },
  {
   "cell_type": "code",
   "execution_count": 169,
   "id": "2374caed",
   "metadata": {},
   "outputs": [
    {
     "data": {
      "text/plain": [
       "True"
      ]
     },
     "execution_count": 169,
     "metadata": {},
     "output_type": "execute_result"
    }
   ],
   "source": [
    "p < alpha"
   ]
  },
  {
   "cell_type": "code",
   "execution_count": 170,
   "id": "b19a37ce",
   "metadata": {},
   "outputs": [
    {
     "name": "stdout",
     "output_type": "stream",
     "text": [
      "Reject null hypothesis? True\n"
     ]
    }
   ],
   "source": [
    "print(\"Reject null hypothesis?\" , p<alpha)"
   ]
  },
  {
   "cell_type": "code",
   "execution_count": 171,
   "id": "f38854f7",
   "metadata": {},
   "outputs": [
    {
     "data": {
      "text/plain": [
       "<AxesSubplot:>"
      ]
     },
     "execution_count": 171,
     "metadata": {},
     "output_type": "execute_result"
    },
    {
     "data": {
      "image/png": "[encoded data removed]",
      "text/plain": [
       "<Figure size 432x288 with 1 Axes>"
      ]
     },
     "metadata": {
      "needs_background": "light"
     },
     "output_type": "display_data"
    }
   ],
   "source": [
    "mpg_manual.hist()"
   ]
  },
  {
   "cell_type": "code",
   "execution_count": 172,
   "id": "cf4a1c2c",
   "metadata": {},
   "outputs": [
    {
     "data": {
      "text/plain": [
       "<AxesSubplot:>"
      ]
     },
     "execution_count": 172,
     "metadata": {},
     "output_type": "execute_result"
    },
    {
     "data": {
      "image/png": "[encoded data removed]",
      "text/plain": [
       "<Figure size 432x288 with 1 Axes>"
      ]
     },
     "metadata": {
      "needs_background": "light"
     },
     "output_type": "display_data"
    }
   ],
   "source": [
    "mpg_auto.hist()"
   ]
  },
  {
   "cell_type": "code",
   "execution_count": 173,
   "id": "fdab96ea",
   "metadata": {},
   "outputs": [
    {
     "name": "stdout",
     "output_type": "stream",
     "text": [
      "We reject $H_{0}$ \n"
     ]
    }
   ],
   "source": [
    "if p/2 > alpha:\n",
    "    print(\"We fail to reject $H_{0}$\")\n",
    "elif t < 0:\n",
    "    print(\"We fail to reject $H_{0}$ & t < 0\")\n",
    "else:\n",
    "    print(\"We reject $H_{0}$ \")"
   ]
  },
  {
   "cell_type": "code",
   "execution_count": null,
   "id": "76ef55a9",
   "metadata": {},
   "outputs": [],
   "source": []
  },
  {
   "cell_type": "code",
   "execution_count": null,
   "id": "844e7635",
   "metadata": {},
   "outputs": [],
   "source": []
  }
 ],
 "metadata": {
  "kernelspec": {
   "display_name": "Python 3",
   "language": "python",
   "name": "python3"
  },
  "language_info": {
   "codemirror_mode": {
    "name": "ipython",
    "version": 3
   },
   "file_extension": ".py",
   "mimetype": "text/x-python",
   "name": "python",
   "nbconvert_exporter": "python",
   "pygments_lexer": "ipython3",
   "version": "3.8.8"
  }
 },
 "nbformat": 4,
 "nbformat_minor": 5
}
