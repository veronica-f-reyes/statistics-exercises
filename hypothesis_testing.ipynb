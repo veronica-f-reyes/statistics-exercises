{
 "cells": [
  {
   "cell_type": "markdown",
   "id": "36cbf1aa",
   "metadata": {},
   "source": [
    "# Hypothesis Testing Exercises \n",
    "***\n",
    "\n",
    "For each of the following questions, formulate a null and alternative hypothesis (be as specific as you can be), then give an example of what a true positive, true negative, type I and type II errors would look like. Note that some of the questions are intentionally phrased in a vague way. It is your job to reword these as more precise questions that could be tested.\n"
   ]
  },
  {
   "cell_type": "markdown",
   "id": "a3f9b764",
   "metadata": {},
   "source": [
    "## <span style='color:Navy'> Has the network latency gone up since we switched internet service providers? </span>\n",
    "***"
   ]
  },
  {
   "cell_type": "markdown",
   "id": "af9868a6",
   "metadata": {},
   "source": [
    "####  <span style='font-family:Georgia'><span style='color:Blue'> Null Hypothesis: </span>\n",
    "\n",
    "network latency(previous ISP) <= network latency(current ISP)\n",
    "    (The previous ISP network latency is less than or equal to the current ISP network latency. )\n",
    "    \n",
    "    \n",
    "#### <span style='font-family:Georgia'><span style='color:Blue'>  Alternate Hypothesis:  </span>\n",
    "network latency(previous) > network latency(current)\n",
    "(The previous ISP network latency is greater than or equal to the current ISP network latency.)\n",
    "    \n",
    "(continuous numeric)  (continuous numeric)    \n",
    "\n",
    "#### <span style='font-family:Georgia'><span style='color:Blue'>  True positive: </span>\n",
    "\n",
    "The new ISP has less network latency rejecting the null hypothesis and proving the null hypothesis as false (and the p-value is less than 5%).\n",
    "    \n",
    "#### <span style='font-family:Georgia'><span style='color:Blue'>  True negative:  </span>\n",
    "\n",
    "The new ISP has greater network latency validating the null hypothesis and proving the null hypothesis as true (and the p-value is greater than 5%).\n",
    "    \n",
    "#### <span style='font-family:Georgia'><span style='color:Blue'>  Type I errors: </span>\n",
    "\n",
    "We say the current ISP network latency is less than the current ISP network provider but it's not, it's actually greater than the previous ISP's network latency. \n",
    "    \n",
    "    (p value is less than 0.05 but in reality there is no difference in latency)\n",
    "\n",
    "\n",
    "(we reject the null hypothesis, but, in reality, the null hypothesis is true.)\n",
    "\n",
    "    \n",
    "#### <span style='font-family:Georgia'><span style='color:Blue'>  Type II errors: </span>\n",
    "\n",
    "We say the previous network latency is less than the current but it was actually greater than current. \n",
    "    \n",
    "  (p value is greater than 0.05 and we say the previous network latency was less but it actually was greater)\n",
    "\n",
    " (we fail to reject the null hypothesis when it is actually false.)"
   ]
  },
  {
   "cell_type": "markdown",
   "id": "1fcd6c31",
   "metadata": {},
   "source": [
    "## <span style='color:Navy'>Is the website redesign any good?</span>\n"
   ]
  },
  {
   "cell_type": "markdown",
   "id": "0f966b6c",
   "metadata": {},
   "source": [
    "***\n",
    "####  <span style='font-family:Georgia'><span style='color:Blue'>Null Hypothesis:</span>\n",
    "\n",
    "previous website reviews  <= new website reviews \n",
    "    (The previous website review are greater than or equal to the current website review. )\n",
    "    \n",
    "####  <span style='font-family:Georgia'><span style='color:Blue'>Alternate Hypothesis:</span>  \n",
    "previous website reviews > new website reviews \n",
    "   (The previous website reviews are greater than the current website review. )\n",
    "    \n",
    "(continuous numeric)  (continuous numeric)    \n",
    "\n",
    "####  <span style='font-family:Georgia'><span style='color:Blue'>True positive:</span>\n",
    "\n",
    "The new website reviews are greater than the current website's reviews rejecting the null hypothesis and proving the null hypothesis as false (and the p-value is less than 5%).\n",
    "    \n",
    "####  <span style='font-family:Georgia'><span style='color:Blue'>True negative: </span>\n",
    "\n",
    "The new website reviews are less than or equal to the current website's reviews validating the null hypothesis and proving the null hypothesis as true (and the p-value is greater than 5%).\n",
    "    \n",
    "####  <span style='font-family:Georgia'><span style='color:Blue'>Type I errors:</span>\n",
    "\n",
    "We say the current website's reviews are greater than the previous website's reviews but they're not, it's they are actually less than the previous website's reviews. \n",
    "    \n",
    "    (p value is less than 0.05 but in reality there's less reviews with the new website)\n",
    "\n",
    "\n",
    "(we reject the null hypothesis, but, in reality, the null hypothesis is true.)\n",
    "\n",
    "    \n",
    "####  <span style='font-family:Georgia'><span style='color:Blue'>Type II errors: </span>\n",
    "\n",
    "We say the new website's reviews are less than the previous but it was actually greater than previous. \n",
    "    \n",
    "  (p value is greater than 0.05 and we say the new website is less but it actually was greater)\n",
    "\n",
    " (we fail to reject the null hypothesis when it is actually false.)"
   ]
  },
  {
   "cell_type": "markdown",
   "id": "d3fe1037",
   "metadata": {},
   "source": [
    "## <span style='color:Navy'> Is our television ad driving more sales? </span>"
   ]
  },
  {
   "cell_type": "markdown",
   "id": "baaa8440",
   "metadata": {},
   "source": [
    "***\n",
    "####  <span style='font-family:Georgia'><span style='color:Blue'>Null Hypothesis:</span>\n",
    "\n",
    "after ad sales  <= before ad sales \n",
    "    (Sales after the ad are less than or equal to the number before the ad sales. )\n",
    "    \n",
    "####  <span style='font-family:Georgia'><span style='color:Blue'>Alternate Hypothesis:  </span>\n",
    "after ad sales  > before ad sales \n",
    "    (Sales after the ad are greater than the number before the ad sales. )\n",
    "    \n",
    "(continuous numeric)  (continuous numeric)    \n",
    "\n",
    "####  <span style='font-family:Georgia'><span style='color:Blue'>True positive:</span>\n",
    "\n",
    "The sales after the ad are greater than before the ad's sales rejecting the null hypothesis and proving the null hypothesis as false (and the p-value is less than 5%).\n",
    "    \n",
    "####  <span style='font-family:Georgia'><span style='color:Blue'>True negative: </span>\n",
    "\n",
    "The sales after the ad are less than before the ad's sales reviews validating the null hypothesis and proving the null hypothesis as true (and the p-value is greater than 5%).\n",
    "    \n",
    "####  <span style='font-family:Georgia'><span style='color:Blue'>Type I errors:</span>\n",
    "\n",
    "We say the sales after the ad are greater than the previous website's reviews but they're not, they are actually less than before the ad. \n",
    "    \n",
    "    (p value is less than 0.05 but in reality there was less sales before the ad)\n",
    "\n",
    "\n",
    "(we reject the null hypothesis, but, in reality, the null hypothesis is true.)\n",
    "\n",
    "    \n",
    "####  <span style='font-family:Georgia'><span style='color:Blue'>Type II errors: </span>\n",
    "\n",
    "We say the sales after the ad are less than the before the ad but it was actually greater than before. \n",
    "    \n",
    "  (p value is greater than 0.05 and we say the sales after the ad are less but it actually was greater)\n",
    "\n",
    " (we fail to reject the null hypothesis when it is actually false.)"
   ]
  },
  {
   "cell_type": "markdown",
   "id": "fdafb64c",
   "metadata": {},
   "source": [
    "# T-Test Exercises\n",
    "\n",
    "    Ace Realty wants to determine whether the average time it takes to sell homes is different for its two offices. A sample of 40 sales from office #1 revealed a mean of 90 days and a standard deviation of 15 days. A sample of 50 sales from office #2 revealed a mean of 100 days and a standard deviation of 20 days. Use a .05 level of significance."
   ]
  },
  {
   "cell_type": "code",
   "execution_count": 381,
   "id": "afe3cea3",
   "metadata": {},
   "outputs": [],
   "source": [
    "import pandas as pd\n",
    "import matplotlib.pyplot as plt\n",
    "import numpy as np\n",
    "from pydataset import data\n",
    "from scipy import stats\n",
    "import seaborn as sns"
   ]
  },
  {
   "cell_type": "markdown",
   "id": "25031b11",
   "metadata": {},
   "source": [
    "#### <span style= 'color : Navy'> $H_{0}$: There is no differnece in average time it takes to sell homes at two offices.  \n",
    "#### <span style= 'color : Navy'>$H_{a}$: There is a differnece in average time it takes to sell homes at two offices.  \n",
    "</span>"
   ]
  },
  {
   "cell_type": "code",
   "execution_count": 174,
   "id": "546ae653",
   "metadata": {},
   "outputs": [],
   "source": [
    "alpha = 0.05\n",
    "\n",
    "stdev_office1 = 15\n",
    "\n",
    "office1_sales_sample = 40\n",
    "\n",
    "office1_sales_days_mean = 90\n",
    "\n",
    "office1_sales = np.random.normal(office1_sales_days_mean,stdev_office1, size=(office1_sales_sample)) \n"
   ]
  },
  {
   "cell_type": "code",
   "execution_count": 141,
   "id": "f93253c7",
   "metadata": {},
   "outputs": [],
   "source": [
    "stdev_office2 = 20\n",
    "\n",
    "office2_sales_sample = 50\n",
    "\n",
    "office2_sales_days_mean = 100\n",
    "\n",
    "office2_sales = np.random.normal(office2_sales_days_mean,stdev_office2, size=(office2_sales_sample) )\n"
   ]
  },
  {
   "cell_type": "code",
   "execution_count": 142,
   "id": "c813a1a9",
   "metadata": {},
   "outputs": [
    {
     "data": {
      "text/plain": [
       "(-2.165876097941915, 0.03308743246072445)"
      ]
     },
     "execution_count": 142,
     "metadata": {},
     "output_type": "execute_result"
    }
   ],
   "source": [
    "t, p = stats.ttest_ind(office1_sales, office2_sales, equal_var=False)\n",
    "\n",
    "t, p\n"
   ]
  },
  {
   "cell_type": "code",
   "execution_count": 143,
   "id": "4416400c",
   "metadata": {},
   "outputs": [
    {
     "data": {
      "text/plain": [
       "MannwhitneyuResult(statistic=769.0, pvalue=0.030627156594212196)"
      ]
     },
     "execution_count": 143,
     "metadata": {},
     "output_type": "execute_result"
    }
   ],
   "source": [
    "stats.mannwhitneyu(office1_sales, office2_sales)"
   ]
  },
  {
   "cell_type": "code",
   "execution_count": 144,
   "id": "bff4cd0f",
   "metadata": {},
   "outputs": [
    {
     "data": {
      "text/plain": [
       "True"
      ]
     },
     "execution_count": 144,
     "metadata": {},
     "output_type": "execute_result"
    }
   ],
   "source": [
    "p < alpha"
   ]
  },
  {
   "cell_type": "code",
   "execution_count": 145,
   "id": "b98121b7",
   "metadata": {},
   "outputs": [
    {
     "name": "stdout",
     "output_type": "stream",
     "text": [
      "Reject null hypothesis? True\n"
     ]
    }
   ],
   "source": [
    "print(\"Reject null hypothesis?\" , p<alpha)"
   ]
  },
  {
   "cell_type": "code",
   "execution_count": 146,
   "id": "e1aaac10",
   "metadata": {},
   "outputs": [
    {
     "name": "stdout",
     "output_type": "stream",
     "text": [
      "We fail to reject $H_{0}$ & t < 0\n"
     ]
    }
   ],
   "source": [
    "if p/2 > alpha:\n",
    "    print(\"We fail to reject $H_{0}$\")\n",
    "elif t < 0:\n",
    "    print(\"We fail to reject $H_{0}$ & t < 0\")\n",
    "else:\n",
    "    print(\"We reject $H_{0}$ \")"
   ]
  },
  {
   "cell_type": "markdown",
   "id": "b4273018",
   "metadata": {},
   "source": [
    "# Load the mpg dataset and use it to answer the following questions:\n",
    "\n",
    "1. Is there a difference in fuel-efficiency in cars from 2008 vs 1999?\n",
    "2. Are compact cars more fuel-efficient than the average car?\n",
    "3. Do manual cars get better gas mileage than automatic cars?"
   ]
  },
  {
   "cell_type": "code",
   "execution_count": 147,
   "id": "0b90b215",
   "metadata": {},
   "outputs": [],
   "source": [
    "df = data(\"mpg\")"
   ]
  },
  {
   "cell_type": "code",
   "execution_count": 148,
   "id": "8df4ac6f",
   "metadata": {},
   "outputs": [
    {
     "data": {
      "text/html": [
       "<div>\n",
       "<style scoped>\n",
       "    .dataframe tbody tr th:only-of-type {\n",
       "        vertical-align: middle;\n",
       "    }\n",
       "\n",
       "    .dataframe tbody tr th {\n",
       "        vertical-align: top;\n",
       "    }\n",
       "\n",
       "    .dataframe thead th {\n",
       "        text-align: right;\n",
       "    }\n",
       "</style>\n",
       "<table border=\"1\" class=\"dataframe\">\n",
       "  <thead>\n",
       "    <tr style=\"text-align: right;\">\n",
       "      <th></th>\n",
       "      <th>manufacturer</th>\n",
       "      <th>model</th>\n",
       "      <th>displ</th>\n",
       "      <th>year</th>\n",
       "      <th>cyl</th>\n",
       "      <th>trans</th>\n",
       "      <th>drv</th>\n",
       "      <th>cty</th>\n",
       "      <th>hwy</th>\n",
       "      <th>fl</th>\n",
       "      <th>class</th>\n",
       "    </tr>\n",
       "  </thead>\n",
       "  <tbody>\n",
       "    <tr>\n",
       "      <th>1</th>\n",
       "      <td>audi</td>\n",
       "      <td>a4</td>\n",
       "      <td>1.8</td>\n",
       "      <td>1999</td>\n",
       "      <td>4</td>\n",
       "      <td>auto(l5)</td>\n",
       "      <td>f</td>\n",
       "      <td>18</td>\n",
       "      <td>29</td>\n",
       "      <td>p</td>\n",
       "      <td>compact</td>\n",
       "    </tr>\n",
       "    <tr>\n",
       "      <th>2</th>\n",
       "      <td>audi</td>\n",
       "      <td>a4</td>\n",
       "      <td>1.8</td>\n",
       "      <td>1999</td>\n",
       "      <td>4</td>\n",
       "      <td>manual(m5)</td>\n",
       "      <td>f</td>\n",
       "      <td>21</td>\n",
       "      <td>29</td>\n",
       "      <td>p</td>\n",
       "      <td>compact</td>\n",
       "    </tr>\n",
       "    <tr>\n",
       "      <th>3</th>\n",
       "      <td>audi</td>\n",
       "      <td>a4</td>\n",
       "      <td>2.0</td>\n",
       "      <td>2008</td>\n",
       "      <td>4</td>\n",
       "      <td>manual(m6)</td>\n",
       "      <td>f</td>\n",
       "      <td>20</td>\n",
       "      <td>31</td>\n",
       "      <td>p</td>\n",
       "      <td>compact</td>\n",
       "    </tr>\n",
       "    <tr>\n",
       "      <th>4</th>\n",
       "      <td>audi</td>\n",
       "      <td>a4</td>\n",
       "      <td>2.0</td>\n",
       "      <td>2008</td>\n",
       "      <td>4</td>\n",
       "      <td>auto(av)</td>\n",
       "      <td>f</td>\n",
       "      <td>21</td>\n",
       "      <td>30</td>\n",
       "      <td>p</td>\n",
       "      <td>compact</td>\n",
       "    </tr>\n",
       "    <tr>\n",
       "      <th>5</th>\n",
       "      <td>audi</td>\n",
       "      <td>a4</td>\n",
       "      <td>2.8</td>\n",
       "      <td>1999</td>\n",
       "      <td>6</td>\n",
       "      <td>auto(l5)</td>\n",
       "      <td>f</td>\n",
       "      <td>16</td>\n",
       "      <td>26</td>\n",
       "      <td>p</td>\n",
       "      <td>compact</td>\n",
       "    </tr>\n",
       "  </tbody>\n",
       "</table>\n",
       "</div>"
      ],
      "text/plain": [
       "  manufacturer model  displ  year  cyl       trans drv  cty  hwy fl    class\n",
       "1         audi    a4    1.8  1999    4    auto(l5)   f   18   29  p  compact\n",
       "2         audi    a4    1.8  1999    4  manual(m5)   f   21   29  p  compact\n",
       "3         audi    a4    2.0  2008    4  manual(m6)   f   20   31  p  compact\n",
       "4         audi    a4    2.0  2008    4    auto(av)   f   21   30  p  compact\n",
       "5         audi    a4    2.8  1999    6    auto(l5)   f   16   26  p  compact"
      ]
     },
     "execution_count": 148,
     "metadata": {},
     "output_type": "execute_result"
    }
   ],
   "source": [
    "df.head()"
   ]
  },
  {
   "cell_type": "code",
   "execution_count": 149,
   "id": "e653de9e",
   "metadata": {},
   "outputs": [
    {
     "data": {
      "text/html": [
       "<div>\n",
       "<style scoped>\n",
       "    .dataframe tbody tr th:only-of-type {\n",
       "        vertical-align: middle;\n",
       "    }\n",
       "\n",
       "    .dataframe tbody tr th {\n",
       "        vertical-align: top;\n",
       "    }\n",
       "\n",
       "    .dataframe thead th {\n",
       "        text-align: right;\n",
       "    }\n",
       "</style>\n",
       "<table border=\"1\" class=\"dataframe\">\n",
       "  <thead>\n",
       "    <tr style=\"text-align: right;\">\n",
       "      <th></th>\n",
       "      <th>manufacturer</th>\n",
       "      <th>model</th>\n",
       "      <th>displ</th>\n",
       "      <th>year</th>\n",
       "      <th>cyl</th>\n",
       "      <th>trans</th>\n",
       "      <th>drv</th>\n",
       "      <th>cty</th>\n",
       "      <th>hwy</th>\n",
       "      <th>fl</th>\n",
       "      <th>class</th>\n",
       "      <th>avg_mpg</th>\n",
       "    </tr>\n",
       "  </thead>\n",
       "  <tbody>\n",
       "    <tr>\n",
       "      <th>1</th>\n",
       "      <td>audi</td>\n",
       "      <td>a4</td>\n",
       "      <td>1.8</td>\n",
       "      <td>1999</td>\n",
       "      <td>4</td>\n",
       "      <td>auto(l5)</td>\n",
       "      <td>f</td>\n",
       "      <td>18</td>\n",
       "      <td>29</td>\n",
       "      <td>p</td>\n",
       "      <td>compact</td>\n",
       "      <td>23.5</td>\n",
       "    </tr>\n",
       "    <tr>\n",
       "      <th>2</th>\n",
       "      <td>audi</td>\n",
       "      <td>a4</td>\n",
       "      <td>1.8</td>\n",
       "      <td>1999</td>\n",
       "      <td>4</td>\n",
       "      <td>manual(m5)</td>\n",
       "      <td>f</td>\n",
       "      <td>21</td>\n",
       "      <td>29</td>\n",
       "      <td>p</td>\n",
       "      <td>compact</td>\n",
       "      <td>25.0</td>\n",
       "    </tr>\n",
       "    <tr>\n",
       "      <th>3</th>\n",
       "      <td>audi</td>\n",
       "      <td>a4</td>\n",
       "      <td>2.0</td>\n",
       "      <td>2008</td>\n",
       "      <td>4</td>\n",
       "      <td>manual(m6)</td>\n",
       "      <td>f</td>\n",
       "      <td>20</td>\n",
       "      <td>31</td>\n",
       "      <td>p</td>\n",
       "      <td>compact</td>\n",
       "      <td>25.5</td>\n",
       "    </tr>\n",
       "    <tr>\n",
       "      <th>4</th>\n",
       "      <td>audi</td>\n",
       "      <td>a4</td>\n",
       "      <td>2.0</td>\n",
       "      <td>2008</td>\n",
       "      <td>4</td>\n",
       "      <td>auto(av)</td>\n",
       "      <td>f</td>\n",
       "      <td>21</td>\n",
       "      <td>30</td>\n",
       "      <td>p</td>\n",
       "      <td>compact</td>\n",
       "      <td>25.5</td>\n",
       "    </tr>\n",
       "    <tr>\n",
       "      <th>5</th>\n",
       "      <td>audi</td>\n",
       "      <td>a4</td>\n",
       "      <td>2.8</td>\n",
       "      <td>1999</td>\n",
       "      <td>6</td>\n",
       "      <td>auto(l5)</td>\n",
       "      <td>f</td>\n",
       "      <td>16</td>\n",
       "      <td>26</td>\n",
       "      <td>p</td>\n",
       "      <td>compact</td>\n",
       "      <td>21.0</td>\n",
       "    </tr>\n",
       "    <tr>\n",
       "      <th>...</th>\n",
       "      <td>...</td>\n",
       "      <td>...</td>\n",
       "      <td>...</td>\n",
       "      <td>...</td>\n",
       "      <td>...</td>\n",
       "      <td>...</td>\n",
       "      <td>...</td>\n",
       "      <td>...</td>\n",
       "      <td>...</td>\n",
       "      <td>...</td>\n",
       "      <td>...</td>\n",
       "      <td>...</td>\n",
       "    </tr>\n",
       "    <tr>\n",
       "      <th>230</th>\n",
       "      <td>volkswagen</td>\n",
       "      <td>passat</td>\n",
       "      <td>2.0</td>\n",
       "      <td>2008</td>\n",
       "      <td>4</td>\n",
       "      <td>auto(s6)</td>\n",
       "      <td>f</td>\n",
       "      <td>19</td>\n",
       "      <td>28</td>\n",
       "      <td>p</td>\n",
       "      <td>midsize</td>\n",
       "      <td>23.5</td>\n",
       "    </tr>\n",
       "    <tr>\n",
       "      <th>231</th>\n",
       "      <td>volkswagen</td>\n",
       "      <td>passat</td>\n",
       "      <td>2.0</td>\n",
       "      <td>2008</td>\n",
       "      <td>4</td>\n",
       "      <td>manual(m6)</td>\n",
       "      <td>f</td>\n",
       "      <td>21</td>\n",
       "      <td>29</td>\n",
       "      <td>p</td>\n",
       "      <td>midsize</td>\n",
       "      <td>25.0</td>\n",
       "    </tr>\n",
       "    <tr>\n",
       "      <th>232</th>\n",
       "      <td>volkswagen</td>\n",
       "      <td>passat</td>\n",
       "      <td>2.8</td>\n",
       "      <td>1999</td>\n",
       "      <td>6</td>\n",
       "      <td>auto(l5)</td>\n",
       "      <td>f</td>\n",
       "      <td>16</td>\n",
       "      <td>26</td>\n",
       "      <td>p</td>\n",
       "      <td>midsize</td>\n",
       "      <td>21.0</td>\n",
       "    </tr>\n",
       "    <tr>\n",
       "      <th>233</th>\n",
       "      <td>volkswagen</td>\n",
       "      <td>passat</td>\n",
       "      <td>2.8</td>\n",
       "      <td>1999</td>\n",
       "      <td>6</td>\n",
       "      <td>manual(m5)</td>\n",
       "      <td>f</td>\n",
       "      <td>18</td>\n",
       "      <td>26</td>\n",
       "      <td>p</td>\n",
       "      <td>midsize</td>\n",
       "      <td>22.0</td>\n",
       "    </tr>\n",
       "    <tr>\n",
       "      <th>234</th>\n",
       "      <td>volkswagen</td>\n",
       "      <td>passat</td>\n",
       "      <td>3.6</td>\n",
       "      <td>2008</td>\n",
       "      <td>6</td>\n",
       "      <td>auto(s6)</td>\n",
       "      <td>f</td>\n",
       "      <td>17</td>\n",
       "      <td>26</td>\n",
       "      <td>p</td>\n",
       "      <td>midsize</td>\n",
       "      <td>21.5</td>\n",
       "    </tr>\n",
       "  </tbody>\n",
       "</table>\n",
       "<p>234 rows × 12 columns</p>\n",
       "</div>"
      ],
      "text/plain": [
       "    manufacturer   model  displ  year  cyl       trans drv  cty  hwy fl  \\\n",
       "1           audi      a4    1.8  1999    4    auto(l5)   f   18   29  p   \n",
       "2           audi      a4    1.8  1999    4  manual(m5)   f   21   29  p   \n",
       "3           audi      a4    2.0  2008    4  manual(m6)   f   20   31  p   \n",
       "4           audi      a4    2.0  2008    4    auto(av)   f   21   30  p   \n",
       "5           audi      a4    2.8  1999    6    auto(l5)   f   16   26  p   \n",
       "..           ...     ...    ...   ...  ...         ...  ..  ...  ... ..   \n",
       "230   volkswagen  passat    2.0  2008    4    auto(s6)   f   19   28  p   \n",
       "231   volkswagen  passat    2.0  2008    4  manual(m6)   f   21   29  p   \n",
       "232   volkswagen  passat    2.8  1999    6    auto(l5)   f   16   26  p   \n",
       "233   volkswagen  passat    2.8  1999    6  manual(m5)   f   18   26  p   \n",
       "234   volkswagen  passat    3.6  2008    6    auto(s6)   f   17   26  p   \n",
       "\n",
       "       class  avg_mpg  \n",
       "1    compact     23.5  \n",
       "2    compact     25.0  \n",
       "3    compact     25.5  \n",
       "4    compact     25.5  \n",
       "5    compact     21.0  \n",
       "..       ...      ...  \n",
       "230  midsize     23.5  \n",
       "231  midsize     25.0  \n",
       "232  midsize     21.0  \n",
       "233  midsize     22.0  \n",
       "234  midsize     21.5  \n",
       "\n",
       "[234 rows x 12 columns]"
      ]
     },
     "execution_count": 149,
     "metadata": {},
     "output_type": "execute_result"
    }
   ],
   "source": [
    "df['avg_mpg'] = (df.cty + df.hwy)/2\n",
    "df"
   ]
  },
  {
   "cell_type": "markdown",
   "id": "9845b0ae",
   "metadata": {},
   "source": [
    "#### 1. Is there a difference in fuel-efficiency in cars from 2008 vs 1999?"
   ]
  },
  {
   "cell_type": "code",
   "execution_count": 150,
   "id": "95de1ff0",
   "metadata": {},
   "outputs": [
    {
     "data": {
      "text/plain": [
       "20.076923076923077"
      ]
     },
     "execution_count": 150,
     "metadata": {},
     "output_type": "execute_result"
    }
   ],
   "source": [
    "mpg_2008 = df[df.year == 2008].avg_mpg\n",
    "mpg_2008.mean()"
   ]
  },
  {
   "cell_type": "code",
   "execution_count": 151,
   "id": "4de2b787",
   "metadata": {},
   "outputs": [
    {
     "data": {
      "text/plain": [
       "20.22222222222222"
      ]
     },
     "execution_count": 151,
     "metadata": {},
     "output_type": "execute_result"
    }
   ],
   "source": [
    "mpg_1999 = df[df.year == 1999].avg_mpg\n",
    "mpg_1999.mean()"
   ]
  },
  {
   "cell_type": "markdown",
   "id": "63d8a8d6",
   "metadata": {},
   "source": [
    "#### <span style= 'color : Navy'> $H_{0}$: Average fuel efficiency in cars from 2008 equals fuel efficiency in cars from 1999.\n",
    "#### <span style= 'color : Navy'>$H_{a}$: Average fuel efficiency in cars from 2008 does not equal fuel efficiency in cars from 1999.  \n",
    "</span>"
   ]
  },
  {
   "cell_type": "code",
   "execution_count": 152,
   "id": "9b509c89",
   "metadata": {},
   "outputs": [
    {
     "data": {
      "text/plain": [
       "(-0.21960177245940962, 0.8263750772060638)"
      ]
     },
     "execution_count": 152,
     "metadata": {},
     "output_type": "execute_result"
    }
   ],
   "source": [
    "t, p = stats.ttest_ind(mpg_2008, mpg_1999, equal_var=False)\n",
    "\n",
    "t, p"
   ]
  },
  {
   "cell_type": "code",
   "execution_count": 153,
   "id": "6d580aea",
   "metadata": {},
   "outputs": [
    {
     "data": {
      "text/plain": [
       "MannwhitneyuResult(statistic=6678.5, pvalue=0.3744934268007572)"
      ]
     },
     "execution_count": 153,
     "metadata": {},
     "output_type": "execute_result"
    }
   ],
   "source": [
    "stats.mannwhitneyu(mpg_2008, mpg_1999)"
   ]
  },
  {
   "cell_type": "code",
   "execution_count": 154,
   "id": "bba482d9",
   "metadata": {},
   "outputs": [
    {
     "data": {
      "text/plain": [
       "False"
      ]
     },
     "execution_count": 154,
     "metadata": {},
     "output_type": "execute_result"
    }
   ],
   "source": [
    "p < alpha"
   ]
  },
  {
   "cell_type": "code",
   "execution_count": 155,
   "id": "2dc5afa0",
   "metadata": {},
   "outputs": [
    {
     "name": "stdout",
     "output_type": "stream",
     "text": [
      "Reject null hypothesis? False\n"
     ]
    }
   ],
   "source": [
    "print(\"Reject null hypothesis?\" , p<alpha)"
   ]
  },
  {
   "cell_type": "code",
   "execution_count": 175,
   "id": "8541865c",
   "metadata": {},
   "outputs": [
    {
     "name": "stdout",
     "output_type": "stream",
     "text": [
      "We reject $H_{0}$ \n"
     ]
    }
   ],
   "source": [
    "if p/2 > alpha:\n",
    "    print(\"We fail to reject $H_{0}$\")\n",
    "elif t < 0:\n",
    "    print(\"We fail to reject $H_{0}$ & t < 0\")\n",
    "else:\n",
    "    print(\"We reject $H_{0}$ \")"
   ]
  },
  {
   "cell_type": "markdown",
   "id": "bd12b57b",
   "metadata": {},
   "source": [
    "The average fuel equals the fuel efficiency in cars from 2008 and 1999. "
   ]
  },
  {
   "cell_type": "markdown",
   "id": "ba65b6aa",
   "metadata": {},
   "source": [
    "##### 2. Are compact cars more fuel-efficient than the average car?"
   ]
  },
  {
   "cell_type": "code",
   "execution_count": 157,
   "id": "2b6e34da",
   "metadata": {},
   "outputs": [],
   "source": [
    "df.rename(columns={\"class\": \"type\"},inplace=True)"
   ]
  },
  {
   "cell_type": "code",
   "execution_count": 158,
   "id": "01f017bc",
   "metadata": {},
   "outputs": [
    {
     "data": {
      "text/plain": [
       "24.21276595744681"
      ]
     },
     "execution_count": 158,
     "metadata": {},
     "output_type": "execute_result"
    }
   ],
   "source": [
    "mpg_compact = df[df.type == 'compact'].avg_mpg\n",
    "mpg_compact.mean()"
   ]
  },
  {
   "cell_type": "code",
   "execution_count": 160,
   "id": "d11cd5cb",
   "metadata": {},
   "outputs": [],
   "source": [
    "avg_mpg_mean = avg_mpg.mean()"
   ]
  },
  {
   "cell_type": "markdown",
   "id": "bf79fbf2",
   "metadata": {},
   "source": [
    "Comparing fuel economy 1 sub group vs all (1-sample , 1 tailed t-test)\n",
    "\n",
    "#### <span style= 'color : Navy'> $H_{0}$: Compact cars avg fuel efficiency is <= the overall avg cars fuel efficiency\n",
    "#### <span style= 'color : Navy'>$H_{a}$: Compact cars avg fuel efficiency is > to the overall avg cars fuel efficiency \n",
    "</span>\n",
    "\n",
    "For $H_{a}$ to be true, t> 0 and p/2 < 0.05"
   ]
  },
  {
   "cell_type": "code",
   "execution_count": 161,
   "id": "5990d709",
   "metadata": {},
   "outputs": [
    {
     "data": {
      "text/plain": [
       "(7.896888573132535, 4.1985637943171336e-10)"
      ]
     },
     "execution_count": 161,
     "metadata": {},
     "output_type": "execute_result"
    }
   ],
   "source": [
    "t, p = stats.ttest_1samp(mpg_compact,avg_mpg_mean)\n",
    "\n",
    "t, p"
   ]
  },
  {
   "cell_type": "code",
   "execution_count": 162,
   "id": "ad16795b",
   "metadata": {},
   "outputs": [
    {
     "data": {
      "text/plain": [
       "True"
      ]
     },
     "execution_count": 162,
     "metadata": {},
     "output_type": "execute_result"
    }
   ],
   "source": [
    "p < alpha"
   ]
  },
  {
   "cell_type": "code",
   "execution_count": 163,
   "id": "1238bb00",
   "metadata": {},
   "outputs": [
    {
     "name": "stdout",
     "output_type": "stream",
     "text": [
      "Reject null hypothesis? True\n"
     ]
    }
   ],
   "source": [
    "print(\"Reject null hypothesis?\" , p<alpha)"
   ]
  },
  {
   "cell_type": "code",
   "execution_count": 179,
   "id": "9d17028d",
   "metadata": {},
   "outputs": [
    {
     "name": "stdout",
     "output_type": "stream",
     "text": [
      "We reject $H_{0}$ \n"
     ]
    }
   ],
   "source": [
    "if p/2 > alpha:\n",
    "    print(\"We fail to reject $H_{0}$\")\n",
    "elif t < 0:\n",
    "    print(\"We fail to reject $H_{0}$ & t < 0\")\n",
    "else:\n",
    "    print(\"We reject $H_{0}$ \")"
   ]
  },
  {
   "cell_type": "markdown",
   "id": "19921562",
   "metadata": {},
   "source": [
    "Because p/2 < alpha, we reject the null hypothesis that there is no difference in fuel-efficiency"
   ]
  },
  {
   "cell_type": "markdown",
   "id": "a4daf2b5",
   "metadata": {},
   "source": [
    "#### 3. Do manual cars get better gas mileage than automatic cars?"
   ]
  },
  {
   "cell_type": "code",
   "execution_count": 165,
   "id": "9e92ddce",
   "metadata": {},
   "outputs": [
    {
     "data": {
      "text/plain": [
       "22.227272727272727"
      ]
     },
     "execution_count": 165,
     "metadata": {},
     "output_type": "execute_result"
    }
   ],
   "source": [
    "mpg_manual = df[df.trans.str.contains('manual')].avg_mpg\n",
    "mpg_manual.mean()"
   ]
  },
  {
   "cell_type": "code",
   "execution_count": 166,
   "id": "c783f412",
   "metadata": {},
   "outputs": [
    {
     "data": {
      "text/plain": [
       "19.130573248407643"
      ]
     },
     "execution_count": 166,
     "metadata": {},
     "output_type": "execute_result"
    }
   ],
   "source": [
    "mpg_auto= df[df.trans.str.contains('auto')].avg_mpg\n",
    "mpg_auto.mean()"
   ]
  },
  {
   "cell_type": "markdown",
   "id": "c504f9c9",
   "metadata": {},
   "source": [
    "# Hypothesis & Analysis\n",
    "\n",
    "2-sample, independent test. 1-tail. Looking at the right tail, looking for a test statistic that is > 0.\n",
    "\n",
    "To reject the null hypothesis, we need to see p/2 < alpha, .05, and test statistic > 0.\n",
    "\n",
    "#### <span style= 'color : Navy'> $H_{0}$: Manual cars fuel efficiency is <= the automatic cars fuel efficiency\n",
    "#### <span style= 'color : Navy'>$H_{a}$: Manual cars fuel efficiency is >  the automatic cars fuel efficiency \n",
    "</span>\n"
   ]
  },
  {
   "cell_type": "code",
   "execution_count": null,
   "id": "58cea36b",
   "metadata": {},
   "outputs": [],
   "source": [
    "#Let's run Levene's teset for equal variance\n",
    "# H_O: population variances are equal\n",
    "#H_A: poplutaion variancea are signicicatly differnt"
   ]
  },
  {
   "cell_type": "code",
   "execution_count": 182,
   "id": "2b352b5a",
   "metadata": {},
   "outputs": [
    {
     "data": {
      "text/plain": [
       "LeveneResult(statistic=0.20075824847529639, pvalue=0.6545276355131857)"
      ]
     },
     "execution_count": 182,
     "metadata": {},
     "output_type": "execute_result"
    }
   ],
   "source": [
    "stats.levene(mpg_auto, mpg_manual)"
   ]
  },
  {
   "cell_type": "markdown",
   "id": "7a2e9e2a",
   "metadata": {},
   "source": [
    "Cool, so we fail to reject H_O and can assume equal variances"
   ]
  },
  {
   "cell_type": "code",
   "execution_count": 167,
   "id": "86d9850d",
   "metadata": {},
   "outputs": [
    {
     "data": {
      "text/plain": [
       "(4.443514012903071, 1.795224899991793e-05)"
      ]
     },
     "execution_count": 167,
     "metadata": {},
     "output_type": "execute_result"
    }
   ],
   "source": [
    "t, p = stats.ttest_ind(mpg_manual,mpg_auto, equal_var=False)\n",
    "\n",
    "t, p"
   ]
  },
  {
   "cell_type": "code",
   "execution_count": 168,
   "id": "a7ba41cd",
   "metadata": {},
   "outputs": [
    {
     "data": {
      "text/plain": [
       "MannwhitneyuResult(statistic=3895.5, pvalue=4.9297998930308745e-06)"
      ]
     },
     "execution_count": 168,
     "metadata": {},
     "output_type": "execute_result"
    }
   ],
   "source": [
    "stats.mannwhitneyu(mpg_manual,mpg_auto)"
   ]
  },
  {
   "cell_type": "code",
   "execution_count": 184,
   "id": "aa94d891",
   "metadata": {},
   "outputs": [
    {
     "data": {
      "text/plain": [
       "True"
      ]
     },
     "execution_count": 184,
     "metadata": {},
     "output_type": "execute_result"
    }
   ],
   "source": [
    "p/2 < alpha"
   ]
  },
  {
   "cell_type": "markdown",
   "id": "63aad1f5",
   "metadata": {},
   "source": [
    "Becasue p/2  < alpha and t > 0, we reject the null hypothesis that manual is less or equal than automatic.  "
   ]
  },
  {
   "cell_type": "code",
   "execution_count": 185,
   "id": "870730de",
   "metadata": {},
   "outputs": [
    {
     "name": "stdout",
     "output_type": "stream",
     "text": [
      "Reject null hypothesis? True\n"
     ]
    }
   ],
   "source": [
    "print(\"Reject null hypothesis?\" , p/2<alpha)"
   ]
  },
  {
   "cell_type": "code",
   "execution_count": 186,
   "id": "2beb86de",
   "metadata": {},
   "outputs": [
    {
     "data": {
      "text/plain": [
       "<AxesSubplot:>"
      ]
     },
     "execution_count": 186,
     "metadata": {},
     "output_type": "execute_result"
    },
    {
     "data": {
      "image/png": "[encoded data removed]",
      "text/plain": [
       "<Figure size 432x288 with 1 Axes>"
      ]
     },
     "metadata": {
      "needs_background": "light"
     },
     "output_type": "display_data"
    }
   ],
   "source": [
    "mpg_manual.hist()"
   ]
  },
  {
   "cell_type": "code",
   "execution_count": 172,
   "id": "46760abb",
   "metadata": {},
   "outputs": [
    {
     "data": {
      "text/plain": [
       "<AxesSubplot:>"
      ]
     },
     "execution_count": 172,
     "metadata": {},
     "output_type": "execute_result"
    },
    {
     "data": {
      "image/png": "[encoded data removed]",
      "text/plain": [
       "<Figure size 432x288 with 1 Axes>"
      ]
     },
     "metadata": {
      "needs_background": "light"
     },
     "output_type": "display_data"
    }
   ],
   "source": [
    "mpg_auto.hist()"
   ]
  },
  {
   "cell_type": "code",
   "execution_count": 173,
   "id": "a7c41106",
   "metadata": {},
   "outputs": [
    {
     "name": "stdout",
     "output_type": "stream",
     "text": [
      "We reject $H_{0}$ \n"
     ]
    }
   ],
   "source": [
    "if p/2 > alpha:\n",
    "    print(\"We fail to reject $H_{0}$\")\n",
    "elif t < 0:\n",
    "    print(\"We fail to reject $H_{0}$ & t < 0\")\n",
    "else:\n",
    "    print(\"We reject $H_{0}$ \")"
   ]
  },
  {
   "cell_type": "code",
   "execution_count": 190,
   "id": "fe58ac2b",
   "metadata": {},
   "outputs": [],
   "source": [
    "#avg_mpg.groupby('trans').avg_mpg.mean().plot.bar()\n",
    "#plt.xticks(rotation=0)\n",
    "#plt.xlabel('')\n",
    "#plt.ylabel('Avg Mileage')\n",
    "#plt.title('Is mileage different by transmission type?')"
   ]
  },
  {
   "cell_type": "markdown",
   "id": "1d96d0f7",
   "metadata": {},
   "source": [
    "# Correlation Exercises\n",
    "\n",
    "### 1. Use the telco_churn data. Does tenure correlate with monthly charges? Total charges? What happens if you control for phone and internet service?\n"
   ]
  },
  {
   "cell_type": "markdown",
   "id": "fffa5664",
   "metadata": {},
   "source": [
    "## Hypothesis:\n",
    "\n",
    "#### <span style= 'color : Navy'> $H_{0}$: Customer tenure does not have a linear correlation to monthly charges \n",
    "#### <span style= 'color : Navy'>$H_{a}$: Customer tenure does have a linear correlation to monthly charges \n",
    "</span>"
   ]
  },
  {
   "cell_type": "code",
   "execution_count": 278,
   "id": "8c636f25",
   "metadata": {},
   "outputs": [],
   "source": [
    "df = pd.read_csv(\"Cust_Churn_Telco - Cust_Churn_Telco.csv\") "
   ]
  },
  {
   "cell_type": "code",
   "execution_count": 279,
   "id": "e74f8bc5",
   "metadata": {},
   "outputs": [
    {
     "data": {
      "text/html": [
       "<div>\n",
       "<style scoped>\n",
       "    .dataframe tbody tr th:only-of-type {\n",
       "        vertical-align: middle;\n",
       "    }\n",
       "\n",
       "    .dataframe tbody tr th {\n",
       "        vertical-align: top;\n",
       "    }\n",
       "\n",
       "    .dataframe thead th {\n",
       "        text-align: right;\n",
       "    }\n",
       "</style>\n",
       "<table border=\"1\" class=\"dataframe\">\n",
       "  <thead>\n",
       "    <tr style=\"text-align: right;\">\n",
       "      <th></th>\n",
       "      <th>customerID</th>\n",
       "      <th>gender</th>\n",
       "      <th>SeniorCitizen</th>\n",
       "      <th>Partner</th>\n",
       "      <th>Dependents</th>\n",
       "      <th>tenure</th>\n",
       "      <th>PhoneService</th>\n",
       "      <th>MultipleLines</th>\n",
       "      <th>InternetService</th>\n",
       "      <th>OnlineSecurity</th>\n",
       "      <th>...</th>\n",
       "      <th>DeviceProtection</th>\n",
       "      <th>TechSupport</th>\n",
       "      <th>StreamingTV</th>\n",
       "      <th>StreamingMovies</th>\n",
       "      <th>Contract</th>\n",
       "      <th>PaperlessBilling</th>\n",
       "      <th>PaymentMethod</th>\n",
       "      <th>MonthlyCharges</th>\n",
       "      <th>TotalCharges</th>\n",
       "      <th>Churn</th>\n",
       "    </tr>\n",
       "  </thead>\n",
       "  <tbody>\n",
       "    <tr>\n",
       "      <th>0</th>\n",
       "      <td>7590-VHVEG</td>\n",
       "      <td>Female</td>\n",
       "      <td>0</td>\n",
       "      <td>Yes</td>\n",
       "      <td>No</td>\n",
       "      <td>1</td>\n",
       "      <td>No</td>\n",
       "      <td>No phone service</td>\n",
       "      <td>DSL</td>\n",
       "      <td>No</td>\n",
       "      <td>...</td>\n",
       "      <td>No</td>\n",
       "      <td>No</td>\n",
       "      <td>No</td>\n",
       "      <td>No</td>\n",
       "      <td>Month-to-month</td>\n",
       "      <td>Yes</td>\n",
       "      <td>Electronic check</td>\n",
       "      <td>29.85</td>\n",
       "      <td>29.85</td>\n",
       "      <td>No</td>\n",
       "    </tr>\n",
       "    <tr>\n",
       "      <th>1</th>\n",
       "      <td>5575-GNVDE</td>\n",
       "      <td>Male</td>\n",
       "      <td>0</td>\n",
       "      <td>No</td>\n",
       "      <td>No</td>\n",
       "      <td>34</td>\n",
       "      <td>Yes</td>\n",
       "      <td>No</td>\n",
       "      <td>DSL</td>\n",
       "      <td>Yes</td>\n",
       "      <td>...</td>\n",
       "      <td>Yes</td>\n",
       "      <td>No</td>\n",
       "      <td>No</td>\n",
       "      <td>No</td>\n",
       "      <td>One year</td>\n",
       "      <td>No</td>\n",
       "      <td>Mailed check</td>\n",
       "      <td>56.95</td>\n",
       "      <td>1889.50</td>\n",
       "      <td>No</td>\n",
       "    </tr>\n",
       "    <tr>\n",
       "      <th>2</th>\n",
       "      <td>3668-QPYBK</td>\n",
       "      <td>Male</td>\n",
       "      <td>0</td>\n",
       "      <td>No</td>\n",
       "      <td>No</td>\n",
       "      <td>2</td>\n",
       "      <td>Yes</td>\n",
       "      <td>No</td>\n",
       "      <td>DSL</td>\n",
       "      <td>Yes</td>\n",
       "      <td>...</td>\n",
       "      <td>No</td>\n",
       "      <td>No</td>\n",
       "      <td>No</td>\n",
       "      <td>No</td>\n",
       "      <td>Month-to-month</td>\n",
       "      <td>Yes</td>\n",
       "      <td>Mailed check</td>\n",
       "      <td>53.85</td>\n",
       "      <td>108.15</td>\n",
       "      <td>Yes</td>\n",
       "    </tr>\n",
       "    <tr>\n",
       "      <th>3</th>\n",
       "      <td>7795-CFOCW</td>\n",
       "      <td>Male</td>\n",
       "      <td>0</td>\n",
       "      <td>No</td>\n",
       "      <td>No</td>\n",
       "      <td>45</td>\n",
       "      <td>No</td>\n",
       "      <td>No phone service</td>\n",
       "      <td>DSL</td>\n",
       "      <td>Yes</td>\n",
       "      <td>...</td>\n",
       "      <td>Yes</td>\n",
       "      <td>Yes</td>\n",
       "      <td>No</td>\n",
       "      <td>No</td>\n",
       "      <td>One year</td>\n",
       "      <td>No</td>\n",
       "      <td>Bank transfer (automatic)</td>\n",
       "      <td>42.30</td>\n",
       "      <td>1840.75</td>\n",
       "      <td>No</td>\n",
       "    </tr>\n",
       "    <tr>\n",
       "      <th>4</th>\n",
       "      <td>9237-HQITU</td>\n",
       "      <td>Female</td>\n",
       "      <td>0</td>\n",
       "      <td>No</td>\n",
       "      <td>No</td>\n",
       "      <td>2</td>\n",
       "      <td>Yes</td>\n",
       "      <td>No</td>\n",
       "      <td>Fiber optic</td>\n",
       "      <td>No</td>\n",
       "      <td>...</td>\n",
       "      <td>No</td>\n",
       "      <td>No</td>\n",
       "      <td>No</td>\n",
       "      <td>No</td>\n",
       "      <td>Month-to-month</td>\n",
       "      <td>Yes</td>\n",
       "      <td>Electronic check</td>\n",
       "      <td>70.70</td>\n",
       "      <td>151.65</td>\n",
       "      <td>Yes</td>\n",
       "    </tr>\n",
       "  </tbody>\n",
       "</table>\n",
       "<p>5 rows × 21 columns</p>\n",
       "</div>"
      ],
      "text/plain": [
       "   customerID  gender  SeniorCitizen Partner Dependents  tenure PhoneService  \\\n",
       "0  7590-VHVEG  Female              0     Yes         No       1           No   \n",
       "1  5575-GNVDE    Male              0      No         No      34          Yes   \n",
       "2  3668-QPYBK    Male              0      No         No       2          Yes   \n",
       "3  7795-CFOCW    Male              0      No         No      45           No   \n",
       "4  9237-HQITU  Female              0      No         No       2          Yes   \n",
       "\n",
       "      MultipleLines InternetService OnlineSecurity  ... DeviceProtection  \\\n",
       "0  No phone service             DSL             No  ...               No   \n",
       "1                No             DSL            Yes  ...              Yes   \n",
       "2                No             DSL            Yes  ...               No   \n",
       "3  No phone service             DSL            Yes  ...              Yes   \n",
       "4                No     Fiber optic             No  ...               No   \n",
       "\n",
       "  TechSupport StreamingTV StreamingMovies        Contract PaperlessBilling  \\\n",
       "0          No          No              No  Month-to-month              Yes   \n",
       "1          No          No              No        One year               No   \n",
       "2          No          No              No  Month-to-month              Yes   \n",
       "3         Yes          No              No        One year               No   \n",
       "4          No          No              No  Month-to-month              Yes   \n",
       "\n",
       "               PaymentMethod MonthlyCharges  TotalCharges  Churn  \n",
       "0           Electronic check          29.85         29.85     No  \n",
       "1               Mailed check          56.95       1889.50     No  \n",
       "2               Mailed check          53.85        108.15    Yes  \n",
       "3  Bank transfer (automatic)          42.30       1840.75     No  \n",
       "4           Electronic check          70.70        151.65    Yes  \n",
       "\n",
       "[5 rows x 21 columns]"
      ]
     },
     "execution_count": 279,
     "metadata": {},
     "output_type": "execute_result"
    }
   ],
   "source": [
    "df.head()"
   ]
  },
  {
   "cell_type": "code",
   "execution_count": 280,
   "id": "f23ddd00",
   "metadata": {},
   "outputs": [],
   "source": [
    "monthly_charges = df['MonthlyCharges']\n",
    "tenure = df['tenure']"
   ]
  },
  {
   "cell_type": "code",
   "execution_count": 365,
   "id": "655e575f",
   "metadata": {},
   "outputs": [
    {
     "data": {
      "text/plain": [
       "<AxesSubplot:>"
      ]
     },
     "execution_count": 365,
     "metadata": {},
     "output_type": "execute_result"
    },
    {
     "data": {
      "image/png": "[encoded data removed]",
      "text/plain": [
       "<Figure size 432x288 with 1 Axes>"
      ]
     },
     "metadata": {
      "needs_background": "light"
     },
     "output_type": "display_data"
    }
   ],
   "source": [
    "monthly_charges.hist()"
   ]
  },
  {
   "cell_type": "code",
   "execution_count": 281,
   "id": "73e173b7",
   "metadata": {},
   "outputs": [
    {
     "data": {
      "text/plain": [
       "(0.2478998562861525, 4.094044991483017e-99)"
      ]
     },
     "execution_count": 281,
     "metadata": {},
     "output_type": "execute_result"
    }
   ],
   "source": [
    "corr, p = stats.pearsonr(tenure, monthly_charges)\n",
    "corr, p"
   ]
  },
  {
   "cell_type": "code",
   "execution_count": 282,
   "id": "38a036dc",
   "metadata": {},
   "outputs": [],
   "source": [
    "alpha = 0.05\n",
    "\n",
    "null_hypothesis = \"Customer tenure does not have a linear correlation to monthly charges \"\n",
    "alt_hypothesis = \" Customer tenure does have a linear correlation to monthly charges\""
   ]
  },
  {
   "cell_type": "code",
   "execution_count": 283,
   "id": "6bdf1279",
   "metadata": {},
   "outputs": [
    {
     "name": "stdout",
     "output_type": "stream",
     "text": [
      "We reject the null hypothesis\n",
      "We falsified  Customer tenure does not have a linear correlation to monthly charges \n",
      "Evidence supports the  Customer tenure does have a linear correlation to monthly charges\n"
     ]
    }
   ],
   "source": [
    "if p < alpha:\n",
    "    print(\"We reject the null hypothesis\")\n",
    "    print(\"We falsified \", null_hypothesis)\n",
    "    print(\"Evidence supports the\", alt_hypothesis)\n",
    "    \n",
    "else:\n",
    "    print(\"We fail the reject the null hypothesis\")\n",
    "    print(\"There is no evidence to support the\", alt_hypothesis)"
   ]
  },
  {
   "cell_type": "code",
   "execution_count": 284,
   "id": "e1c7885e",
   "metadata": {},
   "outputs": [],
   "source": [
    "## 1. b Total charges? \n",
    "\n",
    "alpha = 0.05\n",
    "\n",
    "null_hypothesis = \"Customer tenure does not have a linear correlation to total charges \"\n",
    "alt_hypothesis = \" Customer tenure does have a linear correlation to total charges\""
   ]
  },
  {
   "cell_type": "code",
   "execution_count": 285,
   "id": "94227451",
   "metadata": {},
   "outputs": [],
   "source": [
    "bool_series = pd.notnull(df[\"TotalCharges\"])"
   ]
  },
  {
   "cell_type": "code",
   "execution_count": 286,
   "id": "22eefcdf",
   "metadata": {},
   "outputs": [],
   "source": [
    "df1 = df[bool_series]\n",
    "\n",
    "total_charges= df1['TotalCharges'] \n",
    "tenure = df1['tenure']\n"
   ]
  },
  {
   "cell_type": "code",
   "execution_count": 366,
   "id": "2c37c954",
   "metadata": {},
   "outputs": [
    {
     "data": {
      "text/plain": [
       "<AxesSubplot:>"
      ]
     },
     "execution_count": 366,
     "metadata": {},
     "output_type": "execute_result"
    },
    {
     "data": {
      "image/png": "[encoded data removed]",
      "text/plain": [
       "<Figure size 432x288 with 1 Axes>"
      ]
     },
     "metadata": {
      "needs_background": "light"
     },
     "output_type": "display_data"
    }
   ],
   "source": [
    "total_charges.hist()"
   ]
  },
  {
   "cell_type": "code",
   "execution_count": 287,
   "id": "0b0f4598",
   "metadata": {},
   "outputs": [
    {
     "data": {
      "text/plain": [
       "(0.8258804609332093, 0.0)"
      ]
     },
     "execution_count": 287,
     "metadata": {},
     "output_type": "execute_result"
    }
   ],
   "source": [
    "corr, p = stats.pearsonr(tenure, total_charges)\n",
    "corr, p"
   ]
  },
  {
   "cell_type": "code",
   "execution_count": 288,
   "id": "7ca6b0e5",
   "metadata": {},
   "outputs": [
    {
     "name": "stdout",
     "output_type": "stream",
     "text": [
      "We reject the null hypothesis\n",
      "We falsified  Customer tenure does not have a linear correlation to total charges \n",
      "Evidence supports the  Customer tenure does have a linear correlation to total charges\n"
     ]
    }
   ],
   "source": [
    "if p < alpha:\n",
    "    print(\"We reject the null hypothesis\")\n",
    "    print(\"We falsified \", null_hypothesis)\n",
    "    print(\"Evidence supports the\", alt_hypothesis)\n",
    "    \n",
    "else:\n",
    "    print(\"We fail the reject the null hypothesis\")\n",
    "    print(\"There is no evidence to support the\", alt_hypothesis)"
   ]
  },
  {
   "cell_type": "markdown",
   "id": "f97211c2",
   "metadata": {},
   "source": [
    "## 1.c.: What happens if you control for phone service?"
   ]
  },
  {
   "cell_type": "code",
   "execution_count": 317,
   "id": "966b392a",
   "metadata": {},
   "outputs": [],
   "source": [
    "alpha = 0.05\n",
    "\n",
    "null_hypothesis = \"Customer tenure does not have a linear correlation to total charges regardless of phone service\"\n",
    "alt_hypothesis = \" Customer tenure does have a linear correlation to total charges regardless of phone service\""
   ]
  },
  {
   "cell_type": "code",
   "execution_count": 318,
   "id": "fed6568b",
   "metadata": {},
   "outputs": [
    {
     "data": {
      "text/plain": [
       "0       False\n",
       "1        True\n",
       "2        True\n",
       "3       False\n",
       "4        True\n",
       "        ...  \n",
       "7038     True\n",
       "7039     True\n",
       "7040    False\n",
       "7041     True\n",
       "7042     True\n",
       "Name: PhoneService, Length: 7032, dtype: bool"
      ]
     },
     "execution_count": 318,
     "metadata": {},
     "output_type": "execute_result"
    }
   ],
   "source": [
    "has_phone_bool = df1.PhoneService == 'Yes'\n",
    "has_phone_bool"
   ]
  },
  {
   "cell_type": "code",
   "execution_count": 319,
   "id": "1ca4ee5f",
   "metadata": {},
   "outputs": [
    {
     "data": {
      "text/plain": [
       "6352"
      ]
     },
     "execution_count": 319,
     "metadata": {},
     "output_type": "execute_result"
    }
   ],
   "source": [
    "phone_customers = df1[has_phone_bool]\n",
    "total_charges_phone_customers = phone_customers.TotalCharges\n",
    "len(total_charges_phone_customers)"
   ]
  },
  {
   "cell_type": "code",
   "execution_count": 320,
   "id": "377479ce",
   "metadata": {},
   "outputs": [
    {
     "data": {
      "text/plain": [
       "6352"
      ]
     },
     "execution_count": 320,
     "metadata": {},
     "output_type": "execute_result"
    }
   ],
   "source": [
    "tenure = phone_customers.tenure\n",
    "len(tenure)"
   ]
  },
  {
   "cell_type": "code",
   "execution_count": 321,
   "id": "151f7833",
   "metadata": {},
   "outputs": [
    {
     "data": {
      "text/plain": [
       "(0.8298393210699477, 0.0)"
      ]
     },
     "execution_count": 321,
     "metadata": {},
     "output_type": "execute_result"
    }
   ],
   "source": [
    "corr, p = stats.pearsonr(tenure, total_charges_phone_customers)\n",
    "corr, p"
   ]
  },
  {
   "cell_type": "code",
   "execution_count": 322,
   "id": "c919b522",
   "metadata": {
    "scrolled": true
   },
   "outputs": [
    {
     "name": "stdout",
     "output_type": "stream",
     "text": [
      "We reject the null hypothesis\n",
      "We falsified  Customer tenure does not have a linear correlation to total charges regardless of phone service\n",
      "Evidence supports the  Customer tenure does have a linear correlation to total charges regardless of phone service\n"
     ]
    }
   ],
   "source": [
    "if p < alpha:\n",
    "    print(\"We reject the null hypothesis\")\n",
    "    print(\"We falsified \", null_hypothesis)\n",
    "    print(\"Evidence supports the\", alt_hypothesis)\n",
    "    \n",
    "else:\n",
    "    print(\"We fail the reject the null hypothesis\")\n",
    "    print(\"There is no evidence to support the\", alt_hypothesis)"
   ]
  },
  {
   "cell_type": "code",
   "execution_count": 323,
   "id": "11bd10e2",
   "metadata": {},
   "outputs": [],
   "source": [
    "## 1.c What happens if you control for internet service?\n",
    "\n",
    "alpha = 0.05\n",
    "\n",
    "null_hypothesis = \"Customer tenure does not have a linear correlation to total charges regardless of internet service\"\n",
    "alt_hypothesis = \" Customer tenure does have a linear correlation to total charges regardless of internet service\""
   ]
  },
  {
   "cell_type": "code",
   "execution_count": 325,
   "id": "ed7320f3",
   "metadata": {},
   "outputs": [
    {
     "data": {
      "text/plain": [
       "0       False\n",
       "1       False\n",
       "2       False\n",
       "3       False\n",
       "4       False\n",
       "        ...  \n",
       "7038    False\n",
       "7039    False\n",
       "7040    False\n",
       "7041    False\n",
       "7042    False\n",
       "Name: InternetService, Length: 7032, dtype: bool"
      ]
     },
     "execution_count": 325,
     "metadata": {},
     "output_type": "execute_result"
    }
   ],
   "source": [
    "has_internet_bool = df1.InternetService == 'No'\n",
    "has_internet_bool"
   ]
  },
  {
   "cell_type": "code",
   "execution_count": 326,
   "id": "e3c512fe",
   "metadata": {},
   "outputs": [
    {
     "data": {
      "text/plain": [
       "1520"
      ]
     },
     "execution_count": 326,
     "metadata": {},
     "output_type": "execute_result"
    }
   ],
   "source": [
    "internet_customers = df1[has_internet_bool]\n",
    "total_charges_internet_customers = internet_customers.TotalCharges\n",
    "len(total_charges_internet_customers)"
   ]
  },
  {
   "cell_type": "code",
   "execution_count": 327,
   "id": "681004a5",
   "metadata": {},
   "outputs": [
    {
     "data": {
      "text/plain": [
       "1520"
      ]
     },
     "execution_count": 327,
     "metadata": {},
     "output_type": "execute_result"
    }
   ],
   "source": [
    "tenure = internet_customers.tenure\n",
    "len(tenure)"
   ]
  },
  {
   "cell_type": "code",
   "execution_count": 328,
   "id": "2eaa3a26",
   "metadata": {},
   "outputs": [
    {
     "data": {
      "text/plain": [
       "(0.9814648859044319, 0.0)"
      ]
     },
     "execution_count": 328,
     "metadata": {},
     "output_type": "execute_result"
    }
   ],
   "source": [
    "corr, p = stats.pearsonr(tenure, total_charges_internet_customers)\n",
    "corr, p"
   ]
  },
  {
   "cell_type": "code",
   "execution_count": 329,
   "id": "142b98c4",
   "metadata": {},
   "outputs": [
    {
     "name": "stdout",
     "output_type": "stream",
     "text": [
      "We reject the null hypothesis\n",
      "We falsified  Customer tenure does not have a linear correlation to total charges regardless of internet service\n",
      "Evidence supports the  Customer tenure does have a linear correlation to total charges regardless of internet service\n"
     ]
    }
   ],
   "source": [
    "if p < alpha:\n",
    "    print(\"We reject the null hypothesis\")\n",
    "    print(\"We falsified \", null_hypothesis)\n",
    "    print(\"Evidence supports the\", alt_hypothesis)\n",
    "    \n",
    "else:\n",
    "    print(\"We fail the reject the null hypothesis\")\n",
    "    print(\"There is no evidence to support the\", alt_hypothesis)"
   ]
  },
  {
   "cell_type": "markdown",
   "id": "f51c1923",
   "metadata": {},
   "source": [
    "## 2. Use the employees database.\n",
    "    Is there a relationship between how long an employee has been with the company and their salary?"
   ]
  },
  {
   "cell_type": "code",
   "execution_count": 330,
   "id": "d0f5e8a3",
   "metadata": {},
   "outputs": [],
   "source": [
    "from env import host, user, password"
   ]
  },
  {
   "cell_type": "code",
   "execution_count": 331,
   "id": "20f3c22a",
   "metadata": {},
   "outputs": [],
   "source": [
    "def get_db_url(host, user, password, database):\n",
    "        \n",
    "    url = f'mysql+pymysql://{user}:{password}@{host}/{database}'\n",
    "    \n",
    "    return url"
   ]
  },
  {
   "cell_type": "code",
   "execution_count": 336,
   "id": "9ca2997c",
   "metadata": {},
   "outputs": [],
   "source": [
    "query = \"SELECT employees.emp_no, IF (salaries.to_date = '9999-01-01', NOW() - employees.hire_date, salaries.to_date - employees.hire_date) as Tenure, salaries.salary FROM employees JOIN salaries  ON employees.emp_no = salaries.emp_no WHERE salaries.to_date = ( SELECT MAX(salaries.to_date) FROM salaries);\""
   ]
  },
  {
   "cell_type": "code",
   "execution_count": 360,
   "id": "bcf7069a",
   "metadata": {},
   "outputs": [],
   "source": [
    "df = pd.read_sql(query, get_db_url(host,user, password, 'employees'))"
   ]
  },
  {
   "cell_type": "code",
   "execution_count": 361,
   "id": "f09ff90e",
   "metadata": {},
   "outputs": [
    {
     "data": {
      "text/plain": [
       "pandas.core.frame.DataFrame"
      ]
     },
     "execution_count": 361,
     "metadata": {},
     "output_type": "execute_result"
    }
   ],
   "source": [
    "type(df)"
   ]
  },
  {
   "cell_type": "code",
   "execution_count": 362,
   "id": "0cf655ce",
   "metadata": {},
   "outputs": [
    {
     "data": {
      "text/plain": [
       "2844047"
      ]
     },
     "execution_count": 362,
     "metadata": {},
     "output_type": "execute_result"
    }
   ],
   "source": [
    "len(df)"
   ]
  },
  {
   "cell_type": "code",
   "execution_count": 347,
   "id": "fbb651cf",
   "metadata": {},
   "outputs": [],
   "source": [
    "tenure = df['Tenure']"
   ]
  },
  {
   "cell_type": "code",
   "execution_count": 348,
   "id": "a3597c0d",
   "metadata": {},
   "outputs": [],
   "source": [
    "salaries = df['salary']"
   ]
  },
  {
   "cell_type": "code",
   "execution_count": 349,
   "id": "7addfbdd",
   "metadata": {},
   "outputs": [],
   "source": [
    "\n",
    "alpha = 0.05\n",
    "\n",
    "null_hypothesis = \"Employee salary does not have a linear correlation to employee tenure\"\n",
    "alt_hypothesis = \"Employee salary does have a linear correlation to employee tenure\""
   ]
  },
  {
   "cell_type": "code",
   "execution_count": 350,
   "id": "b8972259",
   "metadata": {},
   "outputs": [
    {
     "data": {
      "text/plain": [
       "(0.30542132282036777, 0.0)"
      ]
     },
     "execution_count": 350,
     "metadata": {},
     "output_type": "execute_result"
    }
   ],
   "source": [
    "corr, p = stats.pearsonr(tenure, salaries)\n",
    "corr, p"
   ]
  },
  {
   "cell_type": "code",
   "execution_count": 351,
   "id": "078f3e6c",
   "metadata": {},
   "outputs": [
    {
     "name": "stdout",
     "output_type": "stream",
     "text": [
      "We reject the null hypothesis\n",
      "We falsified  Employee salary does not have a linear correlation to employee tenure\n",
      "Evidence supports the Employee salary does have a linear correlation to employee tenure\n"
     ]
    }
   ],
   "source": [
    "if p < alpha:\n",
    "    print(\"We reject the null hypothesis\")\n",
    "    print(\"We falsified \", null_hypothesis)\n",
    "    print(\"Evidence supports the\", alt_hypothesis)\n",
    "    \n",
    "else:\n",
    "    print(\"We fail the reject the null hypothesis\")\n",
    "    print(\"There is no evidence to support the\", alt_hypothesis)"
   ]
  },
  {
   "cell_type": "code",
   "execution_count": 352,
   "id": "ae8cbe83",
   "metadata": {},
   "outputs": [],
   "source": [
    "query = \"Select employees.emp_no,salaries.salary,CASE WHEN salaries.to_date = '9999-01-01'  THEN NOW() - employees.hire_date WHEN salaries.to_date != '9999-01-01' THEN salaries.to_date - employees.hire_date  END AS Tenure FROM employees JOIN salaries  ON employees.emp_no = salaries.emp_no;\""
   ]
  },
  {
   "cell_type": "code",
   "execution_count": 353,
   "id": "a7299a30",
   "metadata": {},
   "outputs": [],
   "source": [
    "df = pd.read_sql(query, get_db_url(host,user, password, 'employees'))"
   ]
  },
  {
   "cell_type": "code",
   "execution_count": 354,
   "id": "fe364132",
   "metadata": {},
   "outputs": [
    {
     "data": {
      "text/plain": [
       "2844047"
      ]
     },
     "execution_count": 354,
     "metadata": {},
     "output_type": "execute_result"
    }
   ],
   "source": [
    "len(df)"
   ]
  },
  {
   "cell_type": "code",
   "execution_count": 355,
   "id": "b28accd9",
   "metadata": {},
   "outputs": [],
   "source": [
    "tenure = df['Tenure']"
   ]
  },
  {
   "cell_type": "code",
   "execution_count": 356,
   "id": "c45b5d27",
   "metadata": {},
   "outputs": [],
   "source": [
    "salaries = df['salary']"
   ]
  },
  {
   "cell_type": "code",
   "execution_count": 357,
   "id": "0002b377",
   "metadata": {},
   "outputs": [],
   "source": [
    "\n",
    "alpha = 0.05\n",
    "\n",
    "null_hypothesis = \"Employee salary does not have a linear correlation to employee tenure\"\n",
    "alt_hypothesis = \"Employee salary does have a linear correlation to employee tenure\""
   ]
  },
  {
   "cell_type": "code",
   "execution_count": 358,
   "id": "c008fac6",
   "metadata": {},
   "outputs": [
    {
     "data": {
      "text/plain": [
       "(0.147328162869929, 0.0)"
      ]
     },
     "execution_count": 358,
     "metadata": {},
     "output_type": "execute_result"
    }
   ],
   "source": [
    "corr, p = stats.pearsonr(tenure, salaries)\n",
    "corr, p"
   ]
  },
  {
   "cell_type": "code",
   "execution_count": 359,
   "id": "03f4090a",
   "metadata": {},
   "outputs": [
    {
     "name": "stdout",
     "output_type": "stream",
     "text": [
      "We reject the null hypothesis\n",
      "We falsified  Employee salary does not have a linear correlation to employee tenure\n",
      "Evidence supports the Employee salary does have a linear correlation to employee tenure\n"
     ]
    }
   ],
   "source": [
    "if p < alpha:\n",
    "    print(\"We reject the null hypothesis\")\n",
    "    print(\"We falsified \", null_hypothesis)\n",
    "    print(\"Evidence supports the\", alt_hypothesis)\n",
    "    \n",
    "else:\n",
    "    print(\"We fail the reject the null hypothesis\")\n",
    "    print(\"There is no evidence to support the\", alt_hypothesis)"
   ]
  },
  {
   "cell_type": "markdown",
   "id": "94ef6d61",
   "metadata": {},
   "source": [
    "### 2. b. -  Is there a relationship between how long an employee has been with the company and the number of titles they have had?"
   ]
  },
  {
   "cell_type": "code",
   "execution_count": 370,
   "id": "6315e1f9",
   "metadata": {},
   "outputs": [],
   "source": [
    "query = \"select emp_no, count(title) as title_count, datediff(curdate(), hire_date) as days_on_job from employees join titles using(emp_no) group by emp_no;\""
   ]
  },
  {
   "cell_type": "code",
   "execution_count": 371,
   "id": "e201593b",
   "metadata": {},
   "outputs": [],
   "source": [
    "df = pd.read_sql(query, get_db_url(host,user, password, 'employees'))"
   ]
  },
  {
   "cell_type": "code",
   "execution_count": 372,
   "id": "1c84cec9",
   "metadata": {},
   "outputs": [
    {
     "data": {
      "text/plain": [
       "300024"
      ]
     },
     "execution_count": 372,
     "metadata": {},
     "output_type": "execute_result"
    }
   ],
   "source": [
    "len(df)"
   ]
  },
  {
   "cell_type": "code",
   "execution_count": 374,
   "id": "ecaff9d1",
   "metadata": {},
   "outputs": [
    {
     "data": {
      "text/html": [
       "<div>\n",
       "<style scoped>\n",
       "    .dataframe tbody tr th:only-of-type {\n",
       "        vertical-align: middle;\n",
       "    }\n",
       "\n",
       "    .dataframe tbody tr th {\n",
       "        vertical-align: top;\n",
       "    }\n",
       "\n",
       "    .dataframe thead th {\n",
       "        text-align: right;\n",
       "    }\n",
       "</style>\n",
       "<table border=\"1\" class=\"dataframe\">\n",
       "  <thead>\n",
       "    <tr style=\"text-align: right;\">\n",
       "      <th></th>\n",
       "      <th>emp_no</th>\n",
       "      <th>title_count</th>\n",
       "      <th>days_on_job</th>\n",
       "    </tr>\n",
       "  </thead>\n",
       "  <tbody>\n",
       "    <tr>\n",
       "      <th>0</th>\n",
       "      <td>10001</td>\n",
       "      <td>1</td>\n",
       "      <td>12829</td>\n",
       "    </tr>\n",
       "    <tr>\n",
       "      <th>1</th>\n",
       "      <td>10002</td>\n",
       "      <td>1</td>\n",
       "      <td>13046</td>\n",
       "    </tr>\n",
       "    <tr>\n",
       "      <th>2</th>\n",
       "      <td>10003</td>\n",
       "      <td>1</td>\n",
       "      <td>12766</td>\n",
       "    </tr>\n",
       "    <tr>\n",
       "      <th>3</th>\n",
       "      <td>10004</td>\n",
       "      <td>2</td>\n",
       "      <td>12671</td>\n",
       "    </tr>\n",
       "    <tr>\n",
       "      <th>4</th>\n",
       "      <td>10005</td>\n",
       "      <td>2</td>\n",
       "      <td>11655</td>\n",
       "    </tr>\n",
       "    <tr>\n",
       "      <th>...</th>\n",
       "      <td>...</td>\n",
       "      <td>...</td>\n",
       "      <td>...</td>\n",
       "    </tr>\n",
       "    <tr>\n",
       "      <th>300019</th>\n",
       "      <td>499995</td>\n",
       "      <td>1</td>\n",
       "      <td>10437</td>\n",
       "    </tr>\n",
       "    <tr>\n",
       "      <th>300020</th>\n",
       "      <td>499996</td>\n",
       "      <td>2</td>\n",
       "      <td>11275</td>\n",
       "    </tr>\n",
       "    <tr>\n",
       "      <th>300021</th>\n",
       "      <td>499997</td>\n",
       "      <td>2</td>\n",
       "      <td>12895</td>\n",
       "    </tr>\n",
       "    <tr>\n",
       "      <th>300022</th>\n",
       "      <td>499998</td>\n",
       "      <td>2</td>\n",
       "      <td>10163</td>\n",
       "    </tr>\n",
       "    <tr>\n",
       "      <th>300023</th>\n",
       "      <td>499999</td>\n",
       "      <td>1</td>\n",
       "      <td>8654</td>\n",
       "    </tr>\n",
       "  </tbody>\n",
       "</table>\n",
       "<p>300024 rows × 3 columns</p>\n",
       "</div>"
      ],
      "text/plain": [
       "        emp_no  title_count  days_on_job\n",
       "0        10001            1        12829\n",
       "1        10002            1        13046\n",
       "2        10003            1        12766\n",
       "3        10004            2        12671\n",
       "4        10005            2        11655\n",
       "...        ...          ...          ...\n",
       "300019  499995            1        10437\n",
       "300020  499996            2        11275\n",
       "300021  499997            2        12895\n",
       "300022  499998            2        10163\n",
       "300023  499999            1         8654\n",
       "\n",
       "[300024 rows x 3 columns]"
      ]
     },
     "execution_count": 374,
     "metadata": {},
     "output_type": "execute_result"
    }
   ],
   "source": [
    "df"
   ]
  },
  {
   "cell_type": "code",
   "execution_count": 375,
   "id": "1222c9af",
   "metadata": {},
   "outputs": [],
   "source": [
    "tenure = df['days_on_job']\n",
    "title_count = df['title_count']"
   ]
  },
  {
   "cell_type": "code",
   "execution_count": 376,
   "id": "2c22c449",
   "metadata": {},
   "outputs": [],
   "source": [
    "\n",
    "alpha = 0.05\n",
    "\n",
    "null_hypothesis = \"Employee salary does not have a linear correlation to employee tenure\"\n",
    "alt_hypothesis = \"Employee salary does have a linear correlation to employee tenure\""
   ]
  },
  {
   "cell_type": "code",
   "execution_count": 377,
   "id": "95a8046e",
   "metadata": {},
   "outputs": [
    {
     "data": {
      "text/plain": [
       "(0.2665989299136427, 0.0)"
      ]
     },
     "execution_count": 377,
     "metadata": {},
     "output_type": "execute_result"
    }
   ],
   "source": [
    "corr, p = stats.pearsonr(tenure, title_count)\n",
    "corr, p"
   ]
  },
  {
   "cell_type": "code",
   "execution_count": 378,
   "id": "c165ed0e",
   "metadata": {},
   "outputs": [
    {
     "name": "stdout",
     "output_type": "stream",
     "text": [
      "We reject the null hypothesis\n",
      "We falsified  Employee salary does not have a linear correlation to employee tenure\n",
      "Evidence supports the Employee salary does have a linear correlation to employee tenure\n"
     ]
    }
   ],
   "source": [
    "if p < alpha:\n",
    "    print(\"We reject the null hypothesis\")\n",
    "    print(\"We falsified \", null_hypothesis)\n",
    "    print(\"Evidence supports the\", alt_hypothesis)\n",
    "    \n",
    "else:\n",
    "    print(\"We fail the reject the null hypothesis\")\n",
    "    print(\"There is no evidence to support the\", alt_hypothesis)"
   ]
  },
  {
   "cell_type": "markdown",
   "id": "7dd83836",
   "metadata": {},
   "source": [
    "### 3. Use the sleepstudy data. Is there a relationship between days and reaction time?"
   ]
  },
  {
   "cell_type": "code",
   "execution_count": 379,
   "id": "c612f7b4",
   "metadata": {},
   "outputs": [
    {
     "data": {
      "text/html": [
       "<div>\n",
       "<style scoped>\n",
       "    .dataframe tbody tr th:only-of-type {\n",
       "        vertical-align: middle;\n",
       "    }\n",
       "\n",
       "    .dataframe tbody tr th {\n",
       "        vertical-align: top;\n",
       "    }\n",
       "\n",
       "    .dataframe thead th {\n",
       "        text-align: right;\n",
       "    }\n",
       "</style>\n",
       "<table border=\"1\" class=\"dataframe\">\n",
       "  <thead>\n",
       "    <tr style=\"text-align: right;\">\n",
       "      <th></th>\n",
       "      <th>Reaction</th>\n",
       "      <th>Days</th>\n",
       "      <th>Subject</th>\n",
       "    </tr>\n",
       "  </thead>\n",
       "  <tbody>\n",
       "    <tr>\n",
       "      <th>1</th>\n",
       "      <td>249.5600</td>\n",
       "      <td>0</td>\n",
       "      <td>308</td>\n",
       "    </tr>\n",
       "    <tr>\n",
       "      <th>2</th>\n",
       "      <td>258.7047</td>\n",
       "      <td>1</td>\n",
       "      <td>308</td>\n",
       "    </tr>\n",
       "    <tr>\n",
       "      <th>3</th>\n",
       "      <td>250.8006</td>\n",
       "      <td>2</td>\n",
       "      <td>308</td>\n",
       "    </tr>\n",
       "    <tr>\n",
       "      <th>4</th>\n",
       "      <td>321.4398</td>\n",
       "      <td>3</td>\n",
       "      <td>308</td>\n",
       "    </tr>\n",
       "    <tr>\n",
       "      <th>5</th>\n",
       "      <td>356.8519</td>\n",
       "      <td>4</td>\n",
       "      <td>308</td>\n",
       "    </tr>\n",
       "  </tbody>\n",
       "</table>\n",
       "</div>"
      ],
      "text/plain": [
       "   Reaction  Days  Subject\n",
       "1  249.5600     0      308\n",
       "2  258.7047     1      308\n",
       "3  250.8006     2      308\n",
       "4  321.4398     3      308\n",
       "5  356.8519     4      308"
      ]
     },
     "execution_count": 379,
     "metadata": {},
     "output_type": "execute_result"
    }
   ],
   "source": [
    "from pydataset import data\n",
    "df = data(\"sleepstudy\")\n",
    "df.head()"
   ]
  },
  {
   "cell_type": "code",
   "execution_count": 382,
   "id": "da988558",
   "metadata": {},
   "outputs": [
    {
     "data": {
      "text/plain": [
       "<AxesSubplot:xlabel='Days', ylabel='Reaction'>"
      ]
     },
     "execution_count": 382,
     "metadata": {},
     "output_type": "execute_result"
    },
    {
     "data": {
      "image/png": "[encoded data removed]",
      "text/plain": [
       "<Figure size 432x288 with 1 Axes>"
      ]
     },
     "metadata": {
      "needs_background": "light"
     },
     "output_type": "display_data"
    }
   ],
   "source": [
    "sns.scatterplot(x=\"Days\", y=\"Reaction\", data=df)"
   ]
  },
  {
   "cell_type": "code",
   "execution_count": 383,
   "id": "c17f718d",
   "metadata": {},
   "outputs": [
    {
     "name": "stdout",
     "output_type": "stream",
     "text": [
      "We reject the null hypothesis\n"
     ]
    },
    {
     "data": {
      "text/plain": [
       "(0.5352302262650253, 9.894096322214812e-15)"
      ]
     },
     "execution_count": 383,
     "metadata": {},
     "output_type": "execute_result"
    }
   ],
   "source": [
    "corr, p = stats.pearsonr(df.Days, df.Reaction)\n",
    "\n",
    "if p < alpha:\n",
    "    print(\"We reject the null hypothesis\")\n",
    "else:\n",
    "    print(\"We fail to reject the null hypothesis\")\n",
    "\n",
    "corr, p"
   ]
  },
  {
   "cell_type": "code",
   "execution_count": null,
   "id": "ae089071",
   "metadata": {},
   "outputs": [],
   "source": []
  }
 ],
 "metadata": {
  "kernelspec": {
   "display_name": "Python 3",
   "language": "python",
   "name": "python3"
  },
  "language_info": {
   "codemirror_mode": {
    "name": "ipython",
    "version": 3
   },
   "file_extension": ".py",
   "mimetype": "text/x-python",
   "name": "python",
   "nbconvert_exporter": "python",
   "pygments_lexer": "ipython3",
   "version": "3.8.8"
  }
 },
 "nbformat": 4,
 "nbformat_minor": 5
}
