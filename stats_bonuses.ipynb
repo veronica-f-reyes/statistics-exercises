{
 "cells": [
  {
   "cell_type": "markdown",
   "id": "7466d3aa",
   "metadata": {},
   "source": [
    "### Mage Duel!\n",
    "\n",
    "Let's use what we've learned to play a mage duel!\n",
    "\n",
    "Imagine your wizard has 6d4 health points and you have spells that do 6d4 damage. \"6d4\" means rolling six 4-sided dice and summing the result.\n",
    "\n",
    "Your opposing mage has 4d6 health points and spells that do 4d6. \"4d6\" means rolling four six-sided dice and summing the result.\n",
    "\n",
    "Exercises\n",
    "\n",
    "Simulate mage duels to answer who is the more powerful mage?\n",
    "\n",
    "Before running simulations, do you have a hypothesis of which mage will win? Do you have a hunch? Write it down. This is your first exercise.\n",
    "Simulate 10 mage duels. Is there a clear winner? Run that 10 duel simulation again. Was the answer similar?\n",
    "Do the results change much at 100 duels?\n",
    "Now, simulate 10,000 mage duels. Is there a clear winner?"
   ]
  },
  {
   "cell_type": "code",
   "execution_count": 2,
   "id": "7741f32f",
   "metadata": {},
   "outputs": [],
   "source": [
    "import numpy as np\n",
    "import pandas as pd"
   ]
  },
  {
   "cell_type": "code",
   "execution_count": 4,
   "id": "88a572b5",
   "metadata": {},
   "outputs": [
    {
     "data": {
      "text/plain": [
       "0.1"
      ]
     },
     "execution_count": 4,
     "metadata": {},
     "output_type": "execute_result"
    }
   ],
   "source": [
    "outcomes_six_d_four = [1,2,3,4]\n",
    "outcomes_four_d_six = [1,2,3,4,5,6]\n",
    "\n",
    "n_simulations = 10\n",
    "n_trials_six_d_four = 6\n",
    "n_trials_four_d_six = 4\n",
    "\n",
    "six_d_four_rolls = np.random.choice(outcomes_six_d_four, size=(n_simulations, 1))\n",
    "\n",
    "four_d_six_rolls = np.random.choice(outcomes_four_d_six, size=(n_simulations, 1))\n",
    "\n",
    "\n",
    "\n",
    "(six_d_four_rolls > four_d_six_rolls).mean()"
   ]
  },
  {
   "cell_type": "code",
   "execution_count": null,
   "id": "8162b44a",
   "metadata": {},
   "outputs": [],
   "source": []
  }
 ],
 "metadata": {
  "kernelspec": {
   "display_name": "Python 3",
   "language": "python",
   "name": "python3"
  },
  "language_info": {
   "codemirror_mode": {
    "name": "ipython",
    "version": 3
   },
   "file_extension": ".py",
   "mimetype": "text/x-python",
   "name": "python",
   "nbconvert_exporter": "python",
   "pygments_lexer": "ipython3",
   "version": "3.8.8"
  }
 },
 "nbformat": 4,
 "nbformat_minor": 5
}
